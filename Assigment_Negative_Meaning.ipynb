{
 "cells": [
  {
   "cell_type": "markdown",
   "metadata": {},
   "source": [
    "# Define a function to take a word and return negative meaning. \n",
    "* Given a word, return a new word where \"not \" has been added to the front. However, if the word already begins with \"not\", return the string unchanged.\n",
    "\n",
    "* For example:\n",
    "* Test\tResult\n",
    "* print(not_string('sugar'))     not sugar\n",
    "* print(not_string('x'))         not x\n",
    "* print(not_string('not bad')     not bad"
   ]
  },
  {
   "cell_type": "code",
   "execution_count": 14,
   "metadata": {},
   "outputs": [
    {
     "data": {
      "text/plain": [
       "'not hasan'"
      ]
     },
     "execution_count": 14,
     "metadata": {},
     "output_type": "execute_result"
    }
   ],
   "source": [
    "def not_string(word):\n",
    "    if \"not\" in word:\n",
    "        return (word)\n",
    "    else:\n",
    "        return \"not \" + word\n",
    "    \n",
    "not_string(\"hasan\")\n",
    "\n"
   ]
  },
  {
   "cell_type": "markdown",
   "metadata": {},
   "source": [
    "Given a non-empty string and an int n, return a new string where the character at index n has been removed. The value of n will be a valid index of a character in the original string (i.e. n will be in the range 0....len(str)-1 inclusive).\n",
    "\n",
    "## For example:\n",
    "\n",
    "* print(missing_char('kitchen', 1)) ----  ktchen\n",
    "* print(missing_char('kitchen', 0)) ----  itchen\n",
    "* print(missing_char('kitchen', 4)) ----  kitcen\n"
   ]
  },
  {
   "cell_type": "code",
   "execution_count": 62,
   "metadata": {},
   "outputs": [
    {
     "data": {
      "text/plain": [
       "'kithen'"
      ]
     },
     "execution_count": 62,
     "metadata": {},
     "output_type": "execute_result"
    }
   ],
   "source": [
    "def missing_char(word, n):\n",
    "    new_word = list(word)\n",
    "    new_word.remove(new_word[n])\n",
    "    word_new = \"\".join(new_word)\n",
    "    \n",
    "    return word_new\n",
    "    \n",
    "missing_char('kitchen', 3)"
   ]
  },
  {
   "cell_type": "markdown",
   "metadata": {},
   "source": [
    "## Given a string, return a new string where the first and last chars have been exchanged.\n",
    "### For example:\n",
    "* Test\n",
    "* print(front_back('clarusway')) --- ylaruswac\n",
    "* print(front_back('a'))         --- a\n",
    "* print(front_back('ab'))        --- ba"
   ]
  },
  {
   "cell_type": "code",
   "execution_count": 66,
   "metadata": {},
   "outputs": [
    {
     "data": {
      "text/plain": [
       "'ylaruswac'"
      ]
     },
     "execution_count": 66,
     "metadata": {},
     "output_type": "execute_result"
    }
   ],
   "source": [
    "def front_back(word):\n",
    "    word_list = list(word)\n",
    "    word_list[0], word_list[-1] = word_list[-1], word_list[0]\n",
    "    return \"\".join(word_list)\n",
    "\n",
    "front_back(\"clarusway\")"
   ]
  }
 ],
 "metadata": {
  "interpreter": {
   "hash": "aee8b7b246df8f9039afb4144a1f6fd8d2ca17a180786b69acc140d282b71a49"
  },
  "kernelspec": {
   "display_name": "Python 3.10.0rc2 64-bit",
   "language": "python",
   "name": "python3"
  },
  "language_info": {
   "codemirror_mode": {
    "name": "ipython",
    "version": 3
   },
   "file_extension": ".py",
   "mimetype": "text/x-python",
   "name": "python",
   "nbconvert_exporter": "python",
   "pygments_lexer": "ipython3",
   "version": "3.10.0rc2"
  },
  "orig_nbformat": 4
 },
 "nbformat": 4,
 "nbformat_minor": 2
}
