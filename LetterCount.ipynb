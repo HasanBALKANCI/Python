{
  "nbformat": 4,
  "nbformat_minor": 0,
  "metadata": {
    "colab": {
      "name": "LetterCount.ipynb",
      "provenance": [],
      "collapsed_sections": [],
      "authorship_tag": "ABX9TyN7AHknIkhTU84TT2Qkm+NJ",
      "include_colab_link": true
    },
    "kernelspec": {
      "name": "python3",
      "display_name": "Python 3"
    },
    "language_info": {
      "name": "python"
    }
  },
  "cells": [
    {
      "cell_type": "markdown",
      "metadata": {
        "id": "view-in-github",
        "colab_type": "text"
      },
      "source": [
        "<a href=\"https://colab.research.google.com/github/HasanBALKANCI/Python/blob/main/LetterCount.ipynb\" target=\"_parent\"><img src=\"https://colab.research.google.com/assets/colab-badge.svg\" alt=\"Open In Colab\"/></a>"
      ]
    },
    {
      "cell_type": "markdown",
      "source": [
        "# Task:\n",
        "\n",
        "## Count the number of each letter in a sentence.\n",
        "* The department you work for undertook a project construction that makes word / text analysis. You are asked to calculate the number of letters or any chars in the sentences entered under this project.\n",
        "* Write a Python program that;\n",
        "  1. takes a sentence from the user,\n",
        "  2. counts the number of each letter/chars of the sentence,\n",
        "  3. collects the letters/chars as a key and the counted numbers as a value in a dictionary.\n",
        "\n",
        "\n",
        "### Examples\n",
        "* Sample inputs\t\n",
        "  * hippo runs to us!\t\n",
        "* Outputs\n",
        "  *  {'s': 2, 'r': 1, 't': 1, 'h': 1, 'n': 1, \n",
        "'i': 1, 'u': 2, 'o': 2, 'p': 2, ' ': 3, '!': 1}"
      ],
      "metadata": {
        "id": "q7l4y8SJgzYO"
      }
    },
    {
      "cell_type": "code",
      "source": [
        "from typing import Counter\n",
        "# takes a sentence from the user,\n",
        "sentence = input()\n",
        "letter_dic = {} # collects the letters/chars as a key and the counted numbers as a value in a dictionary.\n",
        "\n",
        "for i in sentence :  # counts the number of each letter/chars of the sentence,\n",
        "  if i in letter_dic :\n",
        "    letter_dic[i] += 1\n",
        "  elif i not in letter_dic :\n",
        "    letter_dic[i] = 1\n",
        "print(letter_dic)\n",
        "\n",
        "\n"
      ],
      "metadata": {
        "colab": {
          "base_uri": "https://localhost:8080/"
        },
        "id": "B1JhcRcshdeS",
        "outputId": "a44ef6d7-21f0-4f9f-e4c6-8af0fc213547"
      },
      "execution_count": 20,
      "outputs": [
        {
          "output_type": "stream",
          "name": "stdout",
          "text": [
            "hippo runs to us!\n",
            "{'h': 1, 'i': 1, 'p': 2, 'o': 2, ' ': 3, 'r': 1, 'u': 2, 'n': 1, 's': 2, 't': 1, '!': 1}\n"
          ]
        }
      ]
    },
    {
      "cell_type": "code",
      "source": [
        ""
      ],
      "metadata": {
        "id": "Gy2pC14NiJp1"
      },
      "execution_count": 3,
      "outputs": []
    }
  ]
}