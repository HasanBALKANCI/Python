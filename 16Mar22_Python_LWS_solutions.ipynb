{
  "nbformat": 4,
  "nbformat_minor": 0,
  "metadata": {
    "colab": {
      "name": "15Mar22_Python-LWS_solutions.ipynb",
      "provenance": [],
      "collapsed_sections": []
    },
    "kernelspec": {
      "name": "python3",
      "display_name": "Python 3"
    },
    "language_info": {
      "name": "python"
    }
  },
  "cells": [
    {
      "cell_type": "markdown",
      "source": [
        "## **Question-1**\n",
        "\n",
        "The squirrels in Palo Alto spend most of the day playing. In particular, they play if the temperature is between 60 and 90 (inclusive). If it is summer, then the upper limit is 100 instead of 90. Given an int `temperature` and a boolean `is_summer`, return True if the squirrels play and False otherwise.\n",
        "\n",
        "**Examples:**\n",
        "\n",
        "`squirrel_play(70, False) → True`\n",
        "\n",
        "`squirrel_play(95, False) → False`\n",
        "\n",
        "`squirrel_play(95, True) → True`"
      ],
      "metadata": {
        "id": "YRlLXEbYJlzO"
      }
    },
    {
      "cell_type": "code",
      "source": [
        "temperature = 95\n",
        "is_summer = True\n",
        "squirrel_play = \"\"\n",
        "\n",
        "if is_summer and 60 <= temperature <= 100:\n",
        "    squirrel_play = True\n",
        "elif 60 <= temperature <= 90:\n",
        "    squirrel_play = True\n",
        "else:\n",
        "    squirrel_play = False\n",
        "\n",
        "print(squirrel_play)"
      ],
      "metadata": {
        "colab": {
          "base_uri": "https://localhost:8080/"
        },
        "id": "axZRmBPSH85E",
        "outputId": "4f302497-3434-49c4-d720-85505360aa6e"
      },
      "execution_count": null,
      "outputs": [
        {
          "output_type": "stream",
          "name": "stdout",
          "text": [
            "True\n"
          ]
        }
      ]
    },
    {
      "cell_type": "markdown",
      "source": [
        "## **Question-2**\n",
        "\n",
        "Create a function that takes two arguments: the original `price` and the `discount` percentage as integers and returns the final price after the discount. Your answer should be rounded to two decimal places.\n",
        "\n",
        "**Examples:**\n",
        "\n",
        "`dis(1500, 50) ➞ 750`\n",
        "\n",
        "`dis(89, 20) ➞ 71.2`\n",
        "\n",
        "`dis(100, 75) ➞ 25`"
      ],
      "metadata": {
        "id": "683zhrnnHRUY"
      }
    },
    {
      "cell_type": "code",
      "source": [
        "def dis(price, discount):\n",
        "\treturn round(price-price*(discount/100), 2)\n",
        "\n",
        "dis(89, 20)"
      ],
      "metadata": {
        "colab": {
          "base_uri": "https://localhost:8080/"
        },
        "id": "7G8rIE1EF70W",
        "outputId": "c58d1e6b-3fff-4f59-bd0f-b49abf05c4f9"
      },
      "execution_count": null,
      "outputs": [
        {
          "output_type": "execute_result",
          "data": {
            "text/plain": [
              "71.2"
            ]
          },
          "metadata": {},
          "execution_count": 23
        }
      ]
    },
    {
      "cell_type": "markdown",
      "source": [
        "## **Question-3**\n",
        "\n",
        "Create a function that takes three arguments `a, b, c` and returns the sum of the numbers that are evenly divided by `c` from the range `a, b` inclusive.\n",
        "\n",
        "**Examples:**\n",
        "\n",
        "`evenly_divisible(1, 10, 20) ➞ 0`\n",
        "\n",
        "`# No number between 1 and 10 can be evenly divided by 20.`\n",
        "\n",
        "`evenly_divisible(1, 10, 2) ➞ 30`\n",
        "\n",
        "`# 2 + 4 + 6 + 8 + 10 = 30`\n",
        "\n",
        "`evenly_divisible(1, 10, 3) ➞ 18`\n",
        "\n",
        "`# 3 + 6 + 9 = 18`"
      ],
      "metadata": {
        "id": "x0j5MCa8Ecyc"
      }
    },
    {
      "cell_type": "code",
      "source": [
        "def evenly_divisible(a, b, c):\n",
        "\tdivisible = []\n",
        "\tfor i in range(a, b+1):\n",
        "\t\tif i % c == 0:\n",
        "\t\t\tdivisible.append(i)\n",
        "\tcount = 0\n",
        "\tfor i in divisible:\n",
        "\t\tcount+=i\n",
        "\treturn count\n",
        "\n",
        "evenly_divisible(1, 10, 2)"
      ],
      "metadata": {
        "colab": {
          "base_uri": "https://localhost:8080/"
        },
        "id": "LnPWBLNiFHaR",
        "outputId": "4f47f3e9-4bb2-4ef2-e8be-440961f6bd7a"
      },
      "execution_count": null,
      "outputs": [
        {
          "output_type": "execute_result",
          "data": {
            "text/plain": [
              "30"
            ]
          },
          "metadata": {},
          "execution_count": 13
        }
      ]
    },
    {
      "cell_type": "markdown",
      "source": [
        "## **Question-4**\n",
        "\n",
        "Luke Skywalker has family and friends. Help him remind them who is who. Given a string with a name, create a function that returns the relation of that person to Luke.\n",
        "\n",
        "***Person (relation)***\n",
        "\n",
        "Darth Vader (father)\n",
        "\n",
        "Leia\t(sister)\n",
        "\n",
        "Han\t(brother in law)\n",
        "\n",
        "R2D2\t(droid)\n",
        "\n",
        "\n",
        "**Examples:**\n",
        "\n",
        "`relation_to_luke(\"Darth Vader\") ➞ \"Luke, I am your father.\"`\n",
        "\n",
        "`relation_to_luke(\"Leia\") ➞ \"Luke, I am your sister.\"`\n",
        "\n",
        "`relation_to_luke(\"Han\") ➞ \"Luke, I am your brother in law.\"`"
      ],
      "metadata": {
        "id": "rhCGe5LG_pBj"
      }
    },
    {
      "cell_type": "code",
      "source": [
        "def relation_to_luke(name):\n",
        "\tsolutions = {'Leia':'sister',\n",
        "\t'Darth Vader':'father',\n",
        "\t'Han':'brother in law',\n",
        "\t'R2D2':'droid'}\n",
        "\treturn 'Luke, I am your {}.'.format(solutions[name])"
      ],
      "metadata": {
        "id": "8AtlGcGHA4NY"
      },
      "execution_count": null,
      "outputs": []
    },
    {
      "cell_type": "code",
      "source": [
        "def relation_to_luke(name):\n",
        "    if name == \"Darth Vader\":\n",
        "\t\t    return \"Luke, I am your father.\"\n",
        "    if name == \"Leia\":\n",
        "\t\t    return \"Luke, I am your sister.\"\t\n",
        "    if name == \"Han\":\n",
        "\t\t    return \"Luke, I am your brother in law.\"\n",
        "    if name == \"R2D2\":\n",
        "\t\t    return \"Luke, I am your droid.\""
      ],
      "metadata": {
        "id": "bXtRSyq3BFxh"
      },
      "execution_count": null,
      "outputs": []
    },
    {
      "cell_type": "markdown",
      "source": [
        "## **Question-5**\n",
        "\n",
        "Create a function that takes a number as an argument and returns \"Fizz\", \"Buzz\" or \"FizzBuzz\".\n",
        "\n",
        "* If the number is a multiple of 3 the output should be \"Fizz\".\n",
        "\n",
        "* If the number given is a multiple of 5, the output should be \"Buzz\".\n",
        "\n",
        "* If the number given is a multiple of both 3 and 5, the output should be \"FizzBuzz\".\n",
        "\n",
        "* If the number is not a multiple of either 3 or 5, the\n",
        "number should be output on its own as shown in the examples below.\n",
        "\n",
        "* The output should always be a string even if it is not a multiple of 3 or 5.\n",
        "\n",
        "**Examples:**\n",
        "\n",
        "`fizz_buzz(3) ➞ \"Fizz\"`\n",
        "\n",
        "`fizz_buzz(5) ➞ \"Buzz\"`\n",
        "\n",
        "`fizz_buzz(15) ➞ \"FizzBuzz\"`\n",
        "\n",
        "`fizz_buzz(4) ➞ \"4\"`"
      ],
      "metadata": {
        "id": "hCSA08L-60Ka"
      }
    },
    {
      "cell_type": "code",
      "source": [
        "def fizz_buzz(num):\n",
        "\tif num % 3 == 0 and num % 5 == 0:\n",
        "\t\treturn \"FizzBuzz\"\n",
        "\telif num % 5 == 0:\n",
        "\t\treturn \"Buzz\"\n",
        "\telif num % 3 == 0:\n",
        "\t\treturn \"Fizz\"\n",
        "\telse:\n",
        "\t\treturn str(num)\n",
        "  \n",
        "fizz_buzz(16)"
      ],
      "metadata": {
        "colab": {
          "base_uri": "https://localhost:8080/",
          "height": 36
        },
        "id": "sv-344JE9EAE",
        "outputId": "067cbfdf-82c9-4d87-bf35-a00e94273bf6"
      },
      "execution_count": null,
      "outputs": [
        {
          "output_type": "execute_result",
          "data": {
            "text/plain": [
              "'16'"
            ],
            "application/vnd.google.colaboratory.intrinsic+json": {
              "type": "string"
            }
          },
          "metadata": {},
          "execution_count": 9
        }
      ]
    },
    {
      "cell_type": "code",
      "source": [
        "def fizz_buzz(num):\n",
        "\tif not num%15:\n",
        "\t\treturn 'FizzBuzz'\n",
        "\tif not num%3:\n",
        "\t\treturn 'Fizz'\n",
        "\tif not num%5:\n",
        "\t\treturn 'Buzz'\n",
        "\treturn str(num)\n",
        "fizz_buzz(45)"
      ],
      "metadata": {
        "colab": {
          "base_uri": "https://localhost:8080/",
          "height": 36
        },
        "id": "vwp2ZUSX9id3",
        "outputId": "496a8f3a-6be0-4856-9895-1a1a47a31ad0"
      },
      "execution_count": null,
      "outputs": [
        {
          "output_type": "execute_result",
          "data": {
            "text/plain": [
              "'FizzBuzz'"
            ],
            "application/vnd.google.colaboratory.intrinsic+json": {
              "type": "string"
            }
          },
          "metadata": {},
          "execution_count": 11
        }
      ]
    },
    {
      "cell_type": "markdown",
      "source": [
        "## **Question-6**\n",
        "\n",
        "If you are given three sticks, you may or may not be able to arrange them in a triangle. For example, if one of the sticks is 12 inches long and the other two are one inch\n",
        "long, you will not be able to get the short sticks to meet in the middle. For any three lengths, there is a simple test to see if it is possible to form a triangle:\n",
        "\n",
        "*If any of the three lengths is greater than the sum of the other two, then you cannot form a triangle. Otherwise, you can. (If the sum of two lengths equals the third, they form what is called a “degenerate” triangle.)*\n",
        "\n",
        "**Tasks:**\n",
        "\n",
        "1. Write a function named `is_triangle` that takes three integers as arguments, and that prints either “Yes” or “No”, depending on whether you can or cannot form a triangle from sticks with the given lengths.\n",
        "\n",
        "2. Write a function that prompts the user to input three stick lengths, converts them to integers, and uses `is_triangle` to check whether sticks with the given lengths\n",
        "can form a triangle."
      ],
      "metadata": {
        "id": "UWa_Hd3VnL66"
      }
    },
    {
      "cell_type": "code",
      "source": [
        "def is_triangle(a, b, c) :\n",
        "    if (a > b + c) or (b > a + c) or (c > a + b) :\n",
        "        return \"No\"\n",
        "    else:\n",
        "        return \"Yes\"\n",
        "print(is_triangle(3, 4, 5))\n",
        "print(is_triangle(12, 4, 5))"
      ],
      "metadata": {
        "colab": {
          "base_uri": "https://localhost:8080/"
        },
        "id": "bvXXTCGleohX",
        "outputId": "0e5b409f-dce2-4fa4-e740-22e5b938b57d"
      },
      "execution_count": null,
      "outputs": [
        {
          "output_type": "stream",
          "name": "stdout",
          "text": [
            "Yes\n",
            "No\n"
          ]
        }
      ]
    },
    {
      "cell_type": "code",
      "source": [
        "x = []\n",
        "for i in range(3):\n",
        "    i = int(input(\"Enter the length of stick: \"))\n",
        "    x.append(i)\n",
        "def is_triangle(x) :\n",
        "    if (x[0] > x[1] + x[2]) or (x[1] > x[0] + x[2]) or (x[2] > x[0] + x[1]) :\n",
        "        return False\n",
        "    else:\n",
        "        return True\n",
        "\n",
        "if is_triangle:\n",
        "    print(\"Yes\")\n",
        "else:\n",
        "    print(\"No\")"
      ],
      "metadata": {
        "colab": {
          "base_uri": "https://localhost:8080/"
        },
        "id": "JpogHGu4uahy",
        "outputId": "2a0899e2-e788-417a-8c3f-d6f7188ea3c1"
      },
      "execution_count": null,
      "outputs": [
        {
          "output_type": "stream",
          "name": "stdout",
          "text": [
            "Enter the length of stick: 3\n",
            "Enter the length of stick: 4\n",
            "Enter the length of stick: 5\n",
            "Yes\n"
          ]
        }
      ]
    },
    {
      "cell_type": "markdown",
      "source": [
        "## **Question-7**\n",
        "\n",
        "**Task:**\n",
        "\n",
        "Prompt the user to input a text, analyze it and display how many times letters are used and group them as vowels and consonants. \n",
        "\n",
        "**Desired output:**\n",
        "\n",
        "`Mozilla Firefox is an open-source web browser developed by Mozilla.`\n",
        "\n",
        "`Vowels are:` \n",
        "`{'o': 7, 'i': 4, 'a': 3, 'e': 8, 'u': 1}`\n",
        "\n",
        "`Consonants are:` \n",
        "`{'m': 2, 'z': 2, 'l': 5, 'f': 2, 'r': 4, 'x': 1, 's': 3, 'n': 2, 'p': 2, 'c': 1, 'w': 2, 'b': 3, 'd': 2, 'v': 1, 'y': 1}`"
      ],
      "metadata": {
        "id": "r1v4b0ONeyse"
      }
    },
    {
      "cell_type": "code",
      "source": [
        "text = input(\"Enter a text: \")\n",
        "\n",
        "def vowel(letter):\n",
        "  vowels = \"a e u i o\".split()\n",
        "  if letter.lower() in vowels:\n",
        "    return True\n",
        "  else:\n",
        "    return False\n",
        "\n",
        "def consonant(letter):\n",
        "    consonants = \"q w r t y p s d f g h j k l z x c v b n m\".split()\n",
        "    if letter.lower() in consonants:\n",
        "        return True\n",
        "    else:\n",
        "        return False\n",
        "\n",
        "filtered_vowels = filter(vowel, text.lower())\n",
        "a = list(filtered_vowels)\n",
        "dict1 = {}\n",
        "\n",
        "filtered_consonants = filter(consonant, text.lower())\n",
        "b = list(filtered_consonants)\n",
        "dict2 = {}\n",
        "\n",
        "for x in a:\n",
        "  if x not in dict1:\n",
        "    dict1[x] = 1\n",
        "  else:\n",
        "    dict1[x] += 1\n",
        "\n",
        "for y in b:\n",
        "    if y not in dict2:\n",
        "        dict2[y] = 1\n",
        "    else:\n",
        "        dict2[y] += 1\n",
        "    \n",
        "print(text, \"Vowels are: \", dict1, \"Consonants are: \", dict2, sep= \"\\n\")"
      ],
      "metadata": {
        "colab": {
          "base_uri": "https://localhost:8080/"
        },
        "id": "Fg-tZ2LoN0FG",
        "outputId": "c583e294-e914-45fc-c056-784a047188db"
      },
      "execution_count": null,
      "outputs": [
        {
          "output_type": "stream",
          "name": "stdout",
          "text": [
            "Enter a text: Mozilla Firefox is an open-source web browser developed by Mozilla.\n",
            "Mozilla Firefox is an open-source web browser developed by Mozilla.\n",
            "Vowels are: \n",
            "{'o': 7, 'i': 4, 'a': 3, 'e': 8, 'u': 1}\n",
            "Consonants are: \n",
            "{'m': 2, 'z': 2, 'l': 5, 'f': 2, 'r': 4, 'x': 1, 's': 3, 'n': 2, 'p': 2, 'c': 1, 'w': 2, 'b': 3, 'd': 2, 'v': 1, 'y': 1}\n"
          ]
        }
      ]
    },
    {
      "cell_type": "markdown",
      "source": [
        "## **Question-8**\n",
        "\n",
        "\n",
        "A palindrome is a word that is spelled the same backward and forward, like “noon” and “redivider”. Recursively, a word is a palindrome if the first and last letters are the\n",
        "same and the middle is a palindrome.\n",
        "\n",
        "The following are functions that take a string argument and return the first, last, and middle letters:"
      ],
      "metadata": {
        "id": "iBUUAOHowpzj"
      }
    },
    {
      "cell_type": "code",
      "source": [
        "def first(word):\n",
        "  return word[0]\n",
        "\n",
        "def last(word):\n",
        "  return word[-1]\n",
        "\n",
        "def middle(word):\n",
        "  return word[1:-1]"
      ],
      "metadata": {
        "id": "inuQ7q6NxQ9k"
      },
      "execution_count": null,
      "outputs": []
    },
    {
      "cell_type": "markdown",
      "source": [
        "**Task**\n",
        "\n",
        "Write a function called `is_palindrome` that takes a string argument from user and returns True if it is a palindrome and False otherwise. Remember that you can use the built-in function len to check the length of a string."
      ],
      "metadata": {
        "id": "C-Rd4Kcj6L4n"
      }
    },
    {
      "cell_type": "code",
      "source": [
        "def first(word):\n",
        "    \"\"\"Returns the first character of a string.\"\"\"\n",
        "    return word[0]\n",
        "\n",
        "\n",
        "def last(word):\n",
        "    \"\"\"Returns the last of a string.\"\"\"\n",
        "    return word[-1]\n",
        "\n",
        "\n",
        "def middle(word):\n",
        "    \"\"\"Returns all but the first and last characters of a string.\"\"\"\n",
        "    return word[1:-1]\n",
        "\n",
        "\n",
        "def is_palindrome(word):\n",
        "    \"\"\"Returns True if word is a palindrome.\"\"\"\n",
        "    if len(word) <= 1:\n",
        "        return True\n",
        "    if first(word) != last(word):\n",
        "        return False\n",
        "    return is_palindrome(middle(word))\n",
        "\n",
        "print(is_palindrome('martha'))\n",
        "print(is_palindrome('mom'))\n",
        "print(is_palindrome('tenet'))\n",
        "print(is_palindrome('redivider'))"
      ],
      "metadata": {
        "colab": {
          "base_uri": "https://localhost:8080/"
        },
        "id": "LPmMM8im6QPV",
        "outputId": "6800f3f5-3f81-4ffe-ae8d-d60faf43b276"
      },
      "execution_count": null,
      "outputs": [
        {
          "output_type": "stream",
          "name": "stdout",
          "text": [
            "False\n",
            "True\n",
            "True\n",
            "True\n"
          ]
        }
      ]
    }
  ]
}