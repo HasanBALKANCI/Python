{
 "cells": [
  {
   "cell_type": "markdown",
   "metadata": {},
   "source": [
    "# Task\n",
    "* Define a function named calculator to calculate four math operations with two numbers and print the result.\n",
    "* Warn user in case of wrong entry : \"Enter valid arguments\""
   ]
  },
  {
   "cell_type": "code",
   "execution_count": 4,
   "metadata": {},
   "outputs": [
    {
     "data": {
      "text/plain": [
       "15"
      ]
     },
     "execution_count": 4,
     "metadata": {},
     "output_type": "execute_result"
    }
   ],
   "source": [
    "def calculator(x, y, opr):\n",
    "    if opr == \"+\":\n",
    "        return x + y \n",
    "    elif opr == \"-\":\n",
    "        return x - y \n",
    "    elif opr == \"*\":\n",
    "        return x * y \n",
    "    elif opr == \"/\":\n",
    "        return x / y\n",
    "    else :\n",
    "        print(\"Enter valid argument!\")\n",
    "\n",
    "calculator(3, 5, \"*\")"
   ]
  },
  {
   "cell_type": "code",
   "execution_count": 15,
   "metadata": {},
   "outputs": [
    {
     "name": "stdout",
     "output_type": "stream",
     "text": [
      "None\n"
     ]
    },
    {
     "data": {
      "text/plain": [
       "4.5"
      ]
     },
     "execution_count": 15,
     "metadata": {},
     "output_type": "execute_result"
    }
   ],
   "source": [
    "# absoluta value\n",
    "def absolute(num):\n",
    "    if num >= 0:\n",
    "        return num \n",
    "    else:\n",
    "        return -num\n",
    "print(absolute.__doc__)\n",
    "\n",
    "absolute(-4.5)"
   ]
  },
  {
   "cell_type": "markdown",
   "metadata": {},
   "source": [
    "* Define a function named slicer to collect even numbers into the **list evens** , \n",
    "* odd numbers into the **list odds** ,from the given numbers by using *args."
   ]
  },
  {
   "cell_type": "code",
   "execution_count": 25,
   "metadata": {},
   "outputs": [
    {
     "name": "stdout",
     "output_type": "stream",
     "text": [
      "list odds : [1, 3, 5, 7, 9, 13, 15] \n",
      "list evens : [2, 4, 6, 8, 12, 14, 16]\n"
     ]
    }
   ],
   "source": [
    "def slicer(*number):\n",
    "    list_odds = []\n",
    "    list_evens = []\n",
    "    for x in number:\n",
    "        if x % 2 :\n",
    "            list_odds.append(x)\n",
    "        else :\n",
    "            list_evens.append(x)\n",
    "    print(f\"list odds : {list_odds} \\nlist evens : {list_evens}\")\n",
    "\n",
    "slicer(1, 2, 3, 4, 5, 6, 7, 8, 9, 12, 13, 14, 15, 16)\n",
    "    "
   ]
  },
  {
   "cell_type": "code",
   "execution_count": 34,
   "metadata": {},
   "outputs": [
    {
     "name": "stdout",
     "output_type": "stream",
     "text": [
      "name list : ['ALi', 'Jhon', 'Veli']\n",
      " age list : [26, 29, 39]\n"
     ]
    }
   ],
   "source": [
    "def organizer(**names):\n",
    "    name = []\n",
    "    age = []\n",
    "    for key, value in names.items():\n",
    "        name.append(key)\n",
    "        age.append(value)\n",
    "    print(f\"name list : {name}\\n age list : {age}\")\n",
    "\n",
    "organizer(ALi = 26, Jhon = 29, Veli = 39)"
   ]
  },
  {
   "cell_type": "markdown",
   "metadata": {},
   "source": [
    "## Define a function named **merger** to prints the following output from the given tuple genius."
   ]
  },
  {
   "cell_type": "code",
   "execution_count": 49,
   "metadata": {},
   "outputs": [
    {
     "name": "stdout",
     "output_type": "stream",
     "text": [
      "For me,  Bill Gates  and  Rossum Guido van  are geniuses. \n"
     ]
    }
   ],
   "source": [
    "geniuses = ('Bill', 'Rossum', 'Guido van', 'Gates')\n",
    "def merger(*names):\n",
    "    counter = 0\n",
    "    name_1 = \" \"\n",
    "    name_2 = \" \"\n",
    "    for i in names:\n",
    "        counter += 1\n",
    "        if counter == 1 or counter == 4:\n",
    "            name_1 = name_1 + i + \" \"\n",
    "        else :\n",
    "            name_2 =  name_2 + i + \" \"\n",
    "    \n",
    "    print(f\"For me, {name_1} and {name_2} are geniuses. \")\n",
    "merger('Bill', 'Rossum', 'Guido van', 'Gates')\n"
   ]
  },
  {
   "cell_type": "code",
   "execution_count": 58,
   "metadata": {},
   "outputs": [
    {
     "data": {
      "text/plain": [
       "28.2"
      ]
     },
     "execution_count": 58,
     "metadata": {},
     "output_type": "execute_result"
    }
   ],
   "source": [
    "friends = {\"Ali\" : 27, \"Veli\" : 36, \"Jhon\" : 36, \"Karl\" : 24, \"Susan\" : 18 }\n",
    "def meaner(kwargs):\n",
    "    average = 0\n",
    "    counter = 0\n",
    "    for i in kwargs.values():\n",
    "        counter += 1\n",
    "        average += i\n",
    "    average_1 = average / counter\n",
    "    return average_1\n",
    "meaner(friends)"
   ]
  },
  {
   "cell_type": "code",
   "execution_count": 71,
   "metadata": {},
   "outputs": [
    {
     "data": {
      "text/plain": [
       "35.0"
      ]
     },
     "execution_count": 71,
     "metadata": {},
     "output_type": "execute_result"
    }
   ],
   "source": [
    "def meaner(Ali ,Veli, Jhon, Karl, Susan):\n",
    "    average = (Ali + Veli + Jhon)/ 3\n",
    "    return average\n",
    "friends = {\"Ali\" : 33, \"Veli\" : 36, \"Jhon\" : 36, \"Karl\" : 24, \"Susan\" : 18 }\n",
    "meaner(**friends)"
   ]
  },
  {
   "cell_type": "code",
   "execution_count": 83,
   "metadata": {},
   "outputs": [
    {
     "name": "stdout",
     "output_type": "stream",
     "text": [
      "yawsuralC\n"
     ]
    }
   ],
   "source": [
    "### Define a lambda function to reverse the elements of any iterables.\n",
    "iterable = \"Clarusway\"\n",
    "reverser = (lambda x: x[::-1])(iterable)\n",
    "print(reverser)\n"
   ]
  },
  {
   "cell_type": "code",
   "execution_count": null,
   "metadata": {},
   "outputs": [],
   "source": []
  },
  {
   "cell_type": "code",
   "execution_count": 89,
   "metadata": {},
   "outputs": [
    {
     "name": "stdout",
     "output_type": "stream",
     "text": [
      "[4, 3, 2, 1]\n",
      "[4, 3, 2, 1]\n"
     ]
    }
   ],
   "source": [
    "print((lambda x: x[::-1])([1,2,3,4]))\n",
    "print(list((lambda x: reversed(x))([1,2,3,4])))"
   ]
  },
  {
   "cell_type": "code",
   "execution_count": null,
   "metadata": {},
   "outputs": [],
   "source": []
  }
 ],
 "metadata": {
  "interpreter": {
   "hash": "aee8b7b246df8f9039afb4144a1f6fd8d2ca17a180786b69acc140d282b71a49"
  },
  "kernelspec": {
   "display_name": "Python 3.10.0rc2 64-bit",
   "language": "python",
   "name": "python3"
  },
  "language_info": {
   "codemirror_mode": {
    "name": "ipython",
    "version": 3
   },
   "file_extension": ".py",
   "mimetype": "text/x-python",
   "name": "python",
   "nbconvert_exporter": "python",
   "pygments_lexer": "ipython3",
   "version": "3.10.0rc2"
  },
  "orig_nbformat": 4
 },
 "nbformat": 4,
 "nbformat_minor": 2
}
