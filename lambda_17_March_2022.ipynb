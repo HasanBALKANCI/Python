{
  "nbformat": 4,
  "nbformat_minor": 0,
  "metadata": {
    "colab": {
      "name": "lambda_17 March 2022.ipynb",
      "provenance": [],
      "authorship_tag": "ABX9TyPABYhbvGd2gpwzk2FkrJwh",
      "include_colab_link": true
    },
    "kernelspec": {
      "name": "python3",
      "display_name": "Python 3"
    },
    "language_info": {
      "name": "python"
    }
  },
  "cells": [
    {
      "cell_type": "markdown",
      "metadata": {
        "id": "view-in-github",
        "colab_type": "text"
      },
      "source": [
        "<a href=\"https://colab.research.google.com/github/HasanBALKANCI/Python/blob/main/lambda_17_March_2022.ipynb\" target=\"_parent\"><img src=\"https://colab.research.google.com/assets/colab-badge.svg\" alt=\"Open In Colab\"/></a>"
      ]
    },
    {
      "cell_type": "code",
      "execution_count": null,
      "metadata": {
        "id": "ooxtjDgsBj0o"
      },
      "outputs": [],
      "source": [
        ""
      ]
    },
    {
      "cell_type": "markdown",
      "source": [
        "# 17 March 2022, Lesson by Joseph \n",
        "## lambda function \n",
        "  * function that is used only one.\n",
        "  * degiskene atarsak sonra kullanilabilir.\n",
        "  * Note that you cant use the usual conditional statement with lambda definition.\n",
        "  * How to use lambda\n",
        "    \n"
      ],
      "metadata": {
        "id": "D1nlbjEHCS8R"
      }
    },
    {
      "cell_type": "code",
      "source": [
        "def square(x):\n",
        "  return x**2"
      ],
      "metadata": {
        "id": "S9YXNR2dDTtR"
      },
      "execution_count": 1,
      "outputs": []
    },
    {
      "cell_type": "code",
      "source": [
        "print((lambda x: x**2)(2)) # lambda nin 1 inci kullanimi, "
      ],
      "metadata": {
        "colab": {
          "base_uri": "https://localhost:8080/"
        },
        "id": "xcezYyrREoEV",
        "outputId": "c859b4d4-9116-42a3-e052-700ca9f028be"
      },
      "execution_count": 3,
      "outputs": [
        {
          "output_type": "stream",
          "name": "stdout",
          "text": [
            "4\n"
          ]
        }
      ]
    },
    {
      "cell_type": "code",
      "source": [
        "(lambda x: \"odd\" if x % 2 else \"even\")(4) # 1"
      ],
      "metadata": {
        "colab": {
          "base_uri": "https://localhost:8080/",
          "height": 37
        },
        "id": "CMzBj-EFFKSO",
        "outputId": "4d47d140-ab63-4f99-eaf7-21be38b88b44"
      },
      "execution_count": 4,
      "outputs": [
        {
          "output_type": "execute_result",
          "data": {
            "text/plain": [
              "'even'"
            ],
            "application/vnd.google.colaboratory.intrinsic+json": {
              "type": "string"
            }
          },
          "metadata": {},
          "execution_count": 4
        }
      ]
    },
    {
      "cell_type": "code",
      "source": [
        "print((lambda x, y: (x+y)/2)(3,5)) # this is second using"
      ],
      "metadata": {
        "colab": {
          "base_uri": "https://localhost:8080/"
        },
        "id": "LSjg2CvhF-QG",
        "outputId": "df6b160a-4268-41f4-ec79-d2718b5ed1f0"
      },
      "execution_count": 5,
      "outputs": [
        {
          "output_type": "stream",
          "name": "stdout",
          "text": [
            "4.0\n"
          ]
        }
      ]
    },
    {
      "cell_type": "code",
      "source": [
        "print((lambda x : x[::-1])(\"Hasan\")) # this make the string revers."
      ],
      "metadata": {
        "colab": {
          "base_uri": "https://localhost:8080/"
        },
        "id": "D0Fp-8Q9HQd1",
        "outputId": "60c116a0-5120-462b-cbed-18c07bc1aa80"
      },
      "execution_count": 7,
      "outputs": [
        {
          "output_type": "stream",
          "name": "stdout",
          "text": [
            "nasaH\n"
          ]
        }
      ]
    },
    {
      "cell_type": "code",
      "source": [
        "print((lambda x : x[::-1])([1, 2, 3, 4]))"
      ],
      "metadata": {
        "colab": {
          "base_uri": "https://localhost:8080/"
        },
        "id": "xlUkDIAYH_1y",
        "outputId": "d3399fe5-0757-4f45-9d1b-a67a104d6bf6"
      },
      "execution_count": 8,
      "outputs": [
        {
          "output_type": "stream",
          "name": "stdout",
          "text": [
            "[4, 3, 2, 1]\n"
          ]
        }
      ]
    },
    {
      "cell_type": "code",
      "source": [
        ""
      ],
      "metadata": {
        "id": "Wn3JPn_8I-fl"
      },
      "execution_count": 21,
      "outputs": []
    },
    {
      "cell_type": "code",
      "source": [
        "sayilar = [1, 2, 3, 4, 5, 6]\n",
        "\n",
        "for i in sayilar:\n",
        "  print(i, \":\", (lambda x: \"odd\" if x % 2 else \"even\")(i))\n"
      ],
      "metadata": {
        "colab": {
          "base_uri": "https://localhost:8080/"
        },
        "id": "-vJsFBOGJo3K",
        "outputId": "e6852865-10cf-4e54-b750-13f040231650"
      },
      "execution_count": 20,
      "outputs": [
        {
          "output_type": "stream",
          "name": "stdout",
          "text": [
            "1 : odd\n",
            "2 : even\n",
            "3 : odd\n",
            "4 : even\n",
            "5 : odd\n",
            "6 : even\n"
          ]
        }
      ]
    },
    {
      "cell_type": "code",
      "source": [
        "iterable = \"Clarusway\"\n",
        "reverser = (lambda x : x[::-1])\n",
        "reverser(iterable)\n"
      ],
      "metadata": {
        "colab": {
          "base_uri": "https://localhost:8080/",
          "height": 37
        },
        "id": "RURUsc3SMRPc",
        "outputId": "e04bfcd3-cb4e-471f-85b0-c53363861e91"
      },
      "execution_count": 28,
      "outputs": [
        {
          "output_type": "execute_result",
          "data": {
            "text/plain": [
              "'yawsuralC'"
            ],
            "application/vnd.google.colaboratory.intrinsic+json": {
              "type": "string"
            }
          },
          "metadata": {},
          "execution_count": 28
        }
      ]
    },
    {
      "cell_type": "code",
      "source": [
        "finder = lambda x: \"odd\" if x % 2 else \"even\"\n",
        "finder(2)"
      ],
      "metadata": {
        "colab": {
          "base_uri": "https://localhost:8080/",
          "height": 37
        },
        "id": "j-nQ6BmjNLQY",
        "outputId": "625e46e7-75d5-4eb1-90dd-45189cfbbeee"
      },
      "execution_count": 29,
      "outputs": [
        {
          "output_type": "execute_result",
          "data": {
            "text/plain": [
              "'even'"
            ],
            "application/vnd.google.colaboratory.intrinsic+json": {
              "type": "string"
            }
          },
          "metadata": {},
          "execution_count": 29
        }
      ]
    },
    {
      "cell_type": "markdown",
      "source": [
        "# map() ile lambda nin kullanimi\n",
        "* **map(function, iterable)**\n",
        "* list,tubele etc\n",
        "* "
      ],
      "metadata": {
        "id": "kC05x1d0RvBJ"
      }
    },
    {
      "cell_type": "code",
      "source": [
        "kelimeler = [\"alideliveli\", \"ahmet\", \"sel\"]\n",
        "uzunluk = map(len, kelimeler)\n",
        "print(list(uzunluk))"
      ],
      "metadata": {
        "colab": {
          "base_uri": "https://localhost:8080/"
        },
        "id": "okTqFJDaRCmj",
        "outputId": "2bc2579e-53a3-4617-f80f-3af6fb4d428d"
      },
      "execution_count": 31,
      "outputs": [
        {
          "output_type": "stream",
          "name": "stdout",
          "text": [
            "[11, 5, 3]\n"
          ]
        }
      ]
    },
    {
      "cell_type": "code",
      "source": [
        "kelimeler = [\"alideliveli\", \"ahmet\", \"sel\"]\n",
        "uzunluk = map(len, kelimeler)\n",
        "print(*uzunluk)"
      ],
      "metadata": {
        "colab": {
          "base_uri": "https://localhost:8080/"
        },
        "id": "LriMDf55SnEn",
        "outputId": "4de2bc73-442a-4f25-ec6f-8e80174fc4e3"
      },
      "execution_count": 33,
      "outputs": [
        {
          "output_type": "stream",
          "name": "stdout",
          "text": [
            "11 5 3\n"
          ]
        }
      ]
    },
    {
      "cell_type": "code",
      "source": [
        ""
      ],
      "metadata": {
        "id": "Dg6wen0ASuGD"
      },
      "execution_count": null,
      "outputs": []
    }
  ]
}