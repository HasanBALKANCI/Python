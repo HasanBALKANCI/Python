{
  "nbformat": 4,
  "nbformat_minor": 0,
  "metadata": {
    "colab": {
      "name": "lambda_17 March 2022.ipynb",
      "provenance": [],
      "authorship_tag": "ABX9TyNEVdRDlWjnnEHkREDAxPb3",
      "include_colab_link": true
    },
    "kernelspec": {
      "name": "python3",
      "display_name": "Python 3"
    },
    "language_info": {
      "name": "python"
    }
  },
  "cells": [
    {
      "cell_type": "markdown",
      "metadata": {
        "id": "view-in-github",
        "colab_type": "text"
      },
      "source": [
        "<a href=\"https://colab.research.google.com/github/HasanBALKANCI/Python/blob/main/lambda_17_March_2022.ipynb\" target=\"_parent\"><img src=\"https://colab.research.google.com/assets/colab-badge.svg\" alt=\"Open In Colab\"/></a>"
      ]
    },
    {
      "cell_type": "code",
      "execution_count": null,
      "metadata": {
        "id": "ooxtjDgsBj0o"
      },
      "outputs": [],
      "source": [
        ""
      ]
    },
    {
      "cell_type": "markdown",
      "source": [
        "# 17 March 2022, Lesson by Joseph \n",
        "## lambda function \n",
        "  * function that is used only one.\n",
        "  * degiskene atarsak sonra kullanilabilir.\n",
        "  * Note that you cant use the usual conditional statement with lambda definition.\n",
        "  * How to use lambda\n",
        "    \n"
      ],
      "metadata": {
        "id": "D1nlbjEHCS8R"
      }
    },
    {
      "cell_type": "code",
      "source": [
        "def square(x):\n",
        "  return x**2"
      ],
      "metadata": {
        "id": "S9YXNR2dDTtR"
      },
      "execution_count": 1,
      "outputs": []
    },
    {
      "cell_type": "code",
      "source": [
        "print((lambda x: x**2)(2)) # lambda nin 1 inci kullanimi, "
      ],
      "metadata": {
        "colab": {
          "base_uri": "https://localhost:8080/"
        },
        "id": "xcezYyrREoEV",
        "outputId": "c859b4d4-9116-42a3-e052-700ca9f028be"
      },
      "execution_count": 3,
      "outputs": [
        {
          "output_type": "stream",
          "name": "stdout",
          "text": [
            "4\n"
          ]
        }
      ]
    },
    {
      "cell_type": "code",
      "source": [
        "(lambda x: \"odd\" if x % 2 else \"even\")(4) # 1"
      ],
      "metadata": {
        "colab": {
          "base_uri": "https://localhost:8080/",
          "height": 37
        },
        "id": "CMzBj-EFFKSO",
        "outputId": "4d47d140-ab63-4f99-eaf7-21be38b88b44"
      },
      "execution_count": 4,
      "outputs": [
        {
          "output_type": "execute_result",
          "data": {
            "text/plain": [
              "'even'"
            ],
            "application/vnd.google.colaboratory.intrinsic+json": {
              "type": "string"
            }
          },
          "metadata": {},
          "execution_count": 4
        }
      ]
    },
    {
      "cell_type": "code",
      "source": [
        "print((lambda x, y: (x+y)/2)(3,5)) # this is second using"
      ],
      "metadata": {
        "colab": {
          "base_uri": "https://localhost:8080/"
        },
        "id": "LSjg2CvhF-QG",
        "outputId": "df6b160a-4268-41f4-ec79-d2718b5ed1f0"
      },
      "execution_count": 5,
      "outputs": [
        {
          "output_type": "stream",
          "name": "stdout",
          "text": [
            "4.0\n"
          ]
        }
      ]
    },
    {
      "cell_type": "code",
      "source": [
        "print((lambda x : x[::-1])(\"Hasan\")) # this make the string revers."
      ],
      "metadata": {
        "colab": {
          "base_uri": "https://localhost:8080/"
        },
        "id": "D0Fp-8Q9HQd1",
        "outputId": "60c116a0-5120-462b-cbed-18c07bc1aa80"
      },
      "execution_count": 7,
      "outputs": [
        {
          "output_type": "stream",
          "name": "stdout",
          "text": [
            "nasaH\n"
          ]
        }
      ]
    },
    {
      "cell_type": "code",
      "source": [
        "print((lambda x : x[::-1])([1, 2, 3, 4]))"
      ],
      "metadata": {
        "colab": {
          "base_uri": "https://localhost:8080/"
        },
        "id": "xlUkDIAYH_1y",
        "outputId": "d3399fe5-0757-4f45-9d1b-a67a104d6bf6"
      },
      "execution_count": 8,
      "outputs": [
        {
          "output_type": "stream",
          "name": "stdout",
          "text": [
            "[4, 3, 2, 1]\n"
          ]
        }
      ]
    },
    {
      "cell_type": "code",
      "source": [
        ""
      ],
      "metadata": {
        "id": "Wn3JPn_8I-fl"
      },
      "execution_count": 21,
      "outputs": []
    },
    {
      "cell_type": "code",
      "source": [
        "sayilar = [1, 2, 3, 4, 5, 6]\n",
        "\n",
        "for i in sayilar:\n",
        "  print(i, \":\", (lambda x: \"odd\" if x % 2 else \"even\")(i))\n"
      ],
      "metadata": {
        "colab": {
          "base_uri": "https://localhost:8080/"
        },
        "id": "-vJsFBOGJo3K",
        "outputId": "e6852865-10cf-4e54-b750-13f040231650"
      },
      "execution_count": 20,
      "outputs": [
        {
          "output_type": "stream",
          "name": "stdout",
          "text": [
            "1 : odd\n",
            "2 : even\n",
            "3 : odd\n",
            "4 : even\n",
            "5 : odd\n",
            "6 : even\n"
          ]
        }
      ]
    },
    {
      "cell_type": "code",
      "source": [
        "iterable = \"Clarusway\"\n",
        "reverser = (lambda x : x[::-1])\n",
        "reverser(iterable)\n"
      ],
      "metadata": {
        "colab": {
          "base_uri": "https://localhost:8080/",
          "height": 37
        },
        "id": "RURUsc3SMRPc",
        "outputId": "e04bfcd3-cb4e-471f-85b0-c53363861e91"
      },
      "execution_count": 28,
      "outputs": [
        {
          "output_type": "execute_result",
          "data": {
            "text/plain": [
              "'yawsuralC'"
            ],
            "application/vnd.google.colaboratory.intrinsic+json": {
              "type": "string"
            }
          },
          "metadata": {},
          "execution_count": 28
        }
      ]
    },
    {
      "cell_type": "code",
      "source": [
        "finder = lambda x: \"odd\" if x % 2 else \"even\"\n",
        "finder(2)"
      ],
      "metadata": {
        "colab": {
          "base_uri": "https://localhost:8080/",
          "height": 37
        },
        "id": "j-nQ6BmjNLQY",
        "outputId": "625e46e7-75d5-4eb1-90dd-45189cfbbeee"
      },
      "execution_count": 29,
      "outputs": [
        {
          "output_type": "execute_result",
          "data": {
            "text/plain": [
              "'even'"
            ],
            "application/vnd.google.colaboratory.intrinsic+json": {
              "type": "string"
            }
          },
          "metadata": {},
          "execution_count": 29
        }
      ]
    },
    {
      "cell_type": "markdown",
      "source": [
        "# map() ile lambda nin kullanimi\n",
        "* **map(function, iterable)**\n",
        "* list,tubele etc\n",
        "* "
      ],
      "metadata": {
        "id": "kC05x1d0RvBJ"
      }
    },
    {
      "cell_type": "code",
      "source": [
        "kelimeler = [\"alideliveli\", \"ahmet\", \"sel\"]\n",
        "uzunluk = map(len, kelimeler)\n",
        "print(list(uzunluk))"
      ],
      "metadata": {
        "colab": {
          "base_uri": "https://localhost:8080/"
        },
        "id": "okTqFJDaRCmj",
        "outputId": "2bc2579e-53a3-4617-f80f-3af6fb4d428d"
      },
      "execution_count": 31,
      "outputs": [
        {
          "output_type": "stream",
          "name": "stdout",
          "text": [
            "[11, 5, 3]\n"
          ]
        }
      ]
    },
    {
      "cell_type": "code",
      "source": [
        "kelimeler = [\"alideliveli\", \"ahmet\", \"sel\"]\n",
        "uzunluk = map(len, kelimeler)\n",
        "print(*uzunluk)"
      ],
      "metadata": {
        "colab": {
          "base_uri": "https://localhost:8080/"
        },
        "id": "LriMDf55SnEn",
        "outputId": "4de2bc73-442a-4f25-ec6f-8e80174fc4e3"
      },
      "execution_count": 33,
      "outputs": [
        {
          "output_type": "stream",
          "name": "stdout",
          "text": [
            "11 5 3\n"
          ]
        }
      ]
    },
    {
      "cell_type": "code",
      "source": [
        "fonksiyonum = lambda x : x**2\n",
        "iterable = [1, 2, 3, 4]\n",
        "\n",
        "sonuc = map(fonksiyonum, iterable)\n",
        "print(*sonuc)"
      ],
      "metadata": {
        "colab": {
          "base_uri": "https://localhost:8080/"
        },
        "id": "Dg6wen0ASuGD",
        "outputId": "5b096492-b5d0-44e8-c160-83d38fc4e5cf"
      },
      "execution_count": 36,
      "outputs": [
        {
          "output_type": "stream",
          "name": "stdout",
          "text": [
            "1 4 9 16\n"
          ]
        }
      ]
    },
    {
      "cell_type": "code",
      "source": [
        "sonuc_1 = print(list(map(lambda x : x**2, [1, 2, 3, 4])))"
      ],
      "metadata": {
        "colab": {
          "base_uri": "https://localhost:8080/"
        },
        "id": "lDbXQF8wTZv8",
        "outputId": "883cea71-491a-425f-9be1-1cd4ec14c0bb"
      },
      "execution_count": 37,
      "outputs": [
        {
          "output_type": "stream",
          "name": "stdout",
          "text": [
            "[1, 4, 9, 16]\n"
          ]
        }
      ]
    },
    {
      "cell_type": "code",
      "source": [
        "iterable = [1, 2, 3, 4, 5]\n",
        "def fonksiyonum (x):\n",
        "  return x**2\n",
        "result = map(fonksiyonum, iterable)\n",
        "print(*result)\n",
        "print(tuple(result)) # tek atimlik, yeniden doldurmak gerekir."
      ],
      "metadata": {
        "colab": {
          "base_uri": "https://localhost:8080/"
        },
        "id": "bQ-WAzVZTthj",
        "outputId": "e0a31b76-dfeb-4629-d6a0-74994f6d1859"
      },
      "execution_count": 40,
      "outputs": [
        {
          "output_type": "stream",
          "name": "stdout",
          "text": [
            "1 4 9 16 25\n",
            "()\n"
          ]
        }
      ]
    },
    {
      "cell_type": "code",
      "source": [
        "topla = lambda x, y, z : x + y + z\n",
        "\n",
        "topla(\"A\",\"W\",\"S\")"
      ],
      "metadata": {
        "colab": {
          "base_uri": "https://localhost:8080/",
          "height": 37
        },
        "id": "bDVEmnvJUSiq",
        "outputId": "619855c6-8019-4111-e19a-ef194c2c92e8"
      },
      "execution_count": 42,
      "outputs": [
        {
          "output_type": "execute_result",
          "data": {
            "text/plain": [
              "'AWS'"
            ],
            "application/vnd.google.colaboratory.intrinsic+json": {
              "type": "string"
            }
          },
          "metadata": {},
          "execution_count": 42
        }
      ]
    },
    {
      "cell_type": "code",
      "source": [
        "nums1 = [9,6,7,4]\n",
        "nums2 = [3,6,5,8]\n",
        "print(list(map(lambda x,y : (x+y)/2 , nums1, nums2)))"
      ],
      "metadata": {
        "colab": {
          "base_uri": "https://localhost:8080/"
        },
        "id": "YQYVnxWvWfRb",
        "outputId": "b492958f-8598-4e96-f5db-c8b0094894db"
      },
      "execution_count": 43,
      "outputs": [
        {
          "output_type": "stream",
          "name": "stdout",
          "text": [
            "[6.0, 6.0, 6.0, 6.0]\n"
          ]
        }
      ]
    },
    {
      "cell_type": "code",
      "source": [
        "words1 = [\"you\", \"much\", \"hard\"]\n",
        "words2= [\"i\", \"you\", \"he\"]\n",
        "words3 = [\"love\", \"ate\", \"works\"]\n",
        "sentence = list(map(lambda a ,b, c : a + \" \"  + \" \" + b + \" \" + c , words2,words3,words1))\n",
        "\n",
        "for i in sentence:\n",
        "  print(i,\".\")"
      ],
      "metadata": {
        "colab": {
          "base_uri": "https://localhost:8080/"
        },
        "id": "djWPSxGmZmKL",
        "outputId": "54207323-9027-42bb-aaf7-aae16755ec60"
      },
      "execution_count": 54,
      "outputs": [
        {
          "output_type": "stream",
          "name": "stdout",
          "text": [
            "i  love you .\n",
            "you  ate much .\n",
            "he  works hard .\n"
          ]
        }
      ]
    },
    {
      "cell_type": "code",
      "source": [
        ""
      ],
      "metadata": {
        "id": "x5NZ3dSVf5sj"
      },
      "execution_count": null,
      "outputs": []
    },
    {
      "cell_type": "markdown",
      "source": [
        "filter()\n",
        "* filter(function, iterable)\n",
        "* function return True or False . It must be boolen."
      ],
      "metadata": {
        "id": "gXHAZaisiNCJ"
      }
    },
    {
      "cell_type": "code",
      "source": [
        "first_ten = [0, 1, 2, 3, 4, 5, 6, 7, 8, 9]\n",
        "old = list(filter(lambda x :  x % 2 , first_ten))\n",
        "print(\"OLD NUMBER: \", old)\n",
        "print(\"Even number:\", *(filter(lambda x :  not x % 2 , first_ten)))\n"
      ],
      "metadata": {
        "colab": {
          "base_uri": "https://localhost:8080/"
        },
        "id": "LGOj0WpXigOl",
        "outputId": "c529b90c-8477-4737-fbf3-d37ebba87674"
      },
      "execution_count": 61,
      "outputs": [
        {
          "output_type": "stream",
          "name": "stdout",
          "text": [
            "OLD NUMBER:  [1, 3, 5, 7, 9]\n",
            "Even number: 0 2 4 6 8\n"
          ]
        }
      ]
    },
    {
      "cell_type": "code",
      "source": [
        "words = [\"apple\", \"swim\", \"clock\", \"me\", \"kiwi\", \"banana\"]\n",
        "\n",
        "print(list(filter(lambda x: len(x) < 5, words)))"
      ],
      "metadata": {
        "colab": {
          "base_uri": "https://localhost:8080/"
        },
        "id": "kEk0JAP0jrup",
        "outputId": "45a4ee31-b10b-42be-9e50-76514e74d87c"
      },
      "execution_count": 63,
      "outputs": [
        {
          "output_type": "stream",
          "name": "stdout",
          "text": [
            "['swim', 'me', 'kiwi']\n"
          ]
        }
      ]
    },
    {
      "cell_type": "code",
      "source": [
        ""
      ],
      "metadata": {
        "id": "iigXR8nhlv8b"
      },
      "execution_count": null,
      "outputs": []
    }
  ]
}