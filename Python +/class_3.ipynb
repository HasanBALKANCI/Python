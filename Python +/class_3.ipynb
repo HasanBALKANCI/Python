{
 "cells": [
  {
   "cell_type": "code",
   "execution_count": 8,
   "metadata": {},
   "outputs": [],
   "source": [
    "class fly():\n",
    "    airline = \"THY\"\n",
    "    \n",
    "    def __init__(self, code, departure, arrival, time,capacity, passengers ):\n",
    "        self.code = code\n",
    "        self.departure = departure\n",
    "        self.arrival = arrival\n",
    "        self.time = time\n",
    "        self.capacity = capacity\n",
    "        self.passengers = passengers\n",
    "    \n",
    "    def announcement(self): # this attribute return announcments\n",
    "        return f\"Ladies and gentelmens {self.code} flight numbered flying from {self.departure} \\\n",
    "to {self.arrival} will take {self.time} minutes. \"\n",
    "    \n",
    "    def num_seats_upd(self): # we can find suitable seats.\n",
    "        # return \" Suitable number of seats is {}.\".format(self.capacity - self.passengers)\n",
    "        return (self.capacity - self.passengers)\n",
    "    \n",
    "    def tickets_sell(self, tickets_sell = 1): # this attribute aggregate number of passengers when any tickket is sold.\n",
    "        if self.passengers + tickets_sell < self.capacity:\n",
    "            self.passengers += tickets_sell\n",
    "            self.num_seats_upd()\n",
    "            print(\"{} tickets are sold, available seats are {}\".\n",
    "                  format(tickets_sell, self.num_seats_upd()))\n",
    "        else:\n",
    "            print(\"Unfortunately seats are run out of.\")\n",
    "            \n",
    "    def tickets_cancel(self, tickets_cancel = 1): # This attribute run if passengers cancel the tickets.\n",
    "        self.passengers -= tickets_cancel\n",
    "        self.num_seats_upd()\n",
    "        print(\"{} tickets are canceled, available seats are {}\".\n",
    "        format(tickets_cancel, self.num_seats_upd()))"
   ]
  },
  {
   "cell_type": "markdown",
   "metadata": {},
   "source": [
    "### Dunder Method (Double Under Score)"
   ]
  },
  {
   "cell_type": "code",
   "execution_count": 2,
   "metadata": {},
   "outputs": [],
   "source": [
    "fly3 = fly(\"THY\", \"ASN\", \"ARL\", 40, 250, 200)"
   ]
  },
  {
   "cell_type": "code",
   "execution_count": 3,
   "metadata": {},
   "outputs": [
    {
     "data": {
      "text/plain": [
       "['code',\n",
       " 'departure',\n",
       " 'arrival',\n",
       " 'time',\n",
       " 'capacity',\n",
       " 'passengers',\n",
       " '__module__',\n",
       " 'airline',\n",
       " '__init__',\n",
       " 'announcement',\n",
       " 'num_seats_upd',\n",
       " 'tickets_sell',\n",
       " 'tickets_cancel',\n",
       " '__dict__',\n",
       " '__weakref__',\n",
       " '__doc__',\n",
       " '__new__',\n",
       " '__repr__',\n",
       " '__hash__',\n",
       " '__str__',\n",
       " '__getattribute__',\n",
       " '__setattr__',\n",
       " '__delattr__',\n",
       " '__lt__',\n",
       " '__le__',\n",
       " '__eq__',\n",
       " '__ne__',\n",
       " '__gt__',\n",
       " '__ge__',\n",
       " '__reduce_ex__',\n",
       " '__reduce__',\n",
       " '__subclasshook__',\n",
       " '__init_subclass__',\n",
       " '__format__',\n",
       " '__sizeof__',\n",
       " '__dir__',\n",
       " '__class__']"
      ]
     },
     "execution_count": 3,
     "metadata": {},
     "output_type": "execute_result"
    }
   ],
   "source": [
    "fly3.__dir__()"
   ]
  },
  {
   "cell_type": "code",
   "execution_count": 4,
   "metadata": {},
   "outputs": [
    {
     "data": {
      "text/plain": [
       "<__main__.fly at 0x10ae96cb0>"
      ]
     },
     "execution_count": 4,
     "metadata": {},
     "output_type": "execute_result"
    }
   ],
   "source": [
    "fly3"
   ]
  },
  {
   "cell_type": "code",
   "execution_count": 18,
   "metadata": {},
   "outputs": [],
   "source": [
    "class fly():\n",
    "    airline = \"THY\"\n",
    "    \n",
    "    def __init__(self, code, departure, arrival, time,capacity, passengers ):\n",
    "        self.code = code\n",
    "        self.departure = departure\n",
    "        self.arrival = arrival\n",
    "        self.time = time\n",
    "        self.capacity = capacity\n",
    "        self.passengers = passengers\n",
    "        \n",
    "    def __repr__(self):\n",
    "        return \"{} flight numbered is represented.\".format(self.code)\n",
    "    \n",
    "    def announcement(self): # this attribute return announcments\n",
    "        return f\"Ladies and gentelmens {self.code} flight numbered flying from {self.departure} \\\n",
    "to {self.arrival} will take {self.time} minutes. \"\n",
    "    \n",
    "    def num_seats_upd(self): # we can find suitable seats.\n",
    "        # return \" Suitable number of seats is {}.\".format(self.capacity - self.passengers)\n",
    "        return (self.capacity - self.passengers)\n",
    "    \n",
    "    def tickets_sell(self, tickets_sell = 1): # this attribute aggregate number of passengers when any tickket is sold.\n",
    "        if self.passengers + tickets_sell < self.capacity:\n",
    "            self.passengers += tickets_sell\n",
    "            self.num_seats_upd()\n",
    "            print(\"{} tickets are sold, available seats are {}\".\n",
    "                  format(tickets_sell, self.num_seats_upd()))\n",
    "        else:\n",
    "            print(\"Unfortunately seats are run out of.\")\n",
    "            \n",
    "    def tickets_cancel(self, tickets_cancel = 1): # This attribute run if passengers cancel the tickets.\n",
    "        self.passengers -= tickets_cancel\n",
    "        self.num_seats_upd()\n",
    "        print(\"{} tickets are canceled, available seats are {}\".\n",
    "        format(tickets_cancel, self.num_seats_upd()))\n",
    "        \n",
    "    "
   ]
  },
  {
   "cell_type": "code",
   "execution_count": 21,
   "metadata": {},
   "outputs": [],
   "source": [
    " # def __repr__(self):\n",
    " #       return (f\"{self.code} flight numbered is represented.\")\n",
    "fly3 = fly(\"TK234\", \"ASN\", \"ARL\", 40, 250, 200)"
   ]
  },
  {
   "cell_type": "code",
   "execution_count": 22,
   "metadata": {},
   "outputs": [
    {
     "data": {
      "text/plain": [
       "TK234 flight numbered is represented."
      ]
     },
     "execution_count": 22,
     "metadata": {},
     "output_type": "execute_result"
    }
   ],
   "source": [
    "fly3"
   ]
  },
  {
   "cell_type": "markdown",
   "metadata": {},
   "source": [
    "### INHERITENCE\n"
   ]
  },
  {
   "cell_type": "code",
   "execution_count": 29,
   "metadata": {},
   "outputs": [],
   "source": [
    "class vocational():\n",
    "    def __init__(self, departure, arrival):\n",
    "        self.departure = departure\n",
    "        self.arrival = arrival\n",
    "    \n",
    "    def announcement(self):\n",
    "        return (f\"Welcome to {self.departure} - {self.arrival} travelling.\")\n",
    "    \n",
    "class bus(vocational): # vocatonal is super class and bus is child class.\n",
    "    \n",
    "    def __init__(self, rest_stop):\n",
    "        self.rest_stop = rest_stop\n",
    "        vocational.__init__(self, departure, arrival)\n",
    "        \n",
    "    "
   ]
  },
  {
   "cell_type": "code",
   "execution_count": 30,
   "metadata": {},
   "outputs": [
    {
     "data": {
      "text/plain": [
       "'Welcome to ANT - BOD travelling.'"
      ]
     },
     "execution_count": 30,
     "metadata": {},
     "output_type": "execute_result"
    }
   ],
   "source": [
    "vocational1 = vocational(\"ANT\", \"BOD\")\n",
    "vocational1.announcement()"
   ]
  },
  {
   "cell_type": "code",
   "execution_count": 31,
   "metadata": {},
   "outputs": [
    {
     "ename": "NameError",
     "evalue": "name 'departure' is not defined",
     "output_type": "error",
     "traceback": [
      "\u001b[0;31m---------------------------------------------------------------------------\u001b[0m",
      "\u001b[0;31mNameError\u001b[0m                                 Traceback (most recent call last)",
      "\u001b[1;32m/Users/hasanbalkanci/Desktop/AWS/Python/GitHub/Python/Python +/class_3.ipynb Cell 12'\u001b[0m in \u001b[0;36m<cell line: 1>\u001b[0;34m()\u001b[0m\n\u001b[0;32m----> <a href='vscode-notebook-cell:/Users/hasanbalkanci/Desktop/AWS/Python/GitHub/Python/Python%20%2B/class_3.ipynb#ch0000013?line=0'>1</a>\u001b[0m bus1 \u001b[39m=\u001b[39m bus([\u001b[39m\"\u001b[39;49m\u001b[39mFET\u001b[39;49m\u001b[39m\"\u001b[39;49m, \u001b[39m\"\u001b[39;49m\u001b[39mALAN\u001b[39;49m\u001b[39m\"\u001b[39;49m])\n",
      "\u001b[1;32m/Users/hasanbalkanci/Desktop/AWS/Python/GitHub/Python/Python +/class_3.ipynb Cell 10'\u001b[0m in \u001b[0;36mbus.__init__\u001b[0;34m(self, rest_stop)\u001b[0m\n\u001b[1;32m     <a href='vscode-notebook-cell:/Users/hasanbalkanci/Desktop/AWS/Python/GitHub/Python/Python%20%2B/class_3.ipynb#ch0000010?line=10'>11</a>\u001b[0m \u001b[39mdef\u001b[39;00m \u001b[39m__init__\u001b[39m(\u001b[39mself\u001b[39m, rest_stop):\n\u001b[1;32m     <a href='vscode-notebook-cell:/Users/hasanbalkanci/Desktop/AWS/Python/GitHub/Python/Python%20%2B/class_3.ipynb#ch0000010?line=11'>12</a>\u001b[0m     \u001b[39mself\u001b[39m\u001b[39m.\u001b[39mrest_stop \u001b[39m=\u001b[39m rest_stop\n\u001b[0;32m---> <a href='vscode-notebook-cell:/Users/hasanbalkanci/Desktop/AWS/Python/GitHub/Python/Python%20%2B/class_3.ipynb#ch0000010?line=12'>13</a>\u001b[0m     vocational\u001b[39m.\u001b[39m\u001b[39m__init__\u001b[39m(\u001b[39mself\u001b[39m, departure, arrival)\n",
      "\u001b[0;31mNameError\u001b[0m: name 'departure' is not defined"
     ]
    }
   ],
   "source": [
    "bus1 = bus([\"FET\", \"ALAN\"])"
   ]
  },
  {
   "cell_type": "code",
   "execution_count": 28,
   "metadata": {},
   "outputs": [
    {
     "data": {
      "text/plain": [
       "['FET', 'ALAN']"
      ]
     },
     "execution_count": 28,
     "metadata": {},
     "output_type": "execute_result"
    }
   ],
   "source": [
    "bus1.rest_stop"
   ]
  },
  {
   "cell_type": "code",
   "execution_count": null,
   "metadata": {},
   "outputs": [],
   "source": []
  }
 ],
 "metadata": {
  "interpreter": {
   "hash": "aee8b7b246df8f9039afb4144a1f6fd8d2ca17a180786b69acc140d282b71a49"
  },
  "kernelspec": {
   "display_name": "Python 3.10.0rc2 64-bit",
   "language": "python",
   "name": "python3"
  },
  "language_info": {
   "codemirror_mode": {
    "name": "ipython",
    "version": 3
   },
   "file_extension": ".py",
   "mimetype": "text/x-python",
   "name": "python",
   "nbconvert_exporter": "python",
   "pygments_lexer": "ipython3",
   "version": "3.10.0rc2"
  },
  "orig_nbformat": 4
 },
 "nbformat": 4,
 "nbformat_minor": 2
}
