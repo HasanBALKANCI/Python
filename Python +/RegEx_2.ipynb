{
 "cells": [
  {
   "cell_type": "markdown",
   "metadata": {},
   "source": [
    "##### {5} number \\w{5}\n",
    "##### {3,4} 3 or 4 numbers \\w{3,4}\n",
    "##### {2,}  at least 2 numbers \\w{2,}\n",
    "##### * 0 or more than  \\w*\n",
    "##### + 1 or more than \\w+\n",
    "##### ? 1 or none Murat?"
   ]
  },
  {
   "cell_type": "code",
   "execution_count": 3,
   "metadata": {},
   "outputs": [],
   "source": [
    "import re"
   ]
  },
  {
   "cell_type": "code",
   "execution_count": 4,
   "metadata": {},
   "outputs": [
    {
     "data": {
      "text/plain": [
       "<re.Match object; span=(29, 43), match='0535 - 8886622'>"
      ]
     },
     "execution_count": 4,
     "metadata": {},
     "output_type": "execute_result"
    }
   ],
   "source": [
    "sentence = \"Selam, benim telefon numaram 0535 - 8886622.\"\n",
    "patern = r\"\\d{3,4} - \\d{7}\"\n",
    "re.search(patern, sentence)\n"
   ]
  },
  {
   "cell_type": "code",
   "execution_count": 7,
   "metadata": {},
   "outputs": [
    {
     "name": "stdout",
     "output_type": "stream",
     "text": [
      " sevdigim (2, 11)\n",
      " kanal (11, 17)\n",
      " base42 (17, 24)\n"
     ]
    }
   ],
   "source": [
    "sentence_1 = \"En sevdigim kanal base42.\"\n",
    "patern = r\"\\s\\w{5,}\"\n",
    "\n",
    "for item in re.finditer(patern, sentence_1):\n",
    "    print(item.group(), item.span())"
   ]
  },
  {
   "cell_type": "code",
   "execution_count": 13,
   "metadata": {},
   "outputs": [
    {
     "name": "stdout",
     "output_type": "stream",
     "text": [
      "61 (22, 24)\n"
     ]
    }
   ],
   "source": [
    "sentence_1 = \"En sevdigim kanal base61.\"\n",
    "patern = r\"\\d+\"\n",
    "for item in re.finditer(patern, sentence_1):\n",
    "    print(item.group(), item.span())"
   ]
  },
  {
   "cell_type": "code",
   "execution_count": 18,
   "metadata": {},
   "outputs": [
    {
     "name": "stdout",
     "output_type": "stream",
     "text": [
      " base61 (17, 24)\n"
     ]
    }
   ],
   "source": [
    "sentence_1 = \"En sevdigim kanal base61.\"\n",
    "patern = r\"\\s\\w{4}\\d+\"\n",
    "for i in re.finditer(patern,sentence_1):\n",
    "    print(i.group(), i.span())"
   ]
  },
  {
   "cell_type": "code",
   "execution_count": 19,
   "metadata": {},
   "outputs": [
    {
     "ename": "IndentationError",
     "evalue": "expected an indented block after 'for' statement on line 3 (3164475166.py, line 3)",
     "output_type": "error",
     "traceback": [
      "\u001b[0;36m  Input \u001b[0;32mIn [19]\u001b[0;36m\u001b[0m\n\u001b[0;31m    for i in re.finditer(patern, tel_no):\u001b[0m\n\u001b[0m                                         ^\u001b[0m\n\u001b[0;31mIndentationError\u001b[0m\u001b[0;31m:\u001b[0m expected an indented block after 'for' statement on line 3\n"
     ]
    }
   ],
   "source": [
    "def gsm_operator_find(tel_no):\n",
    "    patern = r\"(\\d{3,4}) - (\\d{7})\"\n",
    "    for i in re.finditer(patern, tel_no):\n",
    "        if i = \n"
   ]
  },
  {
   "cell_type": "markdown",
   "metadata": {},
   "source": []
  }
 ],
 "metadata": {
  "interpreter": {
   "hash": "aee8b7b246df8f9039afb4144a1f6fd8d2ca17a180786b69acc140d282b71a49"
  },
  "kernelspec": {
   "display_name": "Python 3.10.0rc2 64-bit",
   "language": "python",
   "name": "python3"
  },
  "language_info": {
   "codemirror_mode": {
    "name": "ipython",
    "version": 3
   },
   "file_extension": ".py",
   "mimetype": "text/x-python",
   "name": "python",
   "nbconvert_exporter": "python",
   "pygments_lexer": "ipython3",
   "version": "3.10.0rc2"
  },
  "orig_nbformat": 4
 },
 "nbformat": 4,
 "nbformat_minor": 2
}
