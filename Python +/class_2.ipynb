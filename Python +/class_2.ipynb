{
 "cells": [
  {
   "cell_type": "code",
   "execution_count": 2,
   "metadata": {},
   "outputs": [],
   "source": [
    "class fly():\n",
    "    airline = \"THY\"\n",
    "    \n",
    "    def __init__(self, code, departure, arrival, time,capacity, passengers ):\n",
    "        self.code = code\n",
    "        self.departure = departure\n",
    "        self.arrival = arrival\n",
    "        self.time = time\n",
    "        self.capacity = capacity\n",
    "        self.passengers = passengers\n",
    "    \n",
    "    def announcement(self): # this attribute return announcments\n",
    "        return f\"Ladies and gentelmens {self.code} flight numbered flying from {self.departure} \\\n",
    "to {self.arrival} will take {self.time} minutes. \"\n",
    "    \n",
    "    def num_seats_upd(self): # we can find suitable seats.\n",
    "        # return \" Suitable number of seats is {}.\".format(self.capacity - self.passengers)\n",
    "        return (self.capacity - self.passengers)\n",
    "    \n",
    "    def tickets_sell(self, tickets_sell = 1): # this attribute aggregate number of passengers when any tickket is sold.\n",
    "        if self.passengers + tickets_sell < self.capacity:\n",
    "            self.passengers += tickets_sell\n",
    "            self.num_seats_upd()\n",
    "            print(\"{} tickets are sold, available seats are {}\".\n",
    "                  format(tickets_sell, self.num_seats_upd()))\n",
    "        else:\n",
    "            print(\"Unfortunately seats are run out of.\")\n",
    "            \n",
    "    def tickets_cancel(self, tickets_cancel = 1): # This attribute run if passengers cancel the tickets.\n",
    "        self.passengers -= tickets_cancel\n",
    "        self.num_seats_upd()\n",
    "        print(\"{} tickets are canceled, available seats are {}\".\n",
    "        format(tickets_cancel, self.num_seats_upd()))"
   ]
  },
  {
   "cell_type": "code",
   "execution_count": 3,
   "metadata": {},
   "outputs": [
    {
     "data": {
      "text/plain": [
       "'Ladies and gentelmens TK230 flight numbered flying from IST to ARL will take 180 minutes. '"
      ]
     },
     "execution_count": 3,
     "metadata": {},
     "output_type": "execute_result"
    }
   ],
   "source": [
    "fly4 = fly(\"TK230\", \"IST\", \"ARL\", 180, 270, 210)\n",
    "fly4.announcement()"
   ]
  },
  {
   "cell_type": "code",
   "execution_count": 6,
   "metadata": {},
   "outputs": [
    {
     "data": {
      "text/plain": [
       "20"
      ]
     },
     "execution_count": 6,
     "metadata": {},
     "output_type": "execute_result"
    }
   ],
   "source": [
    "fly4 = fly(\"TK342\", \"IST\", \"ARL\", 180, 270, 250)\n",
    "fly4.num_seats_upd()"
   ]
  },
  {
   "cell_type": "code",
   "execution_count": 7,
   "metadata": {},
   "outputs": [
    {
     "name": "stdout",
     "output_type": "stream",
     "text": [
      "5 tickets are sold, available seats are 15\n"
     ]
    }
   ],
   "source": [
    "# def tickets_sell(self, tickets_sell = 1)\n",
    "fly4.tickets_sell(5)"
   ]
  },
  {
   "cell_type": "code",
   "execution_count": 8,
   "metadata": {},
   "outputs": [
    {
     "name": "stdout",
     "output_type": "stream",
     "text": [
      "Unfortunately seats are run out of.\n"
     ]
    }
   ],
   "source": [
    "fly4.tickets_sell(70)"
   ]
  },
  {
   "cell_type": "code",
   "execution_count": 65,
   "metadata": {},
   "outputs": [
    {
     "data": {
      "text/plain": [
       "85"
      ]
     },
     "execution_count": 65,
     "metadata": {},
     "output_type": "execute_result"
    }
   ],
   "source": [
    "fly4.num_seats_upd()"
   ]
  },
  {
   "cell_type": "code",
   "execution_count": 66,
   "metadata": {},
   "outputs": [
    {
     "name": "stdout",
     "output_type": "stream",
     "text": [
      "1 tickets are canceled, available seats are 86\n"
     ]
    }
   ],
   "source": [
    "fly4.tickets_cancel()"
   ]
  }
 ],
 "metadata": {
  "interpreter": {
   "hash": "aee8b7b246df8f9039afb4144a1f6fd8d2ca17a180786b69acc140d282b71a49"
  },
  "kernelspec": {
   "display_name": "Python 3.10.0rc2 64-bit",
   "language": "python",
   "name": "python3"
  },
  "language_info": {
   "codemirror_mode": {
    "name": "ipython",
    "version": 3
   },
   "file_extension": ".py",
   "mimetype": "text/x-python",
   "name": "python",
   "nbconvert_exporter": "python",
   "pygments_lexer": "ipython3",
   "version": "3.10.0rc2"
  },
  "orig_nbformat": 4
 },
 "nbformat": 4,
 "nbformat_minor": 2
}
