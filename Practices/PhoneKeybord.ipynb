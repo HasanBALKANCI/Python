{
 "cells": [
  {
   "cell_type": "markdown",
   "metadata": {},
   "source": [
    "Summary\n",
    "\n",
    "Started in 2008 and recently resurging in popularity, a game known as Number Neighbour or Text Door Neighbor has people sending a text message to phone numbers near their own. Traditionally this was done for numbers ±1, so someone with the phone number 555-555-5555 has neighbors 555-555-5554 and 555-555-5556.\n",
    "\n",
    "We're going to take this a step further and think about neighbors based on a classic phone keypad.\n",
    "\n",
    "First, let's take a look at the classic phone keypad:\n",
    "\n",
    "1 2 3\n",
    "4 5 6\n",
    "7 8 9\n",
    "  0\n",
    "We can consider certain numbers adjacent if they appear directly next to or above/below each other. For example, 1 is adjacent to 2 and 4 (and nothing else), while 5 is adjacent to 2, 4, 6, and 8.\n",
    "\n",
    "Let's look for phone numbers that are \"neighbors\" of a given phone number by having any one (and only one) of their digits be off-by-one as a number adjacent to the original.\n",
    "\n",
    "By this definition, 555-555-5555 has both its original neighbors but also, e.g., 554-555-5555 and 555-555-5558.\n",
    "\n",
    "Problem\n",
    "\n",
    "Given a phone number of integer length N (1 ≤ N ≤ 10) as a number string (e.g. 555-555-5555 would be passed as \"5555555555\"), return an array of all phone numbers as number strings that would be considered neighbors of that phone number.\n",
    "\n",
    "Examples\n",
    "\n",
    "Given:\n",
    "\n",
    "  \"1\"\n",
    "\n",
    "Return:\n",
    "\n",
    "  [\"2\", \"4\"]\n",
    "Given:\n",
    "\n",
    "  \"8675309\"\n",
    "\n",
    "Return:\n",
    "\n",
    "  [\"5675309\", \"7675309\", \"9675309\", \"0675309\", \"8375309\", \"8575309\", \"8975309\",\n",
    "   \"8645309\", \"8685309\", \"8672309\", \"8674309\", \"8676309\", \"8678309\", \"8675209\",\n",
    "   \"8675609\", \"8675389\", \"8675306\", \"8675308\"]\n",
    "Notes\n",
    "\n",
    "Do not wrap around a side of the keypad when finding adjacent numbers. That is, do not consider 6 adjacent to 4 nor 0 adjacent to 2.\n",
    "Do not consider numbers that are diagonal to each other adjacent\n",
    "Do not worry about invalid characters, nil, or anything other than a valid number string being passed in\n",
    "Do not worry about the order of number strings in the array being returned\n"
   ]
  },
  {
   "cell_type": "code",
   "execution_count": null,
   "metadata": {
    "vscode": {
     "languageId": "plaintext"
    }
   },
   "outputs": [],
   "source": []
  }
 ],
 "metadata": {
  "language_info": {
   "name": "python"
  },
  "orig_nbformat": 4
 },
 "nbformat": 4,
 "nbformat_minor": 2
}
