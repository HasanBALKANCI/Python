{
 "cells": [
  {
   "cell_type": "markdown",
   "metadata": {},
   "source": [
    "Write an algorithm that will identify valid IPv4 addresses in dot-decimal format. IPs should be considered valid if they consist of four octets, with values between 0 and 255, inclusive.\n",
    "\n",
    "Valid inputs examples:\n",
    "\n",
    "Examples of valid inputs:\n",
    "* 1.2.3.4\n",
    "* 123.45.67.89\n",
    "\n",
    "Invalid input examples:\n",
    "\n",
    "* 1.2.3\n",
    "* 1.2.3.4.5\n",
    "* 123.456.78.90\n",
    "* 123.045.067.089\n"
   ]
  },
  {
   "cell_type": "code",
   "execution_count": 3,
   "metadata": {},
   "outputs": [],
   "source": [
    "def is_valid_IP(strng):\n",
    "    lst = strng.split('.')\n",
    "    passed = 0\n",
    "    for sect in lst:\n",
    "        if sect.isdigit():\n",
    "            if sect[0] != '0':\n",
    "                if 0 < int(sect) <= 255:\n",
    "                    passed += 1\n",
    "    return passed == 4\n",
    "    "
   ]
  },
  {
   "cell_type": "code",
   "execution_count": 8,
   "metadata": {},
   "outputs": [
    {
     "data": {
      "text/plain": [
       "False"
      ]
     },
     "execution_count": 8,
     "metadata": {},
     "output_type": "execute_result"
    }
   ],
   "source": [
    "is_valid_IP(\"123456789\")"
   ]
  },
  {
   "cell_type": "code",
   "execution_count": 9,
   "metadata": {},
   "outputs": [],
   "source": [
    "import re\n",
    "def is_valid_IP(strng):\n",
    "    return bool(re.match(r'^((\\d{1,2}|1\\d{2}|2[0-4]\\d|25[0-5])(\\.(?!$)|$)){4}(?=$)',strng))"
   ]
  }
 ],
 "metadata": {
  "interpreter": {
   "hash": "aee8b7b246df8f9039afb4144a1f6fd8d2ca17a180786b69acc140d282b71a49"
  },
  "kernelspec": {
   "display_name": "Python 3.10.0rc2 64-bit",
   "language": "python",
   "name": "python3"
  },
  "language_info": {
   "codemirror_mode": {
    "name": "ipython",
    "version": 3
   },
   "file_extension": ".py",
   "mimetype": "text/x-python",
   "name": "python",
   "nbconvert_exporter": "python",
   "pygments_lexer": "ipython3",
   "version": "3.10.0rc2"
  },
  "orig_nbformat": 4
 },
 "nbformat": 4,
 "nbformat_minor": 2
}
