{
 "cells": [
  {
   "cell_type": "markdown",
   "metadata": {},
   "source": [
    "Write simple .camelCase method (camel_case function in PHP, CamelCase in C# or camelCase in Java) for strings. All words must have their first letter capitalized without spaces.\n",
    "\n",
    "For instance:\n",
    "\n",
    "camelcase(\"hello case\") => HelloCase\n",
    "camelcase(\"camel case word\") => CamelCaseWord"
   ]
  },
  {
   "cell_type": "code",
   "execution_count": 15,
   "metadata": {},
   "outputs": [
    {
     "ename": "TypeError",
     "evalue": "'str' object does not support item assignment",
     "output_type": "error",
     "traceback": [
      "\u001b[0;31m---------------------------------------------------------------------------\u001b[0m",
      "\u001b[0;31mTypeError\u001b[0m                                 Traceback (most recent call last)",
      "\u001b[1;32m/Users/hasanbalkanci/Desktop/AWS/Python/GitHub/Python/Practices/CamelCase.ipynb Cell 2'\u001b[0m in \u001b[0;36m<cell line: 12>\u001b[0;34m()\u001b[0m\n\u001b[1;32m      <a href='vscode-notebook-cell:/Users/hasanbalkanci/Desktop/AWS/Python/GitHub/Python/Practices/CamelCase.ipynb#ch0000000?line=7'>8</a>\u001b[0m                 item\u001b[39m.\u001b[39mupper()\n\u001b[1;32m      <a href='vscode-notebook-cell:/Users/hasanbalkanci/Desktop/AWS/Python/GitHub/Python/Practices/CamelCase.ipynb#ch0000000?line=8'>9</a>\u001b[0m     \u001b[39mreturn\u001b[39;00m string\n\u001b[0;32m---> <a href='vscode-notebook-cell:/Users/hasanbalkanci/Desktop/AWS/Python/GitHub/Python/Practices/CamelCase.ipynb#ch0000000?line=11'>12</a>\u001b[0m camel_case(\u001b[39m\"\u001b[39;49m\u001b[39mcamel case word\u001b[39;49m\u001b[39m\"\u001b[39;49m)\n",
      "\u001b[1;32m/Users/hasanbalkanci/Desktop/AWS/Python/GitHub/Python/Practices/CamelCase.ipynb Cell 2'\u001b[0m in \u001b[0;36mcamel_case\u001b[0;34m(string)\u001b[0m\n\u001b[1;32m      <a href='vscode-notebook-cell:/Users/hasanbalkanci/Desktop/AWS/Python/GitHub/Python/Practices/CamelCase.ipynb#ch0000000?line=0'>1</a>\u001b[0m \u001b[39mdef\u001b[39;00m \u001b[39mcamel_case\u001b[39m(string):\n\u001b[1;32m      <a href='vscode-notebook-cell:/Users/hasanbalkanci/Desktop/AWS/Python/GitHub/Python/Practices/CamelCase.ipynb#ch0000000?line=1'>2</a>\u001b[0m     \u001b[39mif\u001b[39;00m string[\u001b[39m0\u001b[39m]\u001b[39m.\u001b[39mislower() :\n\u001b[0;32m----> <a href='vscode-notebook-cell:/Users/hasanbalkanci/Desktop/AWS/Python/GitHub/Python/Practices/CamelCase.ipynb#ch0000000?line=2'>3</a>\u001b[0m         string[\u001b[39m0\u001b[39m]\u001b[39m=\u001b[39m string\u001b[39m.\u001b[39mupper()\n\u001b[1;32m      <a href='vscode-notebook-cell:/Users/hasanbalkanci/Desktop/AWS/Python/GitHub/Python/Practices/CamelCase.ipynb#ch0000000?line=4'>5</a>\u001b[0m     \u001b[39mfor\u001b[39;00m item \u001b[39min\u001b[39;00m string:\n\u001b[1;32m      <a href='vscode-notebook-cell:/Users/hasanbalkanci/Desktop/AWS/Python/GitHub/Python/Practices/CamelCase.ipynb#ch0000000?line=5'>6</a>\u001b[0m         \u001b[39mif\u001b[39;00m item \u001b[39m==\u001b[39m \u001b[39m\"\u001b[39m\u001b[39m \u001b[39m\u001b[39m\"\u001b[39m:\n",
      "\u001b[0;31mTypeError\u001b[0m: 'str' object does not support item assignment"
     ]
    }
   ],
   "source": [
    "def camel_case(string):\n",
    "    liste = string.split()\n",
    "    \n",
    "    for item in liste:\n",
    "        if item == \" \":\n",
    "            item.upper()\n",
    "    return string\n",
    "        \n",
    "    \n",
    "camel_case(\"camel case word\")\n",
    "    \n",
    "    "
   ]
  },
  {
   "cell_type": "code",
   "execution_count": 3,
   "metadata": {},
   "outputs": [
    {
     "name": "stdout",
     "output_type": "stream",
     "text": [
      " sevdigim (2, 11)\n",
      " kanal (11, 17)\n",
      " base42 (17, 24)\n"
     ]
    }
   ],
   "source": [
    "import re\n",
    "sentence_1 = \"En sevdigim kanal base42.\"\n",
    "patern = r\"\\s\\w{5,}\"\n",
    "\n",
    "for item in re.finditer(patern, sentence_1):\n",
    "    print(item.group(), item.span())"
   ]
  }
 ],
 "metadata": {
  "interpreter": {
   "hash": "aee8b7b246df8f9039afb4144a1f6fd8d2ca17a180786b69acc140d282b71a49"
  },
  "kernelspec": {
   "display_name": "Python 3.10.0rc2 64-bit",
   "language": "python",
   "name": "python3"
  },
  "language_info": {
   "codemirror_mode": {
    "name": "ipython",
    "version": 3
   },
   "file_extension": ".py",
   "mimetype": "text/x-python",
   "name": "python",
   "nbconvert_exporter": "python",
   "pygments_lexer": "ipython3",
   "version": "3.10.0"
  },
  "orig_nbformat": 4
 },
 "nbformat": 4,
 "nbformat_minor": 2
}
