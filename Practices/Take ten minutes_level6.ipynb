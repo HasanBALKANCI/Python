{
 "cells": [
  {
   "cell_type": "markdown",
   "metadata": {},
   "source": [
    "You live in the city of Cartesia where all roads are laid out in a perfect grid. You arrived ten minutes too early to an appointment, so you decided to take the opportunity to go for a short walk. The city provides its citizens with a Walk Generating App on their phones -- everytime you press the button it sends you an array of one-letter strings representing directions to walk (eg. ['n', 's', 'w', 'e']). You always walk only a single block for each letter (direction) and you know it takes you one minute to traverse one city block, so create a function that will return true if the walk the app gives you will take you exactly ten minutes (you don't want to be early or late!) and will, of course, return you to your starting point. Return false otherwise.\n",
    "\n",
    "Note: you will always receive a valid array (string in COBOL) containing a random assortment of direction letters ('n', 's', 'e', or 'w' only). It will never give you an empty array (that's not a walk, that's standing still!)."
   ]
  },
  {
   "cell_type": "code",
   "execution_count": 3,
   "metadata": {},
   "outputs": [],
   "source": [
    "# 10 minutes walking\n",
    "# finially if get starting area return True else False\n",
    "def is_valid_walk(walk):\n",
    "    dicti = {\"n\": 1, \"s\" : -1, \"w\" : 1, \"e\" : -1}\n",
    "    ns, we = 0, 0\n",
    "    for i in walk:\n",
    "        if len(walk) != 10:\n",
    "            return False\n",
    "        elif i== \"n\" or i == \"s\" :\n",
    "            ns += dicti[i]\n",
    "        elif i == \"w\" or i == \"e\" :\n",
    "            we += dicti[i]\n",
    "    return not ns and not we"
   ]
  },
  {
   "cell_type": "code",
   "execution_count": 7,
   "metadata": {},
   "outputs": [],
   "source": [
    "# walk == 10\n",
    "# north == south\n",
    "# west == east\n",
    "\n",
    "def isValidWalk(walk):\n",
    "    if (walk.count('n') == walk.count('s') and \n",
    "        walk.count('e') == walk.count('w') and\n",
    "        len(walk) == 10):\n",
    "            return True\n",
    "    return False"
   ]
  }
 ],
 "metadata": {
  "interpreter": {
   "hash": "aee8b7b246df8f9039afb4144a1f6fd8d2ca17a180786b69acc140d282b71a49"
  },
  "kernelspec": {
   "display_name": "Python 3.10.0rc2 64-bit",
   "language": "python",
   "name": "python3"
  },
  "language_info": {
   "codemirror_mode": {
    "name": "ipython",
    "version": 3
   },
   "file_extension": ".py",
   "mimetype": "text/x-python",
   "name": "python",
   "nbconvert_exporter": "python",
   "pygments_lexer": "ipython3",
   "version": "3.10.0rc2"
  },
  "orig_nbformat": 4
 },
 "nbformat": 4,
 "nbformat_minor": 2
}
