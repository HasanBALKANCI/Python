{
 "cells": [
  {
   "cell_type": "markdown",
   "metadata": {},
   "source": [
    "Create a function that takes a positive integer and returns the next bigger number that can be formed by rearranging its digits. For example:\n",
    "\n",
    "* 12 ==> 21\n",
    "* 513 ==> 531\n",
    "* 2017 ==> 2071\n",
    "* nextBigger(num: 12)   // returns 21\n",
    "* nextBigger(num: 513)  // returns 531\n",
    "* nextBigger(num: 2017) // returns 2071\n",
    "* If the digits can't be rearranged to form a bigger number, return -1 (or nil in Swift):\n",
    "\n",
    "* 9 ==> -1\n",
    "* 111 ==> -1\n",
    "* 531 ==> -1\n",
    "* nextBigger(num: 9)   // returns nil\n",
    "* nextBigger(num: 111) // returns nil\n",
    "* nextBigger(num: 531) // returns nil\n"
   ]
  },
  {
   "cell_type": "code",
   "execution_count": 43,
   "metadata": {},
   "outputs": [
    {
     "name": "stdout",
     "output_type": "stream",
     "text": [
      "7 9\n"
     ]
    },
    {
     "data": {
      "text/plain": [
       "1234569780"
      ]
     },
     "execution_count": 43,
     "metadata": {},
     "output_type": "execute_result"
    }
   ],
   "source": [
    "# try 1: it doesnt work properly.\n",
    "def next_bigger(n):\n",
    "    n = str(n)\n",
    "    liste = [i for i in str(n)]\n",
    "    for i in range(1, len(n)):\n",
    "        if int(liste[-i]) > int(liste[-i-1]):\n",
    "            a = liste[-i-1]\n",
    "            b= liste[-i]\n",
    "            print(a,b) \n",
    "            liste[-i] = a\n",
    "            liste[-i-1] =  b\n",
    "            return int(\"\".join(liste))\n",
    "    return -1\n",
    "    \n",
    "next_bigger(1234567980)   \n",
    "    "
   ]
  },
  {
   "cell_type": "code",
   "execution_count": 72,
   "metadata": {},
   "outputs": [
    {
     "data": {
      "text/plain": [
       "23465"
      ]
     },
     "execution_count": 72,
     "metadata": {},
     "output_type": "execute_result"
    }
   ],
   "source": [
    "# try 2\n",
    "def next_bigger(n):\n",
    "    n = str(n)\n",
    "    liste = [i for i in str(n)]\n",
    "    liste_com = [] # i add this list for comprehanse whole numbers that coming before it.\n",
    "    for i in range(1, len(n)):\n",
    "        if int(liste[-i]) > int(liste[-i-1]):\n",
    "            a = liste[-i-1]\n",
    "           \n",
    "            for x in liste_com:\n",
    "                if int(x) >  int(a):\n",
    "                    liste[liste.index(x)] = a\n",
    "                    liste[-i-1] =  x\n",
    "                    print(liste)\n",
    "                    return int(\"\".join(liste))\n",
    "            else:\n",
    "                a = liste[-i-1]\n",
    "                b= liste[-i]\n",
    "                liste[-i] = a\n",
    "                liste[-i-1] =  b\n",
    "                return int(\"\".join(liste))\n",
    "        else:\n",
    "            liste_com.append(liste[-i])\n",
    "            # print(liste_com)\n",
    "            # return int(\"\".join(liste))\n",
    "    return -1\n",
    "next_bigger(23456)"
   ]
  },
  {
   "cell_type": "code",
   "execution_count": 14,
   "metadata": {},
   "outputs": [
    {
     "data": {
      "text/plain": [
       "['1', '2', '3', '4', '5']"
      ]
     },
     "execution_count": 14,
     "metadata": {},
     "output_type": "execute_result"
    }
   ],
   "source": [
    " liste = [i for i in str(12345)]\n",
    " liste\n",
    "   "
   ]
  },
  {
   "cell_type": "code",
   "execution_count": 10,
   "metadata": {},
   "outputs": [
    {
     "data": {
      "text/plain": [
       "['5', '4', '3', '2', '1']"
      ]
     },
     "execution_count": 10,
     "metadata": {},
     "output_type": "execute_result"
    }
   ],
   "source": [
    " liste = [i for i in reversed(str(12345))]\n",
    " liste"
   ]
  },
  {
   "cell_type": "code",
   "execution_count": 39,
   "metadata": {},
   "outputs": [
    {
     "name": "stdout",
     "output_type": "stream",
     "text": [
      "['0', '2', '5']\n"
     ]
    },
    {
     "data": {
      "text/plain": [
       "'123025'"
      ]
     },
     "execution_count": 39,
     "metadata": {},
     "output_type": "execute_result"
    }
   ],
   "source": [
    "liste = [\"1\",\"2\",\"3\",\"2\",\"5\",\"0\"]\n",
    "print(sorted(liste[-3::]))\n",
    "\"\".join(liste).replace(\"\".join(liste[-3::]), \"\".join(sorted(liste[-3::])))\n"
   ]
  },
  {
   "cell_type": "code",
   "execution_count": 69,
   "metadata": {},
   "outputs": [
    {
     "data": {
      "text/plain": [
       "-2"
      ]
     },
     "execution_count": 69,
     "metadata": {},
     "output_type": "execute_result"
    }
   ],
   "source": [
    "liste = [\"1\",\"2\",\"3\",\"2\",\"5\",\"0\"]\n",
    "(-list(reversed(liste)).index(\"2\"))"
   ]
  },
  {
   "cell_type": "code",
   "execution_count": 55,
   "metadata": {},
   "outputs": [
    {
     "data": {
      "text/plain": [
       "1"
      ]
     },
     "execution_count": 55,
     "metadata": {},
     "output_type": "execute_result"
    }
   ],
   "source": [
    "[\"1\",\"2\",\"3\",\"2\",\"5\",\"0\"].index(\"2\")"
   ]
  },
  {
   "cell_type": "code",
   "execution_count": 78,
   "metadata": {},
   "outputs": [
    {
     "data": {
      "text/plain": [
       "144"
      ]
     },
     "execution_count": 78,
     "metadata": {},
     "output_type": "execute_result"
    }
   ],
   "source": [
    "def next_bigger(n):\n",
    "    n = str(n)\n",
    "    liste = [i for i in str(n)]\n",
    "    liste_com = [] # i add this list for comprehanse whole numbers that coming before it.\n",
    "    for i in range(1, len(n)):\n",
    "        if int(liste[-i]) > int(liste[-i-1]):\n",
    "            \n",
    "            a = liste[-i-1]\n",
    "            for x in liste_com:\n",
    "                \n",
    "                if int(x) >  int(a):\n",
    "                    liste[liste.index(x)] = a\n",
    "                    liste[-i-1] =  x\n",
    "    \n",
    "                    \n",
    "                    return int(\"\".join(liste).replace(\"\".join(liste[-i-1::]), \"\".join(sorted(liste[-i-1::]))))\n",
    "            else:\n",
    "                \n",
    "               \n",
    "                a = liste[-i-1]\n",
    "                b= liste[-i]\n",
    "                liste[-i] = a\n",
    "                liste[-i-1] =  b\n",
    "                return int(\"\".join(liste))\n",
    "        else:\n",
    "            liste_com.append(liste[-i])\n",
    "            # print(liste_com)\n",
    "            # return int(\"\".join(liste))\n",
    "    return -1\n",
    "next_bigger(144)"
   ]
  },
  {
   "cell_type": "code",
   "execution_count": null,
   "metadata": {},
   "outputs": [],
   "source": [
    "def next_bigger(n):"
   ]
  },
  {
   "cell_type": "markdown",
   "metadata": {},
   "source": []
  }
 ],
 "metadata": {
  "interpreter": {
   "hash": "aee8b7b246df8f9039afb4144a1f6fd8d2ca17a180786b69acc140d282b71a49"
  },
  "kernelspec": {
   "display_name": "Python 3.10.0rc2 64-bit",
   "language": "python",
   "name": "python3"
  },
  "language_info": {
   "codemirror_mode": {
    "name": "ipython",
    "version": 3
   },
   "file_extension": ".py",
   "mimetype": "text/x-python",
   "name": "python",
   "nbconvert_exporter": "python",
   "pygments_lexer": "ipython3",
   "version": "3.10.0rc2"
  },
  "orig_nbformat": 4
 },
 "nbformat": 4,
 "nbformat_minor": 2
}
