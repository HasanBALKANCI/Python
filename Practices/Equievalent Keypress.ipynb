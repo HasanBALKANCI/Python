{
 "cells": [
  {
   "cell_type": "markdown",
   "metadata": {},
   "source": [
    "* Input: [\"a,b,c,d\", \"a,b,c,d,-B,d\"] \n",
    "* Output: true\n",
    "* Input: [\"c,a,r,d\", \"c,a,-B,r,d\"] \n",
    "* Output: false"
   ]
  },
  {
   "cell_type": "code",
   "execution_count": 9,
   "metadata": {},
   "outputs": [
    {
     "data": {
      "text/plain": [
       "False"
      ]
     },
     "execution_count": 9,
     "metadata": {},
     "output_type": "execute_result"
    }
   ],
   "source": [
    "def EquivalentKeypresses(strArr):\n",
    "  str_1= []\n",
    "  str_2= []\n",
    "  for i in strArr[0]:\n",
    "    if i != \"-B\":\n",
    "        str_1 += i\n",
    "    else:\n",
    "        str_1 -= str_1[str_1.index(\"-B\")-1]\n",
    "  for i in strArr[1]:\n",
    "    if i != \"-B\":\n",
    "      str_2 += i\n",
    "    else:\n",
    "      str_2 -= str_2[str_2.index(i)-1]\n",
    "      str_2 -= str_2[str_2.index(i)-2]\n",
    "  \n",
    "  return str_1 == str_2\n",
    "EquivalentKeypresses([\"c,a,r,d\", \"c,a,-B,r,d\"])\n",
    " "
   ]
  },
  {
   "cell_type": "code",
   "execution_count": 3,
   "metadata": {},
   "outputs": [
    {
     "name": "stdout",
     "output_type": "stream",
     "text": [
      "['a', ',', 'b', ',', 'c', ',', 'd']\n",
      "['a', ',', 'b', ',', 'c', ',', 'd']\n"
     ]
    }
   ],
   "source": [
    "x = [\"a,b,c,d\", \"a,b,c,d,-B,d\"] \n",
    "str_1= []\n",
    "str_2= []\n",
    "for i in x[0]:\n",
    "    if i != \"-B\":\n",
    "        str_1 += i\n",
    "    else:\n",
    "        str_1 -= str_1[index(\"-B\")-1]\n",
    "print(str_1)\n",
    "for i in x[0]:\n",
    "    if i != \"-B\":\n",
    "        str_2 += i\n",
    "    else:\n",
    "        str_2 -= str_2[index(\"-B\")-1]\n",
    "print(str_2)\n",
    "        \n",
    "        \n",
    "        \n",
    "    \n",
    "   "
   ]
  }
 ],
 "metadata": {
  "interpreter": {
   "hash": "aee8b7b246df8f9039afb4144a1f6fd8d2ca17a180786b69acc140d282b71a49"
  },
  "kernelspec": {
   "display_name": "Python 3.10.0rc2 64-bit",
   "language": "python",
   "name": "python3"
  },
  "language_info": {
   "codemirror_mode": {
    "name": "ipython",
    "version": 3
   },
   "file_extension": ".py",
   "mimetype": "text/x-python",
   "name": "python",
   "nbconvert_exporter": "python",
   "pygments_lexer": "ipython3",
   "version": "3.10.0rc2"
  },
  "orig_nbformat": 4
 },
 "nbformat": 4,
 "nbformat_minor": 2
}
