{
 "cells": [
  {
   "cell_type": "markdown",
   "metadata": {},
   "source": [
    "* Input: [\"a,b,c,d\", \"a,b,c,d,-B,d\"] \n",
    "* Output: true\n",
    "* Input: [\"c,a,r,d\", \"c,a,-B,r,d\"] \n",
    "* Output: false"
   ]
  },
  {
   "cell_type": "code",
   "execution_count": null,
   "metadata": {},
   "outputs": [],
   "source": [
    "def EquivalentKeypresses(strArr):\n",
    "    \n",
    "    \n",
    "  \n",
    "\n",
    " \n",
    "  return strArr"
   ]
  },
  {
   "cell_type": "code",
   "execution_count": 6,
   "metadata": {},
   "outputs": [
    {
     "name": "stdout",
     "output_type": "stream",
     "text": [
      "a\n",
      "a\n"
     ]
    }
   ],
   "source": [
    "x = [\"a,b,c,d\", \"a,b,c,d,-B,d\"] \n",
    "str_1= []\n",
    "str_2= []\n",
    "for i in x[0]:\n",
    "    if i != \"-B\":\n",
    "        str_1 += i\n",
    "    else:\n",
    "        str_1 -= \n",
    "        \n",
    "        \n",
    "        \n",
    "    \n",
    "   "
   ]
  }
 ],
 "metadata": {
  "interpreter": {
   "hash": "aee8b7b246df8f9039afb4144a1f6fd8d2ca17a180786b69acc140d282b71a49"
  },
  "kernelspec": {
   "display_name": "Python 3.10.0rc2 64-bit",
   "language": "python",
   "name": "python3"
  },
  "language_info": {
   "codemirror_mode": {
    "name": "ipython",
    "version": 3
   },
   "file_extension": ".py",
   "mimetype": "text/x-python",
   "name": "python",
   "nbconvert_exporter": "python",
   "pygments_lexer": "ipython3",
   "version": "3.10.0rc2"
  },
  "orig_nbformat": 4
 },
 "nbformat": 4,
 "nbformat_minor": 2
}
