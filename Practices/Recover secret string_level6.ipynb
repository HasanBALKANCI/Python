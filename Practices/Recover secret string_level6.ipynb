{
 "cells": [
  {
   "cell_type": "markdown",
   "metadata": {},
   "source": [
    "There is a secret string which is unknown to you. Given a collection of random triplets from the string, recover the original string.\n",
    "\n",
    "A triplet here is defined as a sequence of three letters such that each letter occurs somewhere before the next in the given string. \"whi\" is a triplet for the string \"whatisup\".\n",
    "\n",
    "As a simplification, you may assume that no letter occurs more than once in the secret string.\n",
    "\n",
    "You can assume nothing about the triplets given to you other than that they are valid triplets and that they contain sufficient information to deduce the original string. In particular, this means that the secret string will never contain letters that do not occur in one of the triplets given to you."
   ]
  },
  {
   "cell_type": "code",
   "execution_count": 10,
   "metadata": {},
   "outputs": [
    {
     "data": {
      "text/plain": [
       "'uis'"
      ]
     },
     "execution_count": 10,
     "metadata": {},
     "output_type": "execute_result"
    }
   ],
   "source": [
    "def recoverSecret(triplets):\n",
    "    import random\n",
    "    liste = []\n",
    "    for i in triplets:\n",
    "        if triplets.count(i) == 1:\n",
    "            liste += [i]\n",
    "    return \"\".join(random.sample(liste, 3))\n",
    "recoverSecret(\"whatisup\")\n",
    "    "
   ]
  },
  {
   "cell_type": "code",
   "execution_count": 19,
   "metadata": {},
   "outputs": [
    {
     "data": {
      "text/plain": [
       "[['p', 'w', 'u'],\n",
       " ['w', 'i', 't'],\n",
       " ['u', 'p', 'i'],\n",
       " ['h', 'u', 'a'],\n",
       " ['h', 't', 'p'],\n",
       " ['h', 'i', 'a'],\n",
       " ['s', 'i', 'h'],\n",
       " ['h', 'i', 't'],\n",
       " ['p', 't', 'w'],\n",
       " ['w', 'i', 'h'],\n",
       " ['t', 'u', 'p'],\n",
       " ['t', 'w', 'p'],\n",
       " ['t', 's', 'w'],\n",
       " ['p', 't', 'h'],\n",
       " ['u', 'p', 'i'],\n",
       " ['h', 's', 'u'],\n",
       " ['s', 'w', 'u'],\n",
       " ['w', 't', 'u'],\n",
       " ['i', 'p', 'h'],\n",
       " ['a', 'p', 't'],\n",
       " ['i', 'u', 'w'],\n",
       " ['h', 'p', 's'],\n",
       " ['p', 'a', 'u'],\n",
       " ['a', 's', 'u'],\n",
       " ['t', 'a', 'i'],\n",
       " ['w', 'p', 'u'],\n",
       " ['t', 's', 'i'],\n",
       " ['a', 'p', 't'],\n",
       " ['i', 't', 'h'],\n",
       " ['i', 'u', 'a'],\n",
       " ['p', 's', 't'],\n",
       " ['s', 'p', 'h'],\n",
       " ['w', 'i', 't'],\n",
       " ['w', 's', 'i'],\n",
       " ['u', 's', 'i'],\n",
       " ['w', 'u', 'i'],\n",
       " ['u', 'h', 'i'],\n",
       " ['u', 's', 'p'],\n",
       " ['w', 'i', 'h'],\n",
       " ['a', 't', 'h'],\n",
       " ['h', 'w', 'p'],\n",
       " ['h', 't', 'p'],\n",
       " ['w', 'h', 'p'],\n",
       " ['s', 'p', 'i'],\n",
       " ['t', 'p', 's'],\n",
       " ['w', 's', 'p'],\n",
       " ['w', 's', 'a'],\n",
       " ['h', 't', 'i'],\n",
       " ['u', 'p', 's'],\n",
       " ['t', 'a', 'p'],\n",
       " ['p', 't', 'u'],\n",
       " ['u', 'p', 'w'],\n",
       " ['u', 't', 'i'],\n",
       " ['p', 't', 'u'],\n",
       " ['h', 'a', 'i'],\n",
       " ['a', 's', 't'],\n",
       " ['p', 't', 'i']]"
      ]
     },
     "execution_count": 19,
     "metadata": {},
     "output_type": "execute_result"
    }
   ],
   "source": [
    "def recoverSecret(triplets):\n",
    "    import random\n",
    "    liste = []\n",
    "    liste1 = []\n",
    "    set1 = set()\n",
    "    for i in triplets:\n",
    "        if triplets.count(i) == 1:\n",
    "            liste += [i]\n",
    "    while len(liste1) <= 56:\n",
    "        liste1 += [(random.sample(liste, 3))]\n",
    "    return liste1\n",
    "recoverSecret(\"whatisup\")"
   ]
  },
  {
   "cell_type": "code",
   "execution_count": null,
   "metadata": {},
   "outputs": [],
   "source": []
  }
 ],
 "metadata": {
  "interpreter": {
   "hash": "aee8b7b246df8f9039afb4144a1f6fd8d2ca17a180786b69acc140d282b71a49"
  },
  "kernelspec": {
   "display_name": "Python 3.10.0rc2 64-bit",
   "language": "python",
   "name": "python3"
  },
  "language_info": {
   "codemirror_mode": {
    "name": "ipython",
    "version": 3
   },
   "file_extension": ".py",
   "mimetype": "text/x-python",
   "name": "python",
   "nbconvert_exporter": "python",
   "pygments_lexer": "ipython3",
   "version": "3.10.0rc2"
  },
  "orig_nbformat": 4
 },
 "nbformat": 4,
 "nbformat_minor": 2
}
