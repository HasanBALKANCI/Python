{
 "cells": [
  {
   "cell_type": "markdown",
   "metadata": {},
   "source": [
    "Snail Sort\n",
    "\n",
    "Given an n x n array, return the array elements arranged from outermost elements to the middle element, traveling clockwise.\n",
    "\n",
    "array = [[1,2,3],\n",
    "         [4,5,6],\n",
    "         [7,8,9]]\n",
    "snail(array) #=> [1,2,3,6,9,8,7,4,5]\n",
    "For better understanding, please follow the numbers of the next array consecutively:\n",
    "\n",
    "array = [[1,2,3],\n",
    "         [8,9,4],\n",
    "         [7,6,5]]\n",
    "snail(array) #=> [1,2,3,4,5,6,7,8,9]\n",
    "This image will illustrate things more clearly:\n",
    "\n"
   ]
  },
  {
   "cell_type": "code",
   "execution_count": 1,
   "metadata": {},
   "outputs": [
    {
     "data": {
      "text/plain": [
       "[1, 2, 3, 4, 5, 6, 7, 8, 9]"
      ]
     },
     "execution_count": 1,
     "metadata": {},
     "output_type": "execute_result"
    }
   ],
   "source": [
    "def snail(snail_map):\n",
    "    liste = []\n",
    "    for i in range(len(snail_map)):\n",
    "        for ii in range(len(snail_map)):\n",
    "            liste.append(snail_map[i][ii])\n",
    "    return liste\n",
    "snail_map= [[1,2,3],[4,5,6],[7,8,9]]\n",
    "snail(snail_map) # this return ordinary array, not travelling clockwise so it is wrong \n",
    "            "
   ]
  },
  {
   "cell_type": "code",
   "execution_count": 28,
   "metadata": {},
   "outputs": [
    {
     "name": "stdout",
     "output_type": "stream",
     "text": [
      "[1, 2, 3, 6, 9, 8, 7, 4, 5]\n"
     ]
    },
    {
     "data": {
      "text/plain": [
       "[1, 2, 3, 6, 9, 8, 7, 4, 5]"
      ]
     },
     "execution_count": 28,
     "metadata": {},
     "output_type": "execute_result"
    }
   ],
   "source": [
    "def snail(snail_map):\n",
    "    liste = []\n",
    "    for i in snail_map[0]:\n",
    "        liste.append(i)\n",
    "    for i in range(1, len(snail_map) ):\n",
    "        liste.append(snail_map[i][-1])\n",
    "    liste.pop()\n",
    "    for i in reversed(snail_map[len(snail_map)-1]):\n",
    "        liste.append(i)\n",
    "    for i in range(1, len(snail_map)-1 ):\n",
    "        liste.append(snail_map[len(snail_map)-i-1][0])\n",
    "    for i in snail_map[1][1:-1]:\n",
    "        liste.append(i)\n",
    "   \n",
    "   \n",
    "        print(liste)\n",
    "    return liste\n",
    "snail_map= [[1,2,3],[4,5,6],[7,8,9]]\n",
    "snail(snail_map)"
   ]
  }
 ],
 "metadata": {
  "interpreter": {
   "hash": "aee8b7b246df8f9039afb4144a1f6fd8d2ca17a180786b69acc140d282b71a49"
  },
  "kernelspec": {
   "display_name": "Python 3.10.0rc2 64-bit",
   "language": "python",
   "name": "python3"
  },
  "language_info": {
   "codemirror_mode": {
    "name": "ipython",
    "version": 3
   },
   "file_extension": ".py",
   "mimetype": "text/x-python",
   "name": "python",
   "nbconvert_exporter": "python",
   "pygments_lexer": "ipython3",
   "version": "3.10.0"
  },
  "orig_nbformat": 4
 },
 "nbformat": 4,
 "nbformat_minor": 2
}
