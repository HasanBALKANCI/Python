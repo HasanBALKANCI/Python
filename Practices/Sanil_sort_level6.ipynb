{
 "cells": [
  {
   "cell_type": "markdown",
   "metadata": {},
   "source": [
    "Snail Sort\n",
    "\n",
    "Given an n x n array, return the array elements arranged from outermost elements to the middle element, traveling clockwise.\n",
    "\n",
    "array = [[1,2,3],\n",
    "         [4,5,6],\n",
    "         [7,8,9]]\n",
    "snail(array) #=> [1,2,3,6,9,8,7,4,5]\n",
    "For better understanding, please follow the numbers of the next array consecutively:\n",
    "\n",
    "array = [[1,2,3],\n",
    "         [8,9,4],\n",
    "         [7,6,5]]\n",
    "snail(array) #=> [1,2,3,4,5,6,7,8,9]\n",
    "This image will illustrate things more clearly:\n",
    "\n"
   ]
  },
  {
   "cell_type": "code",
   "execution_count": 15,
   "metadata": {},
   "outputs": [
    {
     "data": {
      "text/plain": [
       "[1, 2, 3, 4, 5, 6, 7, 8, 9]"
      ]
     },
     "execution_count": 15,
     "metadata": {},
     "output_type": "execute_result"
    }
   ],
   "source": [
    "def snail(snail_map):\n",
    "    liste = []\n",
    "    for i in range(len(snail_map)):\n",
    "        for ii in range(len(snail_map)):\n",
    "            liste.append(snail_map[i][ii])\n",
    "    return liste\n",
    "snail_map= [[1,2,3],[4,5,6],[7,8,9]]\n",
    "snail(snail_map) # this return ordinary array, not travelling clockwise so it is wrong \n",
    "            "
   ]
  },
  {
   "cell_type": "code",
   "execution_count": 16,
   "metadata": {},
   "outputs": [
    {
     "name": "stdout",
     "output_type": "stream",
     "text": [
      "[1, 2, 3, 6, 9, 8, 7, 4, 5]\n"
     ]
    },
    {
     "data": {
      "text/plain": [
       "[1, 2, 3, 6, 9, 8, 7, 4, 5]"
      ]
     },
     "execution_count": 16,
     "metadata": {},
     "output_type": "execute_result"
    }
   ],
   "source": [
    "def snail(snail_map):\n",
    "    liste = []\n",
    "    for i in snail_map[0]:\n",
    "        liste.append(i)\n",
    "    for i in range(1, len(snail_map) ):\n",
    "        liste.append(snail_map[i][-1])\n",
    "    liste.pop()\n",
    "    for i in reversed(snail_map[len(snail_map)-1]):\n",
    "        liste.append(i)\n",
    "    for i in range(1, len(snail_map)-1 ):\n",
    "        liste.append(snail_map[len(snail_map)-i-1][0])\n",
    "    for i in snail_map[1][1:-1]:\n",
    "        liste.append(i)\n",
    "   \n",
    "   \n",
    "        print(liste)\n",
    "    return liste\n",
    "snail_map= [[1,2,3],[4,5,6],[7,8,9]]\n",
    "snail(snail_map)"
   ]
  },
  {
   "cell_type": "code",
   "execution_count": 25,
   "metadata": {},
   "outputs": [
    {
     "name": "stdout",
     "output_type": "stream",
     "text": [
      "[1, 2, 3, 'a', 4, 5, 6, 'b', 7, 8, 9, 'c', 1, 2, 3, 'a']\n"
     ]
    },
    {
     "ename": "NameError",
     "evalue": "name 'final' is not defined",
     "output_type": "error",
     "traceback": [
      "\u001b[0;31m---------------------------------------------------------------------------\u001b[0m",
      "\u001b[0;31mNameError\u001b[0m                                 Traceback (most recent call last)",
      "\u001b[1;32m/Users/hasanbalkanci/Desktop/AWS/Python/GitHub/Python/Practices/Sanil_sort_level6.ipynb Cell 4'\u001b[0m in \u001b[0;36m<cell line: 21>\u001b[0;34m()\u001b[0m\n\u001b[1;32m     <a href='vscode-notebook-cell:/Users/hasanbalkanci/Desktop/AWS/Python/GitHub/Python/Practices/Sanil_sort_level6.ipynb#ch0000003?line=13'>14</a>\u001b[0m         \u001b[39m#snail(snail_map)\u001b[39;00m\n\u001b[1;32m     <a href='vscode-notebook-cell:/Users/hasanbalkanci/Desktop/AWS/Python/GitHub/Python/Practices/Sanil_sort_level6.ipynb#ch0000003?line=19'>20</a>\u001b[0m snail_map\u001b[39m=\u001b[39m [[\u001b[39m1\u001b[39m,\u001b[39m2\u001b[39m,\u001b[39m3\u001b[39m, \u001b[39m\"\u001b[39m\u001b[39ma\u001b[39m\u001b[39m\"\u001b[39m],[\u001b[39m4\u001b[39m,\u001b[39m5\u001b[39m,\u001b[39m6\u001b[39m, \u001b[39m\"\u001b[39m\u001b[39mb\u001b[39m\u001b[39m\"\u001b[39m],[\u001b[39m7\u001b[39m,\u001b[39m8\u001b[39m,\u001b[39m9\u001b[39m, \u001b[39m\"\u001b[39m\u001b[39mc\u001b[39m\u001b[39m\"\u001b[39m], [\u001b[39m1\u001b[39m,\u001b[39m2\u001b[39m,\u001b[39m3\u001b[39m, \u001b[39m\"\u001b[39m\u001b[39ma\u001b[39m\u001b[39m\"\u001b[39m]]\n\u001b[0;32m---> <a href='vscode-notebook-cell:/Users/hasanbalkanci/Desktop/AWS/Python/GitHub/Python/Practices/Sanil_sort_level6.ipynb#ch0000003?line=20'>21</a>\u001b[0m snail(snail_map)\n",
      "\u001b[1;32m/Users/hasanbalkanci/Desktop/AWS/Python/GitHub/Python/Practices/Sanil_sort_level6.ipynb Cell 4'\u001b[0m in \u001b[0;36msnail\u001b[0;34m(snail_map)\u001b[0m\n\u001b[1;32m      <a href='vscode-notebook-cell:/Users/hasanbalkanci/Desktop/AWS/Python/GitHub/Python/Practices/Sanil_sort_level6.ipynb#ch0000003?line=6'>7</a>\u001b[0m \u001b[39mprint\u001b[39m(liste)\n\u001b[1;32m      <a href='vscode-notebook-cell:/Users/hasanbalkanci/Desktop/AWS/Python/GitHub/Python/Practices/Sanil_sort_level6.ipynb#ch0000003?line=7'>8</a>\u001b[0m \u001b[39mwhile\u001b[39;00m \u001b[39mlen\u001b[39m(liste) :\n\u001b[0;32m----> <a href='vscode-notebook-cell:/Users/hasanbalkanci/Desktop/AWS/Python/GitHub/Python/Practices/Sanil_sort_level6.ipynb#ch0000003?line=8'>9</a>\u001b[0m     final\u001b[39m.\u001b[39mappend(liste[\u001b[39m0\u001b[39m:l] \u001b[39m+\u001b[39m liste[\u001b[39m2\u001b[39m\u001b[39m*\u001b[39ml \u001b[39m-\u001b[39m \u001b[39m1\u001b[39m::l] \u001b[39m+\u001b[39mliste[l\u001b[39m*\u001b[39ml\u001b[39m-\u001b[39m(l\u001b[39m-\u001b[39m\u001b[39m1\u001b[39m) :l\u001b[39m*\u001b[39ml \u001b[39m-\u001b[39m (l\u001b[39m+\u001b[39m\u001b[39m1\u001b[39m): \u001b[39m-\u001b[39m\u001b[39m1\u001b[39m] \u001b[39m+\u001b[39m liste[l:l\u001b[39m+\u001b[39m\u001b[39m2\u001b[39m]) \n\u001b[1;32m     <a href='vscode-notebook-cell:/Users/hasanbalkanci/Desktop/AWS/Python/GitHub/Python/Practices/Sanil_sort_level6.ipynb#ch0000003?line=9'>10</a>\u001b[0m     \u001b[39mprint\u001b[39m(final)\n\u001b[1;32m     <a href='vscode-notebook-cell:/Users/hasanbalkanci/Desktop/AWS/Python/GitHub/Python/Practices/Sanil_sort_level6.ipynb#ch0000003?line=10'>11</a>\u001b[0m     \u001b[39mfor\u001b[39;00m i \u001b[39min\u001b[39;00m final:\n",
      "\u001b[0;31mNameError\u001b[0m: name 'final' is not defined"
     ]
    }
   ],
   "source": [
    "def snail(snail_map):\n",
    "    liste = []\n",
    "    snail_l = []\n",
    "    l = len(snail_map)\n",
    "    for i in snail_map:\n",
    "        liste += i\n",
    "    print(liste)\n",
    "    while len(liste) :\n",
    "        final.append(liste[0:l] + liste[2*l - 1::l] +liste[l*l-(l-1) :l*l - (l+1): -1] + liste[l:l+2]) \n",
    "        print(final)\n",
    "        for i in final:\n",
    "            liste.remove(i) \n",
    "    \n",
    "        #snail(snail_map)\n",
    "        \n",
    "        \n",
    "        \n",
    "        \n",
    "    \n",
    "snail_map= [[1,2,3, \"a\"],[4,5,6, \"b\"],[7,8,9, \"c\"], [1,2,3, \"a\"]]\n",
    "snail(snail_map)"
   ]
  },
  {
   "cell_type": "code",
   "execution_count": 17,
   "metadata": {},
   "outputs": [
    {
     "name": "stdout",
     "output_type": "stream",
     "text": [
      "[1, 2, 3, 6, 9, 8, 7, 4, 5]\n"
     ]
    },
    {
     "data": {
      "text/plain": [
       "[1, 2, 3, 6, 9, 8, 7, 4, 5]"
      ]
     },
     "execution_count": 17,
     "metadata": {},
     "output_type": "execute_result"
    }
   ],
   "source": [
    "def snail(snail_map):\n",
    "    liste = []\n",
    "    for i in snail_map[0]:\n",
    "        liste.append(i)\n",
    "        \n",
    "    for i in range(1, len(snail_map) ):\n",
    "        liste.append(snail_map[i][-1])\n",
    "    liste.pop()\n",
    "    for i in reversed(snail_map[len(snail_map)-1]):\n",
    "        liste.append(i)\n",
    "    for i in range(1, len(snail_map)-1 ):\n",
    "        liste.append(snail_map[len(snail_map)-i-1][0])\n",
    "    for i in snail_map[1][1:-1]:\n",
    "        liste.append(i)\n",
    "   \n",
    "   \n",
    "        print(liste)\n",
    "    return liste\n",
    "snail_map= [[1,2,3],[4,5,6],[7,8,9]]\n",
    "snail(snail_map)"
   ]
  },
  {
   "cell_type": "code",
   "execution_count": 19,
   "metadata": {},
   "outputs": [
    {
     "ename": "TypeError",
     "evalue": "unsupported operand type(s) for -: 'list' and 'list'",
     "output_type": "error",
     "traceback": [
      "\u001b[0;31m---------------------------------------------------------------------------\u001b[0m",
      "\u001b[0;31mTypeError\u001b[0m                                 Traceback (most recent call last)",
      "\u001b[1;32m/Users/hasanbalkanci/Desktop/AWS/Python/GitHub/Python/Practices/Sanil_sort_level6.ipynb Cell 6'\u001b[0m in \u001b[0;36m<cell line: 3>\u001b[0;34m()\u001b[0m\n\u001b[1;32m      <a href='vscode-notebook-cell:/Users/hasanbalkanci/Desktop/AWS/Python/GitHub/Python/Practices/Sanil_sort_level6.ipynb#ch0000005?line=0'>1</a>\u001b[0m l1 \u001b[39m=\u001b[39m [\u001b[39m1\u001b[39m,\u001b[39m2\u001b[39m,\u001b[39m6\u001b[39m,\u001b[39m8\u001b[39m]\n\u001b[1;32m      <a href='vscode-notebook-cell:/Users/hasanbalkanci/Desktop/AWS/Python/GitHub/Python/Practices/Sanil_sort_level6.ipynb#ch0000005?line=1'>2</a>\u001b[0m l2 \u001b[39m=\u001b[39m [\u001b[39m2\u001b[39m,\u001b[39m3\u001b[39m,\u001b[39m5\u001b[39m,\u001b[39m8\u001b[39m]\n\u001b[0;32m----> <a href='vscode-notebook-cell:/Users/hasanbalkanci/Desktop/AWS/Python/GitHub/Python/Practices/Sanil_sort_level6.ipynb#ch0000005?line=2'>3</a>\u001b[0m l1 \u001b[39m-\u001b[39;49m l2\n",
      "\u001b[0;31mTypeError\u001b[0m: unsupported operand type(s) for -: 'list' and 'list'"
     ]
    }
   ],
   "source": [
    "l1 = [1,2,6,8]\n",
    "l2 = [2,3,5,8]\n",
    "l1 - l2 "
   ]
  },
  {
   "cell_type": "code",
   "execution_count": 21,
   "metadata": {},
   "outputs": [],
   "source": [
    "[1,2,3,4].remove(1)"
   ]
  },
  {
   "cell_type": "code",
   "execution_count": 18,
   "metadata": {},
   "outputs": [
    {
     "data": {
      "text/plain": [
       "'[1, 2, 3, 4]'"
      ]
     },
     "execution_count": 18,
     "metadata": {},
     "output_type": "execute_result"
    }
   ],
   "source": []
  },
  {
   "cell_type": "code",
   "execution_count": 55,
   "metadata": {},
   "outputs": [
    {
     "name": "stdout",
     "output_type": "stream",
     "text": [
      "123450505\n",
      "67890123456789012345\n"
     ]
    }
   ],
   "source": [
    "def snail(snail_map):\n",
    "    x = \"\"\n",
    "    son = \"\"\n",
    "    a = len(snail_map)\n",
    "    for i in snail_map:\n",
    "        for ii in i:\n",
    "            x += str(ii)\n",
    "    son += (x[:a])\n",
    "    x = (x.replace(x[:a], \"\",1))\n",
    "    son += (x[a-1::a])\n",
    "    x = (x.replace(x[a-1::a], \"\",1))\n",
    "    \n",
    "    #snail(snail_map)\n",
    "    print(son)\n",
    "    print(x)\n",
    "    \n",
    "     \n",
    "snail_map= [[1,2,3,4,5],[6,7,8,9,0],[1,2,3,4,5],[6,7,8,9,0],[1,2,3,4,5]]\n",
    "snail(snail_map)"
   ]
  },
  {
   "cell_type": "code",
   "execution_count": 47,
   "metadata": {},
   "outputs": [
    {
     "data": {
      "text/plain": [
       "'1234567890123456789012345'"
      ]
     },
     "execution_count": 47,
     "metadata": {},
     "output_type": "execute_result"
    }
   ],
   "source": [
    "\"1234567890123456789012345\".replace(\"1234505054321616\",\"\",1)"
   ]
  }
 ],
 "metadata": {
  "interpreter": {
   "hash": "aee8b7b246df8f9039afb4144a1f6fd8d2ca17a180786b69acc140d282b71a49"
  },
  "kernelspec": {
   "display_name": "Python 3.10.0rc2 64-bit",
   "language": "python",
   "name": "python3"
  },
  "language_info": {
   "codemirror_mode": {
    "name": "ipython",
    "version": 3
   },
   "file_extension": ".py",
   "mimetype": "text/x-python",
   "name": "python",
   "nbconvert_exporter": "python",
   "pygments_lexer": "ipython3",
   "version": "3.10.0rc2"
  },
  "orig_nbformat": 4
 },
 "nbformat": 4,
 "nbformat_minor": 2
}
