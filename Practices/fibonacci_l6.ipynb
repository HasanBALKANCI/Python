{
 "cells": [
  {
   "cell_type": "markdown",
   "metadata": {},
   "source": [
    "The drawing shows 6 squares the sides of which have a length of 1, 1, 2, 3, 5, 8. It's easy to see that the sum of the perimeters of these squares is : 4 * (1 + 1 + 2 + 3 + 5 + 8) = 4 * 20 = 80\n",
    "\n",
    "Could you give the sum of the perimeters of all the squares in a rectangle when there are n + 1 squares disposed in the same manner as in the drawing:\n",
    "\n",
    "alternative text\n",
    "\n",
    "Hint:\n",
    "\n",
    "See Fibonacci sequence\n",
    "\n",
    "Ref:\n",
    "\n",
    "http://oeis.org/A000045\n",
    "\n",
    "The function perimeter has for parameter n where n + 1 is the number of squares (they are numbered from 0 to n) and returns the total perimeter of all the squares.\n",
    "\n",
    "perimeter(5)  should return 80\n",
    "perimeter(7)  should return 216\n"
   ]
  },
  {
   "cell_type": "code",
   "execution_count": 44,
   "metadata": {},
   "outputs": [],
   "source": [
    "def perimeter(n):\n",
    "    a, b = 1, 2\n",
    "    while n:\n",
    "        a, b, n = b, a + b, n - 1\n",
    "    return 4 * (b - 1) "
   ]
  },
  {
   "cell_type": "code",
   "execution_count": 40,
   "metadata": {},
   "outputs": [
    {
     "data": {
      "text/plain": [
       "216"
      ]
     },
     "execution_count": 40,
     "metadata": {},
     "output_type": "execute_result"
    }
   ],
   "source": [
    "def  perimeter(n):\n",
    "    liste = [1]\n",
    "    for i in range(1,n+1):\n",
    "        liste.append(sum(liste[i-2:i]))\n",
    "      \n",
    "    return sum(liste) * 4\n",
    "perimeter(7)"
   ]
  }
 ],
 "metadata": {
  "interpreter": {
   "hash": "aee8b7b246df8f9039afb4144a1f6fd8d2ca17a180786b69acc140d282b71a49"
  },
  "kernelspec": {
   "display_name": "Python 3.10.0rc2 64-bit",
   "language": "python",
   "name": "python3"
  },
  "language_info": {
   "codemirror_mode": {
    "name": "ipython",
    "version": 3
   },
   "file_extension": ".py",
   "mimetype": "text/x-python",
   "name": "python",
   "nbconvert_exporter": "python",
   "pygments_lexer": "ipython3",
   "version": "3.10.0rc2"
  },
  "orig_nbformat": 4
 },
 "nbformat": 4,
 "nbformat_minor": 2
}
