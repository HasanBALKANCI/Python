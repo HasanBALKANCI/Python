{
 "cells": [
  {
   "cell_type": "markdown",
   "metadata": {},
   "source": [
    "The maximum sum subarray problem consists in finding the maximum sum of a contiguous subsequence in an array or list of integers:\n",
    "\n",
    "max_sequence([-2, 1, -3, 4, -1, 2, 1, -5, 4])\n",
    "# should be 6: [4, -1, 2, 1]\n",
    "Easy case is when the list is made up of only positive numbers and the maximum sum is the sum of the whole array. If the list is made up of only negative numbers, return 0 instead.\n",
    "\n",
    "Empty list is considered to have zero greatest sum. Note that the empty list or array is also a valid sublist/subarray."
   ]
  },
  {
   "cell_type": "code",
   "execution_count": 8,
   "metadata": {},
   "outputs": [
    {
     "data": {
      "text/plain": [
       "0"
      ]
     },
     "execution_count": 8,
     "metadata": {},
     "output_type": "execute_result"
    }
   ],
   "source": [
    "def max_sequence(arr):\n",
    "    sum_list = []\n",
    "    x = set(arr)\n",
    "    if len(arr) : \n",
    "        while len(sum_list) <=4:\n",
    "            sum_list.append(max(x))\n",
    "            x.remove(max(x))\n",
    "    else:\n",
    "        return 0\n",
    "    if sum(sum_list) > 0:\n",
    "        return sum(sum_list)\n",
    "    else:\n",
    "        return 0\n",
    "max_sequence([])"
   ]
  },
  {
   "cell_type": "code",
   "execution_count": 10,
   "metadata": {},
   "outputs": [
    {
     "data": {
      "text/plain": [
       "3"
      ]
     },
     "execution_count": 10,
     "metadata": {},
     "output_type": "execute_result"
    }
   ],
   "source": [
    "def maxSequence(arr):\n",
    "    max,curr=0,0\n",
    "    for x in arr:\n",
    "        curr+=x\n",
    "        if curr<0:curr=0\n",
    "        if curr>max:max=curr\n",
    "    return max\n",
    "max_sequence([-6, 1, -3, 4, -1, 2, 1, -5, 4])"
   ]
  }
 ],
 "metadata": {
  "interpreter": {
   "hash": "aee8b7b246df8f9039afb4144a1f6fd8d2ca17a180786b69acc140d282b71a49"
  },
  "kernelspec": {
   "display_name": "Python 3.10.0rc2 64-bit",
   "language": "python",
   "name": "python3"
  },
  "language_info": {
   "codemirror_mode": {
    "name": "ipython",
    "version": 3
   },
   "file_extension": ".py",
   "mimetype": "text/x-python",
   "name": "python",
   "nbconvert_exporter": "python",
   "pygments_lexer": "ipython3",
   "version": "3.10.0"
  },
  "orig_nbformat": 4
 },
 "nbformat": 4,
 "nbformat_minor": 2
}
