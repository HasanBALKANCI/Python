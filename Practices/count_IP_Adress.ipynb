{
 "cells": [
  {
   "cell_type": "markdown",
   "metadata": {},
   "source": [
    "Implement a function that receives two IPv4 addresses, and returns the number of addresses between them (including the first one, excluding the last one).\n",
    "\n",
    "All inputs will be valid IPv4 addresses in the form of strings. The last address will always be greater than the first one.\n",
    "\n",
    "Examples\n",
    "\n",
    "* With input \"10.0.0.0\", \"10.0.0.50\"  => return   50 \n",
    "* With input \"10.0.0.0\", \"10.0.1.0\"   => return  256 \n",
    "* With input \"20.0.0.10\", \"20.0.1.0\"  => return  246"
   ]
  },
  {
   "cell_type": "code",
   "execution_count": 60,
   "metadata": {},
   "outputs": [
    {
     "data": {
      "text/plain": [
       "246"
      ]
     },
     "execution_count": 60,
     "metadata": {},
     "output_type": "execute_result"
    }
   ],
   "source": [
    "def ips_between(start, end):\n",
    "    ip_start = start.split(sep = \".\")\n",
    "    # print(ip_start)\n",
    "    ip_end = end.split(sep = \".\")\n",
    "    # print(ip_end)\n",
    "    ip_return = list(map(lambda x, y : (int(y) - int(x)) , ip_start, ip_end))\n",
    "    ip_return = ip_return[3] + ip_return[2] * 256 + ip_return[1] * 256 * 256 + ip_return[0] * 256**3\n",
    "        \n",
    "    return(ip_return)\n",
    "ips_between(\"10.0.0.10\", \"10.0.1.0\")"
   ]
  },
  {
   "cell_type": "code",
   "execution_count": 40,
   "metadata": {},
   "outputs": [
    {
     "data": {
      "text/plain": [
       "[0, 0, 0, 1]"
      ]
     },
     "execution_count": 40,
     "metadata": {},
     "output_type": "execute_result"
    }
   ],
   "source": [
    "list(map(lambda x, y: int(y) - int(x),(\"10.0.0.0\").split(sep= \".\"), (\"10.0.0.1\").split(sep= \".\")))"
   ]
  },
  {
   "cell_type": "code",
   "execution_count": 33,
   "metadata": {},
   "outputs": [
    {
     "data": {
      "text/plain": [
       "4"
      ]
     },
     "execution_count": 33,
     "metadata": {},
     "output_type": "execute_result"
    }
   ],
   "source": [
    "int(\"10\") - int(\"6\")"
   ]
  },
  {
   "cell_type": "code",
   "execution_count": 61,
   "metadata": {},
   "outputs": [],
   "source": [
    "from ipaddress import ip_address\n",
    "\n",
    "def ips_between(start, end):\n",
    "    return int(ip_address(end)) - int(ip_address(start))"
   ]
  },
  {
   "cell_type": "code",
   "execution_count": 62,
   "metadata": {},
   "outputs": [],
   "source": [
    "def ips_between(start, end):\n",
    "    a = sum([int(e)*256**(3-i) for i, e in enumerate(start.split('.'))])\n",
    "    b = sum([int(e)*256**(3-i) for i, e in enumerate(end.split('.'))])\n",
    "    return abs(a-b)"
   ]
  },
  {
   "cell_type": "code",
   "execution_count": null,
   "metadata": {},
   "outputs": [],
   "source": [
    "from ipaddress import IPv4Address\n",
    "\n",
    "def ips_between(start, end):\n",
    "    return int(IPv4Address(end)) - int(IPv4Address(start))"
   ]
  }
 ],
 "metadata": {
  "interpreter": {
   "hash": "aee8b7b246df8f9039afb4144a1f6fd8d2ca17a180786b69acc140d282b71a49"
  },
  "kernelspec": {
   "display_name": "Python 3.10.0rc2 64-bit",
   "language": "python",
   "name": "python3"
  },
  "language_info": {
   "codemirror_mode": {
    "name": "ipython",
    "version": 3
   },
   "file_extension": ".py",
   "mimetype": "text/x-python",
   "name": "python",
   "nbconvert_exporter": "python",
   "pygments_lexer": "ipython3",
   "version": "3.10.0rc2"
  },
  "orig_nbformat": 4
 },
 "nbformat": 4,
 "nbformat_minor": 2
}
