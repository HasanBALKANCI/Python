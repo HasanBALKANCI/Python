{
 "cells": [
  {
   "cell_type": "markdown",
   "metadata": {},
   "source": [
    "he aim  is to decompose n! (factorial n) into its prime factors.\n",
    "\n",
    "Examples:\n",
    "\n",
    "n = 12; decomp(12) -> \"2^10 * 3^5 * 5^2 * 7 * 11\"\n",
    "since 12! is divisible by 2 ten times, by 3 five times, by 5 two times and by 7 and 11 only once.\n",
    "\n",
    "n = 22; decomp(22) -> \"2^19 * 3^9 * 5^4 * 7^3 * 11^2 * 13 * 17 * 19\"\n",
    "\n",
    "n = 25; decomp(25) -> 2^22 * 3^10 * 5^6 * 7^3 * 11^2 * 13 * 17 * 19 * 23\n",
    "Prime numbers should be in increasing order. When the exponent of a prime is 1 don't put the exponent.\n",
    "\n",
    "Notes\n",
    "\n",
    "* the function is decomp(n) and should return the decomposition of n! into its prime factors in increasing order of the primes, as a string.\n",
    "* factorial can be a very big number (4000! has 12674 digits, n can go from 300 to 4000).\n",
    "* In Fortran - as in any other language - the returned string is not permitted to contain any redundant trailing whitespace: you can use dynamically allocated character strings.\n",
    "FUNDAMENTALS"
   ]
  },
  {
   "cell_type": "markdown",
   "metadata": {},
   "source": []
  },
  {
   "cell_type": "code",
   "execution_count": 9,
   "metadata": {},
   "outputs": [],
   "source": [
    "from collections import defaultdict\n",
    "\n",
    "def dec(n):\n",
    "    decomp = defaultdict(lambda:0)\n",
    "    i = 2\n",
    "    while n > 1:\n",
    "        while n % i == 0:\n",
    "            n /= i\n",
    "            decomp[i] += 1\n",
    "        i += 1\n",
    "    return decomp\n",
    "            \n",
    "\n",
    "def decomp(n):\n",
    "    ans = defaultdict(lambda:0)\n",
    "    for i in range(2, n + 1):\n",
    "        for key, value in dec(i).items():\n",
    "            ans[key] += value\n",
    "    return ' * '.join('{}^{}'.format(x, y) if y > 1 else str(x) for x, y in sorted(ans.items()))"
   ]
  },
  {
   "cell_type": "code",
   "execution_count": null,
   "metadata": {},
   "outputs": [],
   "source": []
  }
 ],
 "metadata": {
  "interpreter": {
   "hash": "aee8b7b246df8f9039afb4144a1f6fd8d2ca17a180786b69acc140d282b71a49"
  },
  "kernelspec": {
   "display_name": "Python 3.10.4 64-bit",
   "language": "python",
   "name": "python3"
  },
  "language_info": {
   "codemirror_mode": {
    "name": "ipython",
    "version": 3
   },
   "file_extension": ".py",
   "mimetype": "text/x-python",
   "name": "python",
   "nbconvert_exporter": "python",
   "pygments_lexer": "ipython3",
   "version": "3.10.4"
  },
  "orig_nbformat": 4
 },
 "nbformat": 4,
 "nbformat_minor": 2
}
