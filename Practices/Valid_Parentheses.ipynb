{
 "cells": [
  {
   "cell_type": "markdown",
   "metadata": {},
   "source": [
    "Write a function that takes a string of parentheses, and determines if the order of the parentheses is valid. The function should return true if the string is valid, and false if it's invalid.\n",
    "\n",
    "Examples\n",
    "\n",
    "\"()\"              =>  true\n",
    "\")(()))\"          =>  false\n",
    "\"(\"               =>  false\n",
    "\"(())((()())())\"  =>  true\n",
    "Constraints\n",
    "\n",
    "0 <= input.length <= 100\n",
    "\n",
    "Along with opening (() and closing ()) parenthesis, input may contain any valid ASCII characters. Furthermore, the input string may be empty and/or not contain any parentheses at all. Do not treat other forms of brackets as parentheses (e.g. [], {}, <>).\n"
   ]
  },
  {
   "cell_type": "code",
   "execution_count": 14,
   "metadata": {},
   "outputs": [],
   "source": [
    "def valid_parentheses(string):\n",
    "    cnt = 0\n",
    "    for char in string:\n",
    "        if char == '(': cnt += 1\n",
    "        if char == ')': cnt -= 1\n",
    "        if cnt < 0: return False\n",
    "    return True if cnt == 0 else False"
   ]
  },
  {
   "cell_type": "code",
   "execution_count": 15,
   "metadata": {},
   "outputs": [],
   "source": [
    "def valid_parentheses(string):\n",
    "    count = 0\n",
    "    for i in string:\n",
    "        if i == \"(\":\n",
    "            count += 1\n",
    "        elif i == \")\":\n",
    "            count -= 1\n",
    "        if count < 0:\n",
    "            return False\n",
    "    return count == 0"
   ]
  }
 ],
 "metadata": {
  "interpreter": {
   "hash": "aee8b7b246df8f9039afb4144a1f6fd8d2ca17a180786b69acc140d282b71a49"
  },
  "kernelspec": {
   "display_name": "Python 3.10.0rc2 64-bit",
   "language": "python",
   "name": "python3"
  },
  "language_info": {
   "codemirror_mode": {
    "name": "ipython",
    "version": 3
   },
   "file_extension": ".py",
   "mimetype": "text/x-python",
   "name": "python",
   "nbconvert_exporter": "python",
   "pygments_lexer": "ipython3",
   "version": "3.10.0"
  },
  "orig_nbformat": 4
 },
 "nbformat": 4,
 "nbformat_minor": 2
}
