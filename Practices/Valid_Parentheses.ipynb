{
 "cells": [
  {
   "cell_type": "markdown",
   "metadata": {},
   "source": [
    "Write a function that takes a string of parentheses, and determines if the order of the parentheses is valid. The function should return true if the string is valid, and false if it's invalid.\n",
    "\n",
    "Examples\n",
    "\n",
    "\"()\"              =>  true\n",
    "\")(()))\"          =>  false\n",
    "\"(\"               =>  false\n",
    "\"(())((()())())\"  =>  true\n",
    "Constraints\n",
    "\n",
    "0 <= input.length <= 100\n",
    "\n",
    "Along with opening (() and closing ()) parenthesis, input may contain any valid ASCII characters. Furthermore, the input string may be empty and/or not contain any parentheses at all. Do not treat other forms of brackets as parentheses (e.g. [], {}, <>).\n"
   ]
  },
  {
   "cell_type": "code",
   "execution_count": null,
   "metadata": {},
   "outputs": [],
   "source": [
    "def valid_paren(input_str):\n",
    "  # Declaraing a stack.\n",
    "  stack = []\n",
    "  # Iterating over the entire string\n",
    "  for paren in input_str:\n",
    "    # If the input string contains an opening parenthesis,\n",
    "    # push in on to the stack.\n",
    "    if paren == '(' or paren == '[' or paren == '{':\n",
    "      stack.append(paren)\n",
    "    else:\n",
    "      # In the case of valid parentheses, the stack cannot be \n",
    "      # be empty if a closing parenthesis is encountered.\n",
    "      if not stack:\n",
    "        print(input_str, \"contains invalid parentheses.\")\n",
    "        return\n",
    "      else:\n",
    "        # If the input string contains a closing bracket,\n",
    "        # then pop the corresponding opening parenthesis if\n",
    "        # present.\n",
    "        top = stack[-1]\n",
    "        if paren == ')' and top == '(' or \\\n",
    "        paren == ']' and top == '[' or \\\n",
    "        paren == '}' and top == '{':\n",
    "          stack.pop()\n",
    "  # Checking the status of the stack to determine the\n",
    "  # validity of the string.\n",
    "  if not stack:\n",
    "    print(input_str, \"contains valid parentheses.\")\n",
    "  else:\n",
    "    print(input_str, \"contains invalid parentheses.\")"
   ]
  },
  {
   "cell_type": "code",
   "execution_count": 14,
   "metadata": {},
   "outputs": [],
   "source": [
    "def valid_parentheses(string):\n",
    "    cnt = 0\n",
    "    for char in string:\n",
    "        if char == '(': cnt += 1\n",
    "        if char == ')': cnt -= 1\n",
    "        if cnt < 0: return False\n",
    "    return True if cnt == 0 else False"
   ]
  },
  {
   "cell_type": "code",
   "execution_count": 15,
   "metadata": {},
   "outputs": [],
   "source": [
    "def valid_parentheses(string):\n",
    "    count = 0\n",
    "    for i in string:\n",
    "        if i == \"(\":\n",
    "            count += 1\n",
    "        elif i == \")\":\n",
    "            count -= 1\n",
    "        if count < 0:\n",
    "            return False\n",
    "    return count == 0"
   ]
  }
 ],
 "metadata": {
  "interpreter": {
   "hash": "40d3a090f54c6569ab1632332b64b2c03c39dcf918b08424e98f38b5ae0af88f"
  },
  "kernelspec": {
   "display_name": "Python 3.9.7 ('base')",
   "language": "python",
   "name": "python3"
  },
  "language_info": {
   "codemirror_mode": {
    "name": "ipython",
    "version": 3
   },
   "file_extension": ".py",
   "mimetype": "text/x-python",
   "name": "python",
   "nbconvert_exporter": "python",
   "pygments_lexer": "ipython3",
   "version": "3.9.7"
  },
  "orig_nbformat": 4
 },
 "nbformat": 4,
 "nbformat_minor": 2
}
