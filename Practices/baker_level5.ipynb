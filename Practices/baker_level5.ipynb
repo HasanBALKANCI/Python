{
 "cells": [
  {
   "cell_type": "markdown",
   "metadata": {},
   "source": [
    "Pete likes to bake some cakes. He has some recipes and ingredients. Unfortunately he is not good in maths. Can you help him to find out, how many cakes he could bake considering his recipes?\n",
    "\n",
    "Write a function cakes(), which takes the recipe (object) and the available ingredients (also an object) and returns the maximum number of cakes Pete can bake (integer). For simplicity there are no units for the amounts (e.g. 1 lb of flour or 200 g of sugar are simply 1 or 200). Ingredients that are not present in the objects, can be considered as 0.\n",
    "\n",
    "Examples:\n",
    "\n",
    "* must return 2\n",
    "cakes({flour: 500, sugar: 200, eggs: 1}, {flour: 1200, sugar: 1200, eggs: 5, milk: 200})\n",
    "* must return 0\n",
    "cakes({apples: 3, flour: 300, sugar: 150, milk: 100, oil: 100}, {sugar: 500, flour: 2000, milk: 2000})\n"
   ]
  },
  {
   "cell_type": "code",
   "execution_count": 32,
   "metadata": {},
   "outputs": [
    {
     "ename": "AttributeError",
     "evalue": "'dict_keys' object has no attribute 'issabset'",
     "output_type": "error",
     "traceback": [
      "\u001b[0;31m---------------------------------------------------------------------------\u001b[0m",
      "\u001b[0;31mAttributeError\u001b[0m                            Traceback (most recent call last)",
      "\u001b[1;32m/Users/hasanbalkanci/Desktop/AWS/Python/GitHub/Python/Practices/baker_level5.ipynb Cell 2'\u001b[0m in \u001b[0;36m<cell line: 8>\u001b[0;34m()\u001b[0m\n\u001b[1;32m      <a href='vscode-notebook-cell:/Users/hasanbalkanci/Desktop/AWS/Python/GitHub/Python/Practices/baker_level5.ipynb#ch0000000?line=3'>4</a>\u001b[0m     \u001b[39melse\u001b[39;00m:\n\u001b[1;32m      <a href='vscode-notebook-cell:/Users/hasanbalkanci/Desktop/AWS/Python/GitHub/Python/Practices/baker_level5.ipynb#ch0000000?line=4'>5</a>\u001b[0m         \u001b[39mreturn\u001b[39;00m \u001b[39m0\u001b[39m\n\u001b[0;32m----> <a href='vscode-notebook-cell:/Users/hasanbalkanci/Desktop/AWS/Python/GitHub/Python/Practices/baker_level5.ipynb#ch0000000?line=7'>8</a>\u001b[0m cakes({\u001b[39m\"\u001b[39;49m\u001b[39mflour\u001b[39;49m\u001b[39m\"\u001b[39;49m: \u001b[39m300\u001b[39;49m, \u001b[39m\"\u001b[39;49m\u001b[39msugar\u001b[39;49m\u001b[39m\"\u001b[39;49m: \u001b[39m200\u001b[39;49m, \u001b[39m\"\u001b[39;49m\u001b[39meggs\u001b[39;49m\u001b[39m\"\u001b[39;49m: \u001b[39m1\u001b[39;49m, \u001b[39m\"\u001b[39;49m\u001b[39mtat\u001b[39;49m\u001b[39m\"\u001b[39;49m : \u001b[39m2\u001b[39;49m}, {\u001b[39m\"\u001b[39;49m\u001b[39mflour\u001b[39;49m\u001b[39m\"\u001b[39;49m: \u001b[39m1200\u001b[39;49m, \u001b[39m\"\u001b[39;49m\u001b[39msugar\u001b[39;49m\u001b[39m\"\u001b[39;49m: \u001b[39m1200\u001b[39;49m, \u001b[39m\"\u001b[39;49m\u001b[39meggs\u001b[39;49m\u001b[39m\"\u001b[39;49m: \u001b[39m5\u001b[39;49m, \u001b[39m\"\u001b[39;49m\u001b[39mmilk\u001b[39;49m\u001b[39m\"\u001b[39;49m: \u001b[39m200\u001b[39;49m, \u001b[39m\"\u001b[39;49m\u001b[39mtat\u001b[39;49m\u001b[39m\"\u001b[39;49m : \u001b[39m0\u001b[39;49m})\n",
      "\u001b[1;32m/Users/hasanbalkanci/Desktop/AWS/Python/GitHub/Python/Practices/baker_level5.ipynb Cell 2'\u001b[0m in \u001b[0;36mcakes\u001b[0;34m(recipe, available)\u001b[0m\n\u001b[1;32m      <a href='vscode-notebook-cell:/Users/hasanbalkanci/Desktop/AWS/Python/GitHub/Python/Practices/baker_level5.ipynb#ch0000000?line=0'>1</a>\u001b[0m \u001b[39mdef\u001b[39;00m \u001b[39mcakes\u001b[39m(recipe, available):\n\u001b[0;32m----> <a href='vscode-notebook-cell:/Users/hasanbalkanci/Desktop/AWS/Python/GitHub/Python/Practices/baker_level5.ipynb#ch0000000?line=1'>2</a>\u001b[0m     \u001b[39mif\u001b[39;00m ((recipe\u001b[39m.\u001b[39;49mkeys())\u001b[39m.\u001b[39;49missabset(available\u001b[39m.\u001b[39mkeys()) ):\n\u001b[1;32m      <a href='vscode-notebook-cell:/Users/hasanbalkanci/Desktop/AWS/Python/GitHub/Python/Practices/baker_level5.ipynb#ch0000000?line=2'>3</a>\u001b[0m         \u001b[39mreturn\u001b[39;00m \u001b[39mmin\u001b[39m([\u001b[39m*\u001b[39m\u001b[39mmap\u001b[39m(\u001b[39mlambda\u001b[39;00m x, y: x\u001b[39m/\u001b[39m\u001b[39m/\u001b[39my, available\u001b[39m.\u001b[39mvalues(), recipe\u001b[39m.\u001b[39mvalues() )])\n\u001b[1;32m      <a href='vscode-notebook-cell:/Users/hasanbalkanci/Desktop/AWS/Python/GitHub/Python/Practices/baker_level5.ipynb#ch0000000?line=3'>4</a>\u001b[0m     \u001b[39melse\u001b[39;00m:\n",
      "\u001b[0;31mAttributeError\u001b[0m: 'dict_keys' object has no attribute 'issabset'"
     ]
    }
   ],
   "source": [
    "def cakes(recipe, available):\n",
    "    if ((recipe.keys()).issabset(available.keys()) ):\n",
    "        return min([*map(lambda x, y: x//y, available.values(), recipe.values() )])\n",
    "    else:\n",
    "        return 0\n",
    "        \n",
    "     \n",
    "cakes({\"flour\": 300, \"sugar\": 200, \"eggs\": 1, \"tat\" : 2}, {\"flour\": 1200, \"sugar\": 1200, \"eggs\": 5, \"milk\": 200, \"tat\" : 0})"
   ]
  },
  {
   "cell_type": "code",
   "execution_count": 22,
   "metadata": {},
   "outputs": [
    {
     "data": {
      "text/plain": [
       "dict_values([1200, 1200, 5, 200, 0])"
      ]
     },
     "execution_count": 22,
     "metadata": {},
     "output_type": "execute_result"
    }
   ],
   "source": [
    "{\"flour\": 1200, \"sugar\": 1200, \"eggs\": 5, \"milk\": 200, \"tat\" : 0}.values()"
   ]
  },
  {
   "cell_type": "code",
   "execution_count": 27,
   "metadata": {},
   "outputs": [
    {
     "data": {
      "text/plain": [
       "False"
      ]
     },
     "execution_count": 27,
     "metadata": {},
     "output_type": "execute_result"
    }
   ],
   "source": [
    "(['a', 'b']) == (['a', 'c'])"
   ]
  },
  {
   "cell_type": "code",
   "execution_count": 29,
   "metadata": {},
   "outputs": [
    {
     "data": {
      "text/plain": [
       "dict_keys(['flour', 'sugar', 'eggs', 'milk', 'tat'])"
      ]
     },
     "execution_count": 29,
     "metadata": {},
     "output_type": "execute_result"
    }
   ],
   "source": [
    "{\"flour\": 1200, \"sugar\": 1200, \"eggs\": 5, \"milk\": 200, \"tat\" : 0}.keys()"
   ]
  }
 ],
 "metadata": {
  "interpreter": {
   "hash": "aee8b7b246df8f9039afb4144a1f6fd8d2ca17a180786b69acc140d282b71a49"
  },
  "kernelspec": {
   "display_name": "Python 3.10.0rc2 64-bit",
   "language": "python",
   "name": "python3"
  },
  "language_info": {
   "codemirror_mode": {
    "name": "ipython",
    "version": 3
   },
   "file_extension": ".py",
   "mimetype": "text/x-python",
   "name": "python",
   "nbconvert_exporter": "python",
   "pygments_lexer": "ipython3",
   "version": "3.10.0rc2"
  },
  "orig_nbformat": 4
 },
 "nbformat": 4,
 "nbformat_minor": 2
}
