{
 "cells": [
  {
   "cell_type": "markdown",
   "metadata": {},
   "source": [
    "Well met with Fibonacci bigger brother, AKA Tribonacci.\n",
    "\n",
    "As the name may already reveal, it works basically like a Fibonacci, but summing the last 3 (instead of 2) numbers of the sequence to generate the next. And, worse part of it, regrettably I won't get to hear non-native Italian speakers trying to pronounce it :(\n",
    "\n",
    "So, if we are to start our Tribonacci sequence with [1, 1, 1] as a starting input (AKA signature), we have this sequence:\n",
    "\n",
    "[1, 1 ,1, 3, 5, 9, 17, 31, ...]\n",
    "But what if we started with [0, 0, 1] as a signature? As starting with [0, 1] instead of [1, 1] basically shifts the common Fibonacci sequence by once place, you may be tempted to think that we would get the same sequence shifted by 2 places, but that is not the case and we would get:\n",
    "\n",
    "[0, 0, 1, 1, 2, 4, 7, 13, 24, ...]\n",
    "Well, you may have guessed it by now, but to be clear: you need to create a fibonacci function that given a signature array/list, returns the first n elements - signature included of the so seeded sequence.\n",
    "\n",
    "Signature will always contain 3 numbers; n will always be a non-negative number; if n == 0, then return an empty array (except in C return NULL) and be ready for anything else which is not clearly specified ;)\n",
    "\n",
    "If you enjoyed this kata more advanced and generalized version of it can be found in the Xbonacci kata\n",
    "\n",
    "[Personal thanks to Professor Jim Fowler on Coursera for his awesome classes that I really recommend to any math enthusiast and for showing me this mathematical curiosity too with his usual contagious passion :)]\n"
   ]
  },
  {
   "cell_type": "code",
   "execution_count": 53,
   "metadata": {},
   "outputs": [],
   "source": [
    "def tribonacci(signature,n):\n",
    "    while len(signature) < n:\n",
    "        signature.append(sum(signature[-3:]))\n",
    "    \n",
    "    return signature[:n]"
   ]
  },
  {
   "cell_type": "code",
   "execution_count": 54,
   "metadata": {},
   "outputs": [],
   "source": [
    "def tribonacci(signature, n):\n",
    "    output = signature[:n]\n",
    "    while len(output) < n:\n",
    "        output.append(sum(output[-3:]))\n",
    "    return output"
   ]
  },
  {
   "cell_type": "code",
   "execution_count": 20,
   "metadata": {},
   "outputs": [
    {
     "data": {
      "text/plain": [
       "1"
      ]
     },
     "execution_count": 20,
     "metadata": {},
     "output_type": "execute_result"
    }
   ],
   "source": [
    "def tribonacci(signature, n):\n",
    "    liste = []\n",
    "    if n <= 3:\n",
    "            liste = signature[0]\n",
    "    for i in range(2,n):\n",
    "        if len(signature) <= n:\n",
    "            if len(signature) == 2:\n",
    "                liste.append(signature[i-1]+signature[i-2])\n",
    "            elif len(signature) == 1:\n",
    "                liste.append(signature[i-1])\n",
    "            else:\n",
    "                liste.append(signature[i]+signature[i-1]+signature[i-2])\n",
    "    return liste\n",
    "tribonacci([1, 1, 1], 1)"
   ]
  },
  {
   "cell_type": "code",
   "execution_count": 52,
   "metadata": {},
   "outputs": [
    {
     "data": {
      "text/plain": [
       "[1, 2, 3, 6, 11]"
      ]
     },
     "execution_count": 52,
     "metadata": {},
     "output_type": "execute_result"
    }
   ],
   "source": [
    "def tribonacci(signature, n):\n",
    "    # liste= []\n",
    "    for i in range(n):\n",
    "        if len(signature) < n:\n",
    "            signature.append(sum(signature[i:i+3]))  \n",
    "    return signature\n",
    "tribonacci([1,2,3], 5)\n"
   ]
  }
 ],
 "metadata": {
  "interpreter": {
   "hash": "aee8b7b246df8f9039afb4144a1f6fd8d2ca17a180786b69acc140d282b71a49"
  },
  "kernelspec": {
   "display_name": "Python 3.10.0rc2 64-bit",
   "language": "python",
   "name": "python3"
  },
  "language_info": {
   "codemirror_mode": {
    "name": "ipython",
    "version": 3
   },
   "file_extension": ".py",
   "mimetype": "text/x-python",
   "name": "python",
   "nbconvert_exporter": "python",
   "pygments_lexer": "ipython3",
   "version": "3.10.0rc2"
  },
  "orig_nbformat": 4
 },
 "nbformat": 4,
 "nbformat_minor": 2
}
