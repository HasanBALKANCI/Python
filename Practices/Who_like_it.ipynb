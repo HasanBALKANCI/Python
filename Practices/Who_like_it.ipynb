{
 "cells": [
  {
   "cell_type": "markdown",
   "metadata": {},
   "source": [
    "You probably know the \"like\" system from Facebook and other pages. People can \"like\" blog posts, pictures or other items. We want to create the text that should be displayed next to such an item.\n",
    "\n",
    "Implement the function which takes an array containing the names of people that like an item. It must return the display text as shown in the examples:\n",
    "\n",
    "* []                                -->  \"no one likes this\"\n",
    "* [\"Peter\"]                         -->  \"Peter likes this\"\n",
    "* [\"Jacob\", \"Alex\"]                 -->  \"Jacob and Alex like this\"\n",
    "* [\"Max\", \"John\", \"Mark\"]           -->  \"Max, John and Mark like this\"\n",
    "* [\"Alex\", \"Jacob\", \"Mark\", \"Max\"]  -->  \"Alex, Jacob and 2 others like this\""
   ]
  },
  {
   "cell_type": "code",
   "execution_count": 61,
   "metadata": {},
   "outputs": [],
   "source": [
    "def likes(names):\n",
    "    if not len(names):\n",
    "        print(\"no one like this\") \n",
    "    elif len(names) == 1:\n",
    "        print(\"\\\"\", names[0], \"likes this\"+\"\\\"\")\n",
    "    elif len(names) == 2:\n",
    "        print(\"\\\"\"+\" and \".join(names[0:2]),\"like this\" +\"\\\"\")\n",
    "    elif len(names) == 3:\n",
    "        print(\"\\\"\"+\", \".join(names[0:2]), \"and\", names[2], \"like this\"+ \"\\\"\")\n",
    "    elif len(names) > 3:\n",
    "        num = len(names) - 2\n",
    "        print(\"\\\"\"+\", \".join(names[0:2]), \"and\", num, \"others like this\" + \"\\\"\")\n",
    "    "
   ]
  },
  {
   "cell_type": "code",
   "execution_count": 59,
   "metadata": {},
   "outputs": [
    {
     "name": "stdout",
     "output_type": "stream",
     "text": [
      "\"Alex,Jacob and Mark like this\"\n"
     ]
    }
   ],
   "source": [
    "likes([\"Alex\", \"Jacob\", \"Mark\"])"
   ]
  },
  {
   "cell_type": "code",
   "execution_count": 52,
   "metadata": {},
   "outputs": [
    {
     "name": "stdout",
     "output_type": "stream",
     "text": [
      "\"Jacob and Alex like this\"\n"
     ]
    }
   ],
   "source": [
    "likes([\"Jacob\", \"Alex\"] )"
   ]
  },
  {
   "cell_type": "code",
   "execution_count": 45,
   "metadata": {},
   "outputs": [
    {
     "name": "stdout",
     "output_type": "stream",
     "text": [
      "\"no one like this\"\n"
     ]
    }
   ],
   "source": [
    "likes([] )"
   ]
  },
  {
   "cell_type": "code",
   "execution_count": 50,
   "metadata": {},
   "outputs": [
    {
     "name": "stdout",
     "output_type": "stream",
     "text": [
      "\" Peter likes this\"\n"
     ]
    }
   ],
   "source": [
    "likes([\"Peter\"])"
   ]
  }
 ],
 "metadata": {
  "interpreter": {
   "hash": "aee8b7b246df8f9039afb4144a1f6fd8d2ca17a180786b69acc140d282b71a49"
  },
  "kernelspec": {
   "display_name": "Python 3.10.0rc2 64-bit",
   "language": "python",
   "name": "python3"
  },
  "language_info": {
   "codemirror_mode": {
    "name": "ipython",
    "version": 3
   },
   "file_extension": ".py",
   "mimetype": "text/x-python",
   "name": "python",
   "nbconvert_exporter": "python",
   "pygments_lexer": "ipython3",
   "version": "3.10.0rc2"
  },
  "orig_nbformat": 4
 },
 "nbformat": 4,
 "nbformat_minor": 2
}
