{
 "cells": [
  {
   "cell_type": "markdown",
   "metadata": {},
   "source": [
    "Sum of Pairs\n",
    "\n",
    "Given a list of integers and a single sum value, return the first two values (parse from the left please) in order of appearance that add up to form the sum.\n",
    "\n",
    "sum_pairs([11, 3, 7, 5],         10)\n",
    "*             ^--^      3 + 7 = 10\n",
    "== [3, 7]\n",
    "\n",
    "sum_pairs([4, 3, 2, 3, 4],         6)\n",
    "*          ^-----^         4 + 2 = 6, indices: 0, 2 *\n",
    "*             ^-----^      3 + 3 = 6, indices: 1, 3\n",
    "*                ^-----^   2 + 4 = 6, indices: 2, 4\n",
    "*  * entire pair is earlier, and therefore is the correct answer\n",
    "== [4, 2]\n",
    "\n",
    "sum_pairs([0, 0, -2, 3], 2)\n",
    "*  there are no pairs of values that can be added to produce 2.\n",
    "== None/nil/undefined (Based on the language)\n",
    "\n",
    "sum_pairs([10, 5, 2, 3, 7, 5],         10)\n",
    "*              ^-----------^   5 + 5 = 10, indices: 1, 5\n",
    "*                    ^--^      3 + 7 = 10, indices: 3, 4 *\n",
    "*  * entire pair is earlier, and therefore is the correct answer\n",
    "== [3, 7]\n",
    "Negative numbers and duplicate numbers can and will appear.\n",
    "\n",
    "NOTE: There will also be lists tested of lengths upwards of 10,000,000 elements. Be sure your code doesn't time out.\n"
   ]
  },
  {
   "cell_type": "code",
   "execution_count": 30,
   "metadata": {},
   "outputs": [
    {
     "data": {
      "text/plain": [
       "[0, -6]"
      ]
     },
     "execution_count": 30,
     "metadata": {},
     "output_type": "execute_result"
    }
   ],
   "source": [
    "# try 1 is not exactly true\n",
    "def sum_pairs(ints, s):\n",
    "    list_ind = []\n",
    "    for i in ints:\n",
    "        ints.remove(i)\n",
    "        # print(ints)\n",
    "        for ii in ints:\n",
    "            if i + ii == s :\n",
    "                list_ind.append([i, ii])\n",
    "                # list_ind.append([copy_ind.index(i), copy_ind.index(ii)])\n",
    "    return list_ind[0]\n",
    "sum_pairs([1, -2, 3, 0, -6, 1],         -6)"
   ]
  },
  {
   "cell_type": "code",
   "execution_count": 34,
   "metadata": {},
   "outputs": [
    {
     "data": {
      "text/plain": [
       "[5, 5]"
      ]
     },
     "execution_count": 34,
     "metadata": {},
     "output_type": "execute_result"
    }
   ],
   "source": [
    "# try 2 : it doesnt work properly\n",
    "def sum_pairs(ints, s):\n",
    "    \n",
    "    return([[i, ii] for i in ints for ii in ints if i + ii == s])[0]\n",
    "sum_pairs([10, 5, 2, 3, 7, 5],         10)"
   ]
  },
  {
   "cell_type": "code",
   "execution_count": 35,
   "metadata": {},
   "outputs": [
    {
     "data": {
      "text/plain": [
       "[3, 7]"
      ]
     },
     "execution_count": 35,
     "metadata": {},
     "output_type": "execute_result"
    }
   ],
   "source": [
    "# Yes. It  works properly.\n",
    "def sum_pairs(lst, s):\n",
    "    cache = set()\n",
    "    for i in lst:\n",
    "        if s - i in cache:\n",
    "            return [s - i, i]\n",
    "        cache.add(i)\n",
    "sum_pairs([10, 5, 2, 3, 7, 5],         10)"
   ]
  },
  {
   "cell_type": "code",
   "execution_count": null,
   "metadata": {},
   "outputs": [],
   "source": [
    "# try 4: it is another solution.\n",
    "\n",
    "def sum_pairs(nums, sum_value):\n",
    "    seen = set()\n",
    "    for num in nums:\n",
    "        diff = sum_value - num\n",
    "        if diff in seen:\n",
    "            return [diff, num]\n",
    "        seen.add(num)\n"
   ]
  }
 ],
 "metadata": {
  "interpreter": {
   "hash": "aee8b7b246df8f9039afb4144a1f6fd8d2ca17a180786b69acc140d282b71a49"
  },
  "kernelspec": {
   "display_name": "Python 3.10.0rc2 64-bit",
   "language": "python",
   "name": "python3"
  },
  "language_info": {
   "codemirror_mode": {
    "name": "ipython",
    "version": 3
   },
   "file_extension": ".py",
   "mimetype": "text/x-python",
   "name": "python",
   "nbconvert_exporter": "python",
   "pygments_lexer": "ipython3",
   "version": "3.10.0rc2"
  },
  "orig_nbformat": 4
 },
 "nbformat": 4,
 "nbformat_minor": 2
}
