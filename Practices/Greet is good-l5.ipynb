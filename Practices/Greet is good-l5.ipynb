{
 "cells": [
  {
   "cell_type": "markdown",
   "metadata": {},
   "source": [
    "Greed is a dice game played with five six-sided dice. Your mission, should you choose to accept it, is to score a throw according to these rules. You will always be given an array with five six-sided dice values.\n",
    "\n",
    " * Three 1's => 1000 points\n",
    " * Three 6's =>  600 points\n",
    " * Three 5's =>  500 points\n",
    " * Three 4's =>  400 points\n",
    " * Three 3's =>  300 points\n",
    " * Three 2's =>  200 points\n",
    " * One   1   =>  100 points\n",
    " * One   5   =>   50 point\n",
    "A single die can only be counted once in each roll. For example, a given \"5\" can only count as part of a triplet (contributing to the 500 points) or as a single 50 points, but not both in the same roll.\n",
    "\n",
    "Example scoring\n",
    "\n",
    " * Throw       Score\n",
    " ---------   ------------------\n",
    " * 5 1 3 4 1   250:  50 (for the 5) + 2 * 100 (for the 1s)\n",
    " * 1 1 1 3 1   1100: 1000 (for three 1s) + 100 (for the other 1)\n",
    " * 2 4 4 5 4   450:  400 (for three 4s) + 50 (for the 5)\n",
    "In some languages, it is possible to mutate the input to the function. This is something that you should never do. If you mutate the input, you will not be able to pass all the tests."
   ]
  },
  {
   "cell_type": "markdown",
   "metadata": {},
   "source": []
  },
  {
   "cell_type": "code",
   "execution_count": null,
   "metadata": {},
   "outputs": [],
   "source": [
    "def score(dice): \n",
    "  sum = 0\n",
    "  counter = [0,0,0,0,0,0]\n",
    "  points = [1000, 200, 300, 400, 500, 600]\n",
    "  extra = [100,0,0,0,50,0]\n",
    "  for die in dice: \n",
    "    counter[die-1] += 1\n",
    "  \n",
    "  for (i, count) in enumerate(counter):\n",
    "    sum += (points[i] if count >= 3 else 0) + extra[i] * (count%3)\n",
    "\n",
    "  return sum "
   ]
  },
  {
   "cell_type": "code",
   "execution_count": null,
   "metadata": {},
   "outputs": [],
   "source": []
  }
 ],
 "metadata": {
  "interpreter": {
   "hash": "aee8b7b246df8f9039afb4144a1f6fd8d2ca17a180786b69acc140d282b71a49"
  },
  "kernelspec": {
   "display_name": "Python 3.10.4 64-bit",
   "language": "python",
   "name": "python3"
  },
  "language_info": {
   "name": "python",
   "version": "3.10.4"
  },
  "orig_nbformat": 4
 },
 "nbformat": 4,
 "nbformat_minor": 2
}
