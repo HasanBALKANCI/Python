{
 "cells": [
  {
   "cell_type": "markdown",
   "metadata": {},
   "source": [
    "Take the following IPv4 address: 128.32.10.1\n",
    "\n",
    "This address has 4 octets where each octet is a single byte (or 8 bits).\n",
    "\n",
    "1st octet 128 has the binary representation: 10000000\n",
    "2nd octet 32 has the binary representation: 00100000\n",
    "3rd octet 10 has the binary representation: 00001010\n",
    "4th octet 1 has the binary representation: 00000001\n",
    "So 128.32.10.1 == 10000000.00100000.00001010.00000001\n",
    "\n",
    "Because the above IP address has 32 bits, we can represent it as the unsigned 32 bit number: 2149583361\n",
    "\n",
    "Complete the function that takes an unsigned 32 bit number and returns a string representation of its IPv4 address.\n",
    "\n",
    "* Examples\n",
    "\n",
    "* 2149583361 ==> \"128.32.10.1\"\n",
    "* 32         ==> \"0.0.0.32\"\n",
    "* 0          ==> \"0.0.0.0\""
   ]
  },
  {
   "cell_type": "code",
   "execution_count": null,
   "metadata": {},
   "outputs": [],
   "source": [
    "def int32_to_ip(int32):\n",
    "    \n",
    "    \n",
    "    return"
   ]
  }
 ],
 "metadata": {
  "language_info": {
   "name": "python"
  },
  "orig_nbformat": 4
 },
 "nbformat": 4,
 "nbformat_minor": 2
}
