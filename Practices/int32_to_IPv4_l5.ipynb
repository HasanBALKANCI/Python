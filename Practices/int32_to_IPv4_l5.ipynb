{
 "cells": [
  {
   "cell_type": "markdown",
   "metadata": {},
   "source": [
    "Take the following IPv4 address: 128.32.10.1\n",
    "\n",
    "This address has 4 octets where each octet is a single byte (or 8 bits).\n",
    "\n",
    "1st octet 128 has the binary representation: 10000000\n",
    "2nd octet 32 has the binary representation: 00100000\n",
    "3rd octet 10 has the binary representation: 00001010\n",
    "4th octet 1 has the binary representation: 00000001\n",
    "So 128.32.10.1 == 10000000.00100000.00001010.00000001\n",
    "\n",
    "Because the above IP address has 32 bits, we can represent it as the unsigned 32 bit number: 2149583361\n",
    "\n",
    "Complete the function that takes an unsigned 32 bit number and returns a string representation of its IPv4 address.\n",
    "\n",
    "* Examples\n",
    "\n",
    "* 2149583361 ==> \"128.32.10.1\"\n",
    "* 32         ==> \"0.0.0.32\"\n",
    "* 0          ==> \"0.0.0.0\""
   ]
  },
  {
   "cell_type": "code",
   "execution_count": 5,
   "metadata": {},
   "outputs": [],
   "source": [
    "from ipaddress import IPv4Address\n",
    "\n",
    "def int32_to_ip(int32):\n",
    "    return str(IPv4Address(int32))"
   ]
  },
  {
   "cell_type": "code",
   "execution_count": null,
   "metadata": {},
   "outputs": [],
   "source": [
    "def int32_to_ip(int32):\n",
    "    return '.'.join(str(int32 >> x & 255) for x in [24,16,8,0])"
   ]
  },
  {
   "cell_type": "code",
   "execution_count": 4,
   "metadata": {},
   "outputs": [
    {
     "data": {
      "text/plain": [
       "4299166721"
      ]
     },
     "execution_count": 4,
     "metadata": {},
     "output_type": "execute_result"
    }
   ],
   "source": [
    "# 10000000.00100000.00001010.00000001\n",
    "2**32 + 2**22 + 2**10 + 2**12 +1"
   ]
  }
 ],
 "metadata": {
  "interpreter": {
   "hash": "aee8b7b246df8f9039afb4144a1f6fd8d2ca17a180786b69acc140d282b71a49"
  },
  "kernelspec": {
   "display_name": "Python 3.10.0rc2 64-bit",
   "language": "python",
   "name": "python3"
  },
  "language_info": {
   "codemirror_mode": {
    "name": "ipython",
    "version": 3
   },
   "file_extension": ".py",
   "mimetype": "text/x-python",
   "name": "python",
   "nbconvert_exporter": "python",
   "pygments_lexer": "ipython3",
   "version": "3.10.0rc2"
  },
  "orig_nbformat": 4
 },
 "nbformat": 4,
 "nbformat_minor": 2
}
