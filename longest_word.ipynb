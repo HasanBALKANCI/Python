{
 "cells": [
  {
   "cell_type": "markdown",
   "metadata": {},
   "source": [
    "Searching Challenge\n",
    "Have the function SearchingChallenge(str) take the str parameter \n",
    "being passed and return the first word with the greatest number of \n",
    "repeated letters. For example: \"Today, is the greatest day ever!\" \n",
    "should return greatest because it has 2 e's (and 2 t's) and it comes \n",
    "before ever which also has 2 e's. If there are no words with \n",
    "repeating letters return -1. Words will be separated by spaces.\n",
    "Examples\n",
    "Input: \"Hello apple pie\"\n",
    "Output: Hello\n",
    "Input: \"No words\"\n",
    "Output: -1\n",
    "Longest Word\n",
    "Have the function LongestWord(sen) take the sen parameter being \n",
    "passed and return the longest word in the string. If there are two or more words \n",
    "that are the same length, return the first word from the string with that length. \n",
    "Ignore punctuation and assume sen will not be empty. Words may also contain\n",
    "numbers, for example \"Hello world123 567\"\n",
    "Examples\n",
    "Input: \"fun&!! time\"\n",
    "Output: time\n",
    "Input: \"I love dogs\"\n",
    "Output: love\n",
    "Min Window Substring\n",
    "Have the function MinWindowSubstring(strArr) take the array of \n",
    "strings stored in strArr, which will contain only two strings, the first \n",
    "\n",
    "    \n",
    "        \n",
    "     \n",
    "        "
   ]
  },
  {
   "cell_type": "code",
   "execution_count": 37,
   "metadata": {},
   "outputs": [
    {
     "name": "stdout",
     "output_type": "stream",
     "text": [
      "greatest : 2\n"
     ]
    }
   ],
   "source": [
    "x = \"Today, is the greatest day ever!\"\n",
    "def longest(x):\n",
    "    liste = x.split()\n",
    "    dict1 = {}\n",
    "    for i in liste:\n",
    "        dict1[i] = (len(i)-len(set(i)))\n",
    "    max_letter = max(dict1, key = dict1.get)\n",
    "    print(max_letter ,\":\", (len(i)-len(set(i))) + 1)\n",
    "longest(x)\n"
   ]
  },
  {
   "cell_type": "markdown",
   "metadata": {},
   "source": [
    "## Min Window Substring\n",
    "##### Have the function MinWindowSubstring(strArr) take the array of \n",
    "##### strings stored in strArr, which will contain only two strings, the first \n",
    "##### parameter being the string N and the second parameter being a string K of some\n",
    "##### characters, and your goal is to determine the smallest substring of N that \n",
    "##### contains all the characters in K. For example: if strArr is [\"aaabaaddae\", \n",
    "##### \"aed\"] then the smallest substring of N that contains the characters a, e, and d is \n",
    "##### \"dae\" located at the end of the string. So for this example your program should \n",
    "##### return the string dae.\n",
    "##### Another example: if strArr is [\"aabdccdbcacd\", \"aad\"] then the smallest \n",
    "##### substring of N that contains all of the characters in K is \"aabd\" which is located \n",
    "##### at the beginning of the string. Both parameters will be strings ranging in length \n",
    "##### from 1 to 50 characters and all of K's characters will exist somewhere in the \n",
    "##### string N. Both strings will only contains lowercase alphabetic characters.\n",
    "##### Examples\n",
    "##### Input: [\"ahffaksfajeeubsne\", \"jefaa\"]\n",
    "##### Output: aksfaje\n",
    "##### Input: [\"aaffhkksemckelloe\", \"fhea\"]\n",
    "##### Output: affhkkse"
   ]
  },
  {
   "cell_type": "code",
   "execution_count": 5,
   "metadata": {},
   "outputs": [
    {
     "name": "stdout",
     "output_type": "stream",
     "text": [
      "None\n"
     ]
    }
   ],
   "source": [
    "# Input: [\"ahffaksfajeeubsne\", \"jefaa\"]\n",
    "# Output: aksfaje\n",
    "# Input: [\"aaffhkksemckelloe\", \"fhea\"]\n",
    "# Output: affhkkse\n",
    "\n",
    "# def find_minimal(liste):\n",
    "import re\n",
    "pattern = '^j...a$'\n",
    "test_string = \"ahffaksfajeeubsne\"\n",
    "result = re.match(pattern, test_string)\n",
    "\n",
    "print(result)\n",
    "# find_minimal([\"ahffaksfajeeubsne\", \"jefaa\"])\n",
    "                              "
   ]
  }
 ],
 "metadata": {
  "interpreter": {
   "hash": "aee8b7b246df8f9039afb4144a1f6fd8d2ca17a180786b69acc140d282b71a49"
  },
  "kernelspec": {
   "display_name": "Python 3.10.0rc2 64-bit",
   "language": "python",
   "name": "python3"
  },
  "language_info": {
   "codemirror_mode": {
    "name": "ipython",
    "version": 3
   },
   "file_extension": ".py",
   "mimetype": "text/x-python",
   "name": "python",
   "nbconvert_exporter": "python",
   "pygments_lexer": "ipython3",
   "version": "3.10.0rc2"
  },
  "orig_nbformat": 4
 },
 "nbformat": 4,
 "nbformat_minor": 2
}
