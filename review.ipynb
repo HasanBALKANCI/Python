{
 "cells": [
  {
   "cell_type": "markdown",
   "metadata": {},
   "source": [
    "### You ask a small girl,\"How old are you?\" She always says, \"x years old\", where x is a random number between 0 and 9.\n",
    "\n",
    "### Write a program that returns the girl's age (0-9) as an integer.\n",
    "\n",
    "### Assume the test input string is always a valid string. For example, the test input may be \"1 year old\" or \"5 years old\". The first character in the string is always a number.\n"
   ]
  },
  {
   "cell_type": "code",
   "execution_count": 3,
   "metadata": {},
   "outputs": [
    {
     "data": {
      "text/plain": [
       "5"
      ]
     },
     "execution_count": 3,
     "metadata": {},
     "output_type": "execute_result"
    }
   ],
   "source": [
    "def get_age(age): \n",
    "    \n",
    "    return int(age[0])\n",
    "get_age(\"5 yearas old\")   "
   ]
  },
  {
   "cell_type": "markdown",
   "metadata": {},
   "source": [
    "#### Given a string, swap the case for each of the letters."
   ]
  },
  {
   "cell_type": "code",
   "execution_count": 5,
   "metadata": {},
   "outputs": [
    {
     "data": {
      "text/plain": [
       "'hELLO hOW ARE YOU'"
      ]
     },
     "execution_count": 5,
     "metadata": {},
     "output_type": "execute_result"
    }
   ],
   "source": [
    "def swap(string_):\n",
    "    return string_.swapcase()\n",
    "swap(\"Hello How are you\")"
   ]
  },
  {
   "cell_type": "markdown",
   "metadata": {},
   "source": [
    "#### If you have completed the Tribonacci sequence kata, you would know by now that mister Fibonacci has at least a bigger brother. If not, give it a quick look to get how things work.\n",
    "\n",
    "#### Well, time to expand the family a little more: think of a Quadribonacci starting with a signature of 4 elements and each following element is the sum of the 4 previous, a Pentabonacci (well Cinquebonacci would probably sound a bit more italian, but it would also sound really awful) with a signature of 5 elements and each following element is the sum of the 5 previous, and so on.\n",
    "\n",
    "#### Well, guess what? You have to build a Xbonacci function that takes a signature of X elements - and remember each next element is the sum of the last X elements - and returns the first n elements of the so seeded sequence.\n",
    "\n",
    "*  xbonacci {1,1,1,1} 10 = {1,1,1,1,4,7,13,25,49,94}\n",
    "* xbonacci {0,0,0,0,1} 10 = {0,0,0,0,1,1,2,4,8,16}\n",
    "* xbonacci {1,0,0,0,0,0,1} 10 = {1,0,0,0,0,0,1,2,3,6}\n",
    "* xbonacci {1,1} produces the Fibonacci sequence"
   ]
  },
  {
   "cell_type": "code",
   "execution_count": 43,
   "metadata": {},
   "outputs": [
    {
     "data": {
      "text/plain": [
       "[1, 0, 0, 0, 0, 0, 0, 0, 0, 0, 1, 1, 2, 4, 8, 16, 32, 64, 128, 256]"
      ]
     },
     "execution_count": 43,
     "metadata": {},
     "output_type": "execute_result"
    }
   ],
   "source": [
    "\n",
    "\n",
    "    for i in range(repeat):\n",
    "        signature.append(sum(signature[a : a + len(signature)]))\n",
    "        a += 1\n",
    "    return signature\n",
    "\n",
    "    \n",
    "\n",
    "Xbonacci([1,0,0,0,0,0,0,0,0,0],20)"
   ]
  },
  {
   "cell_type": "code",
   "execution_count": 51,
   "metadata": {},
   "outputs": [],
   "source": [
    "def Xbonacci(signature,n):\n",
    "    output, x = signature[:n], len(signature)\n",
    "    while len(output) < n:\n",
    "        output.append(sum(output[-x:]))\n",
    "    return output"
   ]
  },
  {
   "cell_type": "markdown",
   "metadata": {},
   "source": [
    "### A palindrome is a word, phrase, number, or other sequence of characters which reads the same backward as forward. Examples of numerical palindromes are:\n",
    "\n",
    "2332\n",
    "110011\n",
    "54322345\n",
    "\n",
    "#### For a given number num, write a function to test if it's a numerical palindrome or not and return a boolean (true if it is and false if not).\n",
    "\n",
    "##### Return \"Not valid\" if the input is not an integer or less than 0.\n",
    "\n"
   ]
  },
  {
   "cell_type": "code",
   "execution_count": 87,
   "metadata": {},
   "outputs": [],
   "source": [
    "def palindrome(num):\n",
    "    num_1 = str(num)\n",
    "    if num_1.isdigit() and int(num) > 0 and type(num) != str:\n",
    "       if num_1[::-1] == num_1:\n",
    "           return True\n",
    "       else:\n",
    "           return False\n",
    "    else:\n",
    "        print(\"Not valid\")"
   ]
  },
  {
   "cell_type": "code",
   "execution_count": 88,
   "metadata": {},
   "outputs": [
    {
     "data": {
      "text/plain": [
       "False"
      ]
     },
     "execution_count": 88,
     "metadata": {},
     "output_type": "execute_result"
    }
   ],
   "source": [
    "palindrome(123322)"
   ]
  },
  {
   "cell_type": "code",
   "execution_count": 104,
   "metadata": {},
   "outputs": [],
   "source": [
    "def palindrome(num):\n",
    "    return str(num) == str(num)[::-1] if type(num) == int and num > 0 else \"Not valid\""
   ]
  },
  {
   "cell_type": "code",
   "execution_count": 105,
   "metadata": {},
   "outputs": [
    {
     "data": {
      "text/plain": [
       "'Not valid'"
      ]
     },
     "execution_count": 105,
     "metadata": {},
     "output_type": "execute_result"
    }
   ],
   "source": [
    "palindrome(\"1221\")"
   ]
  },
  {
   "cell_type": "markdown",
   "metadata": {},
   "source": [
    "A palindrome is a word, phrase, number, or other sequence of characters which reads the same backward as forward. Examples of numerical palindromes are:\n",
    "\n",
    "* 2332 \n",
    "* 110011 \n",
    "* 54322345\n",
    "\n",
    "You'll be given 2 numbers as arguments: (num,s). Write a function which returns an array of s number of numerical palindromes that come after num. If num is a palindrome itself, it should be included in the count.\n"
   ]
  },
  {
   "cell_type": "markdown",
   "metadata": {},
   "source": [
    "\n",
    "Return \"Not valid\" instead if any one of the inputs is not an integer or is less than 0.\n",
    "\n",
    "For this kata, single digit numbers will NOT be considered numerical palindromes.\n",
    "\n",
    "* palindrome(6,4) => [11,22,33,44]\n",
    "* palindrome(59,3) => [66,77,88]\n",
    "* palindrome(101,2) => [101,111]\n",
    "* palindrome(\"15651\",5) => \"Not valid\" \n",
    "* palindrome(1221,\"8\") => \"Not valid\" "
   ]
  },
  {
   "cell_type": "markdown",
   "metadata": {},
   "source": []
  },
  {
   "cell_type": "code",
   "execution_count": 132,
   "metadata": {},
   "outputs": [
    {
     "data": {
      "text/plain": [
       "[101, 111, 121, 131, 141, 151, 161, 171, 181, 191, 202]"
      ]
     },
     "execution_count": 132,
     "metadata": {},
     "output_type": "execute_result"
    }
   ],
   "source": [
    "def palindrome(num, s):\n",
    "    # output\n",
    "    pal_list = []\n",
    "    counter = 0\n",
    "    if type(num) == int and type(s) == int and num > 0:\n",
    "        for i in range(num, num * 10):\n",
    "        \n",
    "            if int(str(i)[::-1]) == i and counter <= s and len(str(i)) > 1:\n",
    "                pal_list.append(i)\n",
    "                counter += 1\n",
    "    else:\n",
    "        return \"Not valid\"\n",
    "            \n",
    "    return pal_list\n",
    "palindrome(101,10)\n",
    "    \n",
    "    \n",
    "    # return output if type(num) == int and type(s) == int else \"Not valid\""
   ]
  },
  {
   "cell_type": "code",
   "execution_count": 134,
   "metadata": {},
   "outputs": [
    {
     "data": {
      "text/plain": [
       "[12421, 12521, 12621, 12721, 12821, 12921, 13031, 13131, 13231, 13331]"
      ]
     },
     "execution_count": 134,
     "metadata": {},
     "output_type": "execute_result"
    }
   ],
   "source": [
    "def palindrome(num,s):\n",
    "    if not (type(num) == type(s) == int) or num < 0 or s < 0:\n",
    "        return \"Not valid\"\n",
    "    \n",
    "    ans, num = [], max(num, 11)\n",
    "    while len(ans) != s:\n",
    "        if num == int(str(num)[::-1]):\n",
    "            ans.append(num)\n",
    "        num += 1\n",
    "    return ans\n",
    "palindrome(12344,10)\n",
    "    "
   ]
  }
 ],
 "metadata": {
  "interpreter": {
   "hash": "aee8b7b246df8f9039afb4144a1f6fd8d2ca17a180786b69acc140d282b71a49"
  },
  "kernelspec": {
   "display_name": "Python 3.10.0rc2 64-bit",
   "language": "python",
   "name": "python3"
  },
  "language_info": {
   "codemirror_mode": {
    "name": "ipython",
    "version": 3
   },
   "file_extension": ".py",
   "mimetype": "text/x-python",
   "name": "python",
   "nbconvert_exporter": "python",
   "pygments_lexer": "ipython3",
   "version": "3.10.0rc2"
  },
  "orig_nbformat": 4
 },
 "nbformat": 4,
 "nbformat_minor": 2
}
