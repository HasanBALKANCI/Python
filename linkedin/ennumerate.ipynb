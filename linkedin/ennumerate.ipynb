{
 "cells": [
  {
   "cell_type": "markdown",
   "metadata": {},
   "source": [
    "\n",
    "# enumerate(sequance, start = 0) "
   ]
  },
  {
   "cell_type": "code",
   "execution_count": 10,
   "metadata": {},
   "outputs": [
    {
     "name": "stdout",
     "output_type": "stream",
     "text": [
      "1. Netherlands\n",
      "2. Nigeria\n",
      "3. Jordan\n",
      "4. Nepal\n",
      "5. Niger\n",
      "6. Japan\n"
     ]
    }
   ],
   "source": [
    " countries = [\"Netherlands\", \"Nigeria\", \"Jordan\", \"Nepal\", \"Niger\", \"Japan\"]\n",
    " for index in range(len(countries)):\n",
    "     print(f\"{index + 1}. {countries[index]}\")\n"
   ]
  },
  {
   "cell_type": "code",
   "execution_count": 13,
   "metadata": {},
   "outputs": [
    {
     "name": "stdout",
     "output_type": "stream",
     "text": [
      "(1, 'Netherlands') (2, 'Nigeria') (3, 'Jordan') (4, 'Nepal') (5, 'Niger') (6, 'Japan') "
     ]
    }
   ],
   "source": [
    "countries = [\"Netherlands\", \"Nigeria\", \"Jordan\", \"Nepal\", \"Niger\", \"Japan\"]\n",
    "for item in enumerate(countries, start = 1):\n",
    "    print(item, end = \" \")\n"
   ]
  },
  {
   "cell_type": "code",
   "execution_count": 15,
   "metadata": {},
   "outputs": [
    {
     "name": "stdout",
     "output_type": "stream",
     "text": [
      "1. Netherlands\n",
      "2. Nigeria\n",
      "3. Jordan\n",
      "4. Nepal\n",
      "5. Niger\n",
      "6. Japan\n"
     ]
    }
   ],
   "source": [
    "countries = [\"Netherlands\", \"Nigeria\", \"Jordan\", \"Nepal\", \"Niger\", \"Japan\"]\n",
    "for index, countries in enumerate(countries, start = 1):\n",
    "    print(f\"{index}. {countries}\")"
   ]
  }
 ],
 "metadata": {
  "interpreter": {
   "hash": "aee8b7b246df8f9039afb4144a1f6fd8d2ca17a180786b69acc140d282b71a49"
  },
  "kernelspec": {
   "display_name": "Python 3.10.0rc2 64-bit",
   "language": "python",
   "name": "python3"
  },
  "language_info": {
   "codemirror_mode": {
    "name": "ipython",
    "version": 3
   },
   "file_extension": ".py",
   "mimetype": "text/x-python",
   "name": "python",
   "nbconvert_exporter": "python",
   "pygments_lexer": "ipython3",
   "version": "3.10.0rc2"
  },
  "orig_nbformat": 4
 },
 "nbformat": 4,
 "nbformat_minor": 2
}
