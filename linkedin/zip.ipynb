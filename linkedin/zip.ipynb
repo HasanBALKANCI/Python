{
 "cells": [
  {
   "cell_type": "markdown",
   "metadata": {},
   "source": [
    "## zip(*iterable)"
   ]
  },
  {
   "cell_type": "code",
   "execution_count": 3,
   "metadata": {},
   "outputs": [],
   "source": [
    "countries = [\"Netherlands\", \"Nigeria\", \"Jordan\", \"Nepal\", \"Niger\", \"Japan\"]\n",
    "capitals  = ['Amsterdam', 'Abuja', 'Ammann', 'Kathmandu', 'Niamey', 'Tokyo']\n",
    "\n",
    "countries_1 = [\"Netherlands\", \"Nigeria\", \"Jordan\", \"Nepal\", \"Niger\", \"Japan\"]\n",
    "capitals_1  = ['Amsterdam', 'Abuja', 'Ammann', 'Kathmandu']"
   ]
  },
  {
   "cell_type": "code",
   "execution_count": 4,
   "metadata": {},
   "outputs": [
    {
     "name": "stdout",
     "output_type": "stream",
     "text": [
      "Netherlands: Amsterdam\n",
      "Nigeria: Abuja\n",
      "Jordan: Ammann\n",
      "Nepal: Kathmandu\n",
      "Niger: Niamey\n",
      "Japan: Tokyo\n"
     ]
    }
   ],
   "source": [
    "for i in range(len(countries)):\n",
    "    print(f\"{countries[i]}: {capitals[i]}\")"
   ]
  },
  {
   "cell_type": "code",
   "execution_count": 7,
   "metadata": {},
   "outputs": [
    {
     "name": "stdout",
     "output_type": "stream",
     "text": [
      "The capital city of Netherlands is Amsterdam. \n",
      "The capital city of Nigeria is Abuja. \n",
      "The capital city of Jordan is Ammann. \n",
      "The capital city of Nepal is Kathmandu. \n",
      "The capital city of Niger is Niamey. \n",
      "The capital city of Japan is Tokyo. \n"
     ]
    }
   ],
   "source": [
    "for country, capital in zip(countries, capitals):\n",
    "    print(f\"The capital city of {country} is {capital}. \")\n",
    "    "
   ]
  },
  {
   "cell_type": "code",
   "execution_count": 9,
   "metadata": {},
   "outputs": [
    {
     "data": {
      "text/plain": [
       "[('Netherlands', 'Amsterdam'),\n",
       " ('Nigeria', 'Abuja'),\n",
       " ('Jordan', 'Ammann'),\n",
       " ('Nepal', 'Kathmandu'),\n",
       " ('Niger', 'Niamey'),\n",
       " ('Japan', 'Tokyo')]"
      ]
     },
     "execution_count": 9,
     "metadata": {},
     "output_type": "execute_result"
    }
   ],
   "source": [
    "pairs = list(zip(countries, capitals))\n",
    "pairs"
   ]
  },
  {
   "cell_type": "code",
   "execution_count": 11,
   "metadata": {},
   "outputs": [
    {
     "name": "stdout",
     "output_type": "stream",
     "text": [
      "('Netherlands', 'Nigeria', 'Jordan', 'Nepal', 'Niger', 'Japan')\n",
      "('Amsterdam', 'Abuja', 'Ammann', 'Kathmandu', 'Niamey', 'Tokyo')\n"
     ]
    }
   ],
   "source": [
    "country, capital = zip(*pairs)\n",
    "print(country)\n",
    "print(capital)"
   ]
  },
  {
   "cell_type": "code",
   "execution_count": null,
   "metadata": {},
   "outputs": [],
   "source": []
  }
 ],
 "metadata": {
  "interpreter": {
   "hash": "aee8b7b246df8f9039afb4144a1f6fd8d2ca17a180786b69acc140d282b71a49"
  },
  "kernelspec": {
   "display_name": "Python 3.10.0rc2 64-bit",
   "language": "python",
   "name": "python3"
  },
  "language_info": {
   "codemirror_mode": {
    "name": "ipython",
    "version": 3
   },
   "file_extension": ".py",
   "mimetype": "text/x-python",
   "name": "python",
   "nbconvert_exporter": "python",
   "pygments_lexer": "ipython3",
   "version": "3.10.0rc2"
  },
  "orig_nbformat": 4
 },
 "nbformat": 4,
 "nbformat_minor": 2
}
