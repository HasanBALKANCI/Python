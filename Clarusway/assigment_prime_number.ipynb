{
 "cells": [
  {
   "cell_type": "markdown",
   "id": "35b7c8ab",
   "metadata": {},
   "source": [
    "## Objective:\n",
    "\n",
    "To improve your control flow statement skills and to raise your awareness of some algebraic knowledge.\n",
    "Write a Python code on any IDE, push it up to your GitHub repository and submit the GitHub page address link in addition to your code (answer) as a plain text.\n",
    "Task : Print the prime numbers which are between 1 to entered limit number (n).\n",
    "\n",
    "You can use a nested for loop.\n",
    "Collect all these numbers into a list\n",
    "The desired output for n=100 :\n",
    "\n",
    "[2, 3, 5, 7, 11, 13, 17, 19, 23, 29, 31, 37, 41, 43, 47, 53, 59,\n",
    "61, 67, 71, 73, 79, 83, 89, 97]"
   ]
  },
  {
   "cell_type": "code",
   "execution_count": 21,
   "id": "363ed407",
   "metadata": {},
   "outputs": [
    {
     "name": "stdout",
     "output_type": "stream",
     "text": [
      "[2, 3, 5, 7, 11, 13, 17, 19, 23, 29, 31, 37, 41, 43, 47, 53, 59, 61, 67, 71, 73, 79, 83, 89, 97]\n"
     ]
    }
   ],
   "source": [
    "prime_list = [] # firsly define an empty list to collect prime number in.\n",
    "\n",
    "\n",
    "for i in range(2,101):\n",
    "    counter = 0\n",
    "    for j in range(1, int(i/2) + 1): # Any int number is not divided larger than its half. So we use ram much effektiv in that way\n",
    "        \n",
    "        if i % j == 0:\n",
    "            counter += 1\n",
    "    if counter < 2:\n",
    "        prime_list.append(i)\n",
    "print(prime_list)\n",
    "    \n",
    "    \n"
   ]
  },
  {
   "cell_type": "markdown",
   "id": "d91d462d",
   "metadata": {},
   "source": [
    "### Between any two numbers are given by user, we find prime numbers."
   ]
  },
  {
   "cell_type": "code",
   "execution_count": 1,
   "id": "326c8d60",
   "metadata": {},
   "outputs": [
    {
     "name": "stdout",
     "output_type": "stream",
     "text": [
      "Enter first number : 12\n",
      "Enter second number : 1000\n",
      "[13, 17, 19, 23, 29, 31, 37, 41, 43, 47, 53, 59, 61, 67, 71, 73, 79, 83, 89, 97, 101, 103, 107, 109, 113, 127, 131, 137, 139, 149, 151, 157, 163, 167, 173, 179, 181, 191, 193, 197, 199, 211, 223, 227, 229, 233, 239, 241, 251, 257, 263, 269, 271, 277, 281, 283, 293, 307, 311, 313, 317, 331, 337, 347, 349, 353, 359, 367, 373, 379, 383, 389, 397, 401, 409, 419, 421, 431, 433, 439, 443, 449, 457, 461, 463, 467, 479, 487, 491, 499, 503, 509, 521, 523, 541, 547, 557, 563, 569, 571, 577, 587, 593, 599, 601, 607, 613, 617, 619, 631, 641, 643, 647, 653, 659, 661, 673, 677, 683, 691, 701, 709, 719, 727, 733, 739, 743, 751, 757, 761, 769, 773, 787, 797, 809, 811, 821, 823, 827, 829, 839, 853, 857, 859, 863, 877, 881, 883, 887, 907, 911, 919, 929, 937, 941, 947, 953, 967, 971, 977, 983, 991, 997]\n"
     ]
    }
   ],
   "source": [
    "num_1 = int(input(\"Enter first number : \"))\n",
    "num_2 = int(input(\"Enter second number : \"))\n",
    "prime_list = []\n",
    "\n",
    "for i in range(num_1, num_2 + 1):\n",
    "    counter = 0\n",
    "    for j in range(1, int(i/2) + 1):\n",
    "        if not i % j:\n",
    "            counter += 1\n",
    "    if counter < 2:\n",
    "        prime_list.append(i)\n",
    "print(prime_list)\n",
    "        "
   ]
  },
  {
   "cell_type": "code",
   "execution_count": null,
   "id": "080d0c3e",
   "metadata": {},
   "outputs": [],
   "source": []
  }
 ],
 "metadata": {
  "kernelspec": {
   "display_name": "Python 3 (ipykernel)",
   "language": "python",
   "name": "python3"
  },
  "language_info": {
   "codemirror_mode": {
    "name": "ipython",
    "version": 3
   },
   "file_extension": ".py",
   "mimetype": "text/x-python",
   "name": "python",
   "nbconvert_exporter": "python",
   "pygments_lexer": "ipython3",
   "version": "3.9.7"
  }
 },
 "nbformat": 4,
 "nbformat_minor": 5
}
