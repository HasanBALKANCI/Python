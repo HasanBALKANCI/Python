{
  "nbformat": 4,
  "nbformat_minor": 0,
  "metadata": {
    "colab": {
      "name": "kombinasyon.ipynb",
      "provenance": [],
      "authorship_tag": "ABX9TyM+xWMGLjYcJp4maP5Q/OBp",
      "include_colab_link": true
    },
    "kernelspec": {
      "name": "python3",
      "display_name": "Python 3"
    },
    "language_info": {
      "name": "python"
    }
  },
  "cells": [
    {
      "cell_type": "markdown",
      "metadata": {
        "id": "view-in-github",
        "colab_type": "text"
      },
      "source": [
        "<a href=\"https://colab.research.google.com/github/HasanBALKANCI/Python/blob/master/kombinasyon.ipynb\" target=\"_parent\"><img src=\"https://colab.research.google.com/assets/colab-badge.svg\" alt=\"Open In Colab\"/></a>"
      ]
    },
    {
      "cell_type": "code",
      "execution_count": 1,
      "metadata": {
        "colab": {
          "base_uri": "https://localhost:8080/"
        },
        "id": "j410Oa83QGFy",
        "outputId": "56815be4-787d-4c7e-bf70-e6962d535bdc"
      },
      "outputs": [
        {
          "output_type": "execute_result",
          "data": {
            "text/plain": [
              "[[1, 2, 3], [1, 3, 2], [2, 1, 3], [2, 3, 1], [3, 1, 2], [3, 2, 1]]"
            ]
          },
          "metadata": {},
          "execution_count": 1
        }
      ],
      "source": [
        "def combination(liste):\n",
        "  return([[i,ii,iii]  for i in liste for ii in liste for iii in liste if i!= ii and i != iii and ii != iii] )\n",
        "\n",
        "combination([1,2,3])"
      ]
    },
    {
      "cell_type": "code",
      "source": [
        "\n",
        "def combination(liste):\n",
        "  liste_1 = []\n",
        "  for i in liste :\n",
        "    for ii in liste :\n",
        "      for iii in liste :\n",
        "        if i!= ii and i != iii and ii != iii:\n",
        "          liste_1.append([i,ii,iii])\n",
        "  return liste_1\n",
        "\n",
        "combination([1,2,3])"
      ],
      "metadata": {
        "colab": {
          "base_uri": "https://localhost:8080/"
        },
        "id": "F1QmPosSTggi",
        "outputId": "d0356dfe-f3d0-4435-f6e9-9f5e91c4ced4"
      },
      "execution_count": 4,
      "outputs": [
        {
          "output_type": "execute_result",
          "data": {
            "text/plain": [
              "[[1, 2, 3], [1, 3, 2], [2, 1, 3], [2, 3, 1], [3, 1, 2], [3, 2, 1]]"
            ]
          },
          "metadata": {},
          "execution_count": 4
        }
      ]
    },
    {
      "cell_type": "code",
      "source": [
        "def combination(liste):\n",
        "  liste_1 = []\n",
        "  for i in liste :\n",
        "    for ii in liste :\n",
        "      for iii in liste :\n",
        "        if len(set([i,ii,iii])) == 3:\n",
        "          liste_1.append([i,ii,iii])\n",
        "  return liste_1\n",
        "\n",
        "combination([1,2,3])"
      ],
      "metadata": {
        "colab": {
          "base_uri": "https://localhost:8080/"
        },
        "id": "WMUTY5BLeKj8",
        "outputId": "b72f6016-a7c8-430b-a90e-3de680308e71"
      },
      "execution_count": 11,
      "outputs": [
        {
          "output_type": "execute_result",
          "data": {
            "text/plain": [
              "[[1, 2, 3], [1, 3, 2], [2, 1, 3], [2, 3, 1], [3, 1, 2], [3, 2, 1]]"
            ]
          },
          "metadata": {},
          "execution_count": 11
        }
      ]
    },
    {
      "cell_type": "code",
      "source": [
        "def combination(liste):\n",
        "  return([[i,ii,iii]  for i in liste for ii in liste for iii in liste if len(set([i,ii,iii])) == 3  ] )\n",
        "\n",
        "combination([1,2,3])"
      ],
      "metadata": {
        "colab": {
          "base_uri": "https://localhost:8080/"
        },
        "id": "3iBumz_nfo7M",
        "outputId": "0b1ff511-db69-4f5d-c6e7-2b0759d9d371"
      },
      "execution_count": 10,
      "outputs": [
        {
          "output_type": "execute_result",
          "data": {
            "text/plain": [
              "[[1, 2, 3], [1, 3, 2], [2, 1, 3], [2, 3, 1], [3, 1, 2], [3, 2, 1]]"
            ]
          },
          "metadata": {},
          "execution_count": 10
        }
      ]
    },
    {
      "cell_type": "markdown",
      "source": [
        ""
      ],
      "metadata": {
        "id": "Zua4dV3jjKjf"
      }
    }
  ]
}