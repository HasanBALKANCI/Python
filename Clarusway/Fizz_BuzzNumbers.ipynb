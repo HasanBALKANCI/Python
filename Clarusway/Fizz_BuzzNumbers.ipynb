{
  "nbformat": 4,
  "nbformat_minor": 0,
  "metadata": {
    "colab": {
      "name": "Fizz-BuzzNumbers.ipynb",
      "provenance": [],
      "authorship_tag": "ABX9TyP7FGQquwbZmXkYc18wXy5y",
      "include_colab_link": true
    },
    "kernelspec": {
      "name": "python3",
      "display_name": "Python 3"
    },
    "language_info": {
      "name": "python"
    }
  },
  "cells": [
    {
      "cell_type": "markdown",
      "metadata": {
        "id": "view-in-github",
        "colab_type": "text"
      },
      "source": [
        "<a href=\"https://colab.research.google.com/github/HasanBALKANCI/Python/blob/main/Fizz_BuzzNumbers.ipynb\" target=\"_parent\"><img src=\"https://colab.research.google.com/assets/colab-badge.svg\" alt=\"Open In Colab\"/></a>"
      ]
    },
    {
      "cell_type": "markdown",
      "source": [
        "# Task : Print the Fizz Buzz numbers.\n",
        "\n",
        "* Fizz Buzz is a famous code challenge used in interviews to test basic programming skills. It's time to write your own implementation.\n",
        "* Print numbers from 1 to 100 inclusively following these instructions:\n",
        "  1. if a number is multiple of 3, print \"Fizz\" instead of this number,\n",
        "  2. if a number is multiple of 5, print \"Buzz\" instead of this number,\n",
        "  3. for numbers that are multiples of both 3 and 5, print \"FizzBuzz\",\n",
        "  4. print the rest of the numbers unchanged.\n",
        "* Output each value on a separate line.\n",
        "\n"
      ],
      "metadata": {
        "id": "fV_aPd1tbsdz"
      }
    },
    {
      "cell_type": "code",
      "execution_count": 6,
      "metadata": {
        "colab": {
          "base_uri": "https://localhost:8080/"
        },
        "id": "qE8W58MebiJ_",
        "outputId": "0160049d-c988-49da-f458-ef982657ff60"
      },
      "outputs": [
        {
          "output_type": "stream",
          "name": "stdout",
          "text": [
            "1\n",
            "2\n",
            "Fizz\n",
            "4\n",
            "Buzz\n",
            "Fizz\n",
            "7\n",
            "8\n",
            "Fizz\n",
            "Buzz\n",
            "11\n",
            "Fizz\n",
            "13\n",
            "14\n",
            "FizzBuzz\n",
            "16\n",
            "17\n",
            "Fizz\n",
            "19\n",
            "Buzz\n",
            "Fizz\n",
            "22\n",
            "23\n",
            "Fizz\n",
            "Buzz\n",
            "26\n",
            "Fizz\n",
            "28\n",
            "29\n",
            "FizzBuzz\n",
            "31\n",
            "32\n",
            "Fizz\n",
            "34\n",
            "Buzz\n",
            "Fizz\n",
            "37\n",
            "38\n",
            "Fizz\n",
            "Buzz\n",
            "41\n",
            "Fizz\n",
            "43\n",
            "44\n",
            "FizzBuzz\n",
            "46\n",
            "47\n",
            "Fizz\n",
            "49\n",
            "Buzz\n",
            "Fizz\n",
            "52\n",
            "53\n",
            "Fizz\n",
            "Buzz\n",
            "56\n",
            "Fizz\n",
            "58\n",
            "59\n",
            "FizzBuzz\n",
            "61\n",
            "62\n",
            "Fizz\n",
            "64\n",
            "Buzz\n",
            "Fizz\n",
            "67\n",
            "68\n",
            "Fizz\n",
            "Buzz\n",
            "71\n",
            "Fizz\n",
            "73\n",
            "74\n",
            "FizzBuzz\n",
            "76\n",
            "77\n",
            "Fizz\n",
            "79\n",
            "Buzz\n",
            "Fizz\n",
            "82\n",
            "83\n",
            "Fizz\n",
            "Buzz\n",
            "86\n",
            "Fizz\n",
            "88\n",
            "89\n",
            "FizzBuzz\n",
            "91\n",
            "92\n",
            "Fizz\n",
            "94\n",
            "Buzz\n",
            "Fizz\n",
            "97\n",
            "98\n",
            "Fizz\n",
            "Buzz\n"
          ]
        }
      ],
      "source": [
        "liste = [*range(1, 101)] # Print numbers from 1 to 100\n",
        "for x in range(1, 101):\n",
        "  if not x % 3 and x % 15: # if a number is multiple of 3, (but not 15) print \"Buzz\" instead of this number,\n",
        "    liste[x - 1] = \"Fizz\"\n",
        "  elif not x % 5 and x % 15: # if a number is multiple of 5, (but not 15) print \"Buzz\" instead of this number,\n",
        "    liste[x - 1] = \"Buzz\"\n",
        "  elif not x % 15 :  # for numbers that are multiples of both 3 and 5, print \"FizzBuzz\"\n",
        "    liste[x - 1] = \"FizzBuzz\"\n",
        "for i in liste :  # Output each value on a separate line.\n",
        "  print(i)\n",
        "\n",
        "    "
      ]
    },
    {
      "cell_type": "code",
      "source": [
        ""
      ],
      "metadata": {
        "id": "WHY_aptjd2kM"
      },
      "execution_count": null,
      "outputs": []
    }
  ]
}