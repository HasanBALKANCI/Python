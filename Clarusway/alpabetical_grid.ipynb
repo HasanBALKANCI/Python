{
 "cells": [
  {
   "cell_type": "markdown",
   "metadata": {},
   "source": [
    "## You need to write a function grid that returns an alphabetical grid of size NxN, where a = 0, b = 1, c = 2....\n",
    "\n",
    "### Examples:\n",
    "\n",
    "* grid(4)\n",
    "\n",
    "### a b c d\n",
    "### b c d e\n",
    "### c d e f\n",
    "### d e f g\n",
    "\n",
    "* Notes:\n",
    "\n",
    "After \"z\" comes \"a\"\n",
    "If function receive N < 0 should return:\n"
   ]
  },
  {
   "cell_type": "code",
   "execution_count": 45,
   "metadata": {},
   "outputs": [
    {
     "name": "stdout",
     "output_type": "stream",
     "text": [
      "a b c d\n",
      "b c d e\n",
      "c d e f\n",
      "d e f g\n"
     ]
    }
   ],
   "source": [
    "def grid(N):\n",
    "    if N < 0 : return None\n",
    "    \n",
    "    letters = [ chr(i) for i in range(97,123)]\n",
    "    counter = 0\n",
    "    for i in range(N * N):\n",
    "        if counter < N:\n",
    "            print(\" \".join(letters[i : i+N]))\n",
    "            counter += 1\n",
    "grid(4)\n",
    "        \n"
   ]
  },
  {
   "cell_type": "code",
   "execution_count": 48,
   "metadata": {},
   "outputs": [
    {
     "name": "stdout",
     "output_type": "stream",
     "text": [
      "a b c d e f g h i j k l m n o\n",
      "b c d e f g h i j k l m n o p\n",
      "c d e f g h i j k l m n o p q\n",
      "d e f g h i j k l m n o p q r\n",
      "e f g h i j k l m n o p q r s\n",
      "f g h i j k l m n o p q r s t\n",
      "g h i j k l m n o p q r s t u\n",
      "h i j k l m n o p q r s t u v\n",
      "i j k l m n o p q r s t u v w\n",
      "j k l m n o p q r s t u v w x\n",
      "k l m n o p q r s t u v w x y\n",
      "l m n o p q r s t u v w x y z\n",
      "m n o p q r s t u v w x y z\n",
      "n o p q r s t u v w x y z\n",
      "o p q r s t u v w x y z\n"
     ]
    }
   ],
   "source": [
    "grid(15)"
   ]
  },
  {
   "cell_type": "code",
   "execution_count": 77,
   "metadata": {},
   "outputs": [],
   "source": [
    "def grid(N):\n",
    "    return \"\\n\".join(' '.join(chr(k % 26 + 97) for k in range(i, i + N)) for i in range(N)) if N >= 0 else None"
   ]
  },
  {
   "cell_type": "code",
   "execution_count": null,
   "metadata": {},
   "outputs": [],
   "source": []
  }
 ],
 "metadata": {
  "interpreter": {
   "hash": "aee8b7b246df8f9039afb4144a1f6fd8d2ca17a180786b69acc140d282b71a49"
  },
  "kernelspec": {
   "display_name": "Python 3.10.0rc2 64-bit",
   "language": "python",
   "name": "python3"
  },
  "language_info": {
   "codemirror_mode": {
    "name": "ipython",
    "version": 3
   },
   "file_extension": ".py",
   "mimetype": "text/x-python",
   "name": "python",
   "nbconvert_exporter": "python",
   "pygments_lexer": "ipython3",
   "version": "3.10.0rc2"
  },
  "orig_nbformat": 4
 },
 "nbformat": 4,
 "nbformat_minor": 2
}
