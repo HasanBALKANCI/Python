{
  "nbformat": 4,
  "nbformat_minor": 0,
  "metadata": {
    "colab": {
      "name": "edabit_solving.ipynb",
      "provenance": [],
      "authorship_tag": "ABX9TyNyiHYzQ4vnaJp9E2BT9xc9",
      "include_colab_link": true
    },
    "kernelspec": {
      "name": "python3",
      "display_name": "Python 3"
    },
    "language_info": {
      "name": "python"
    }
  },
  "cells": [
    {
      "cell_type": "markdown",
      "metadata": {
        "id": "view-in-github",
        "colab_type": "text"
      },
      "source": [
        "<a href=\"https://colab.research.google.com/github/HasanBALKANCI/Python/blob/main/edabit_solving.ipynb\" target=\"_parent\"><img src=\"https://colab.research.google.com/assets/colab-badge.svg\" alt=\"Open In Colab\"/></a>"
      ]
    },
    {
      "cell_type": "code",
      "execution_count": null,
      "metadata": {
        "id": "Ed9yxNx2R6m7"
      },
      "outputs": [],
      "source": [
        ""
      ]
    },
    {
      "cell_type": "markdown",
      "source": [
        "Write a function that stutters a word as if someone is struggling to read it. The first two letters are repeated twice with an ellipsis ... and space after each, and then the word is pronounced with a question mark ?.\n",
        "\n",
        "Examples\n",
        "\n",
        "stutter(\"incredible\") ➞ \"in... in... incredible?\"\n",
        "\n",
        "stutter(\"enthusiastic\") ➞ \"en... en... enthusiastic?\"\n",
        "\n",
        "stutter(\"outstanding\") ➞ \"ou... ou... outstanding?\""
      ],
      "metadata": {
        "id": "CBV1xejiSJxJ"
      }
    },
    {
      "cell_type": "code",
      "source": [
        "def stutter(word):\n",
        "\treturn '{0:.2}... {0:.2}... {0}?'.format(word)\n",
        " \n"
      ],
      "metadata": {
        "id": "jhXTsEhCSIht"
      },
      "execution_count": 26,
      "outputs": []
    },
    {
      "cell_type": "code",
      "source": [
        "stutter(\"icreadeble\")"
      ],
      "metadata": {
        "colab": {
          "base_uri": "https://localhost:8080/",
          "height": 37
        },
        "id": "62QU9XsjSIo_",
        "outputId": "9bac0e4f-8f2b-4fdd-c229-d17a48e044df"
      },
      "execution_count": 27,
      "outputs": [
        {
          "output_type": "execute_result",
          "data": {
            "text/plain": [
              "'ic... ic... icreadeble?'"
            ],
            "application/vnd.google.colaboratory.intrinsic+json": {
              "type": "string"
            }
          },
          "metadata": {},
          "execution_count": 27
        }
      ]
    },
    {
      "cell_type": "code",
      "source": [
        ""
      ],
      "metadata": {
        "id": "99HZ8haXea9P"
      },
      "execution_count": null,
      "outputs": []
    },
    {
      "cell_type": "markdown",
      "source": [
        "There is a single operator in Python, capable of providing the remainder of a division operation. Two numbers are passed as parameters. The first parameter divided by the second parameter will have a remainder, possibly zero. Return that value.\n",
        "\n",
        "Examples\n",
        "\n",
        "remainder(1, 3) ➞ 1\n",
        "\n",
        "remainder(3, 4) ➞ 3\n",
        "\n",
        "remainder(5, 5) ➞ 0\n",
        "\n",
        "remainder(7, 2) ➞ 1"
      ],
      "metadata": {
        "id": "unIRxYFOeYPu"
      }
    },
    {
      "cell_type": "code",
      "source": [
        "def remainder(x, y):\n",
        "  return x % y\n",
        "remainder(5, 3)"
      ],
      "metadata": {
        "colab": {
          "base_uri": "https://localhost:8080/"
        },
        "id": "s8C06TVBSIvD",
        "outputId": "e4e51b20-321a-40a8-ac6b-fe69910bc85e"
      },
      "execution_count": 29,
      "outputs": [
        {
          "output_type": "execute_result",
          "data": {
            "text/plain": [
              "2"
            ]
          },
          "metadata": {},
          "execution_count": 29
        }
      ]
    },
    {
      "cell_type": "markdown",
      "source": [
        "## Return the Next Number from the Integer Passed\n",
        "\n",
        "algebramathnumbers\n",
        "Create a function that takes a number as an argument, increments the number by +1 and returns the result.\n",
        "\n",
        "Examples\n",
        "\n",
        "addition(0) ➞ 1\n",
        "\n",
        "addition(9) ➞ 10\n",
        "\n",
        "addition(-3) ➞ -2"
      ],
      "metadata": {
        "id": "MI2-8nvOqRIL"
      }
    },
    {
      "cell_type": "code",
      "source": [
        "def addition(num):\n",
        "  return num + 1\n",
        "addition(3)"
      ],
      "metadata": {
        "colab": {
          "base_uri": "https://localhost:8080/"
        },
        "id": "_5IBVNxxqX_F",
        "outputId": "f703f223-3a01-4929-b025-d415e252117b"
      },
      "execution_count": 31,
      "outputs": [
        {
          "output_type": "execute_result",
          "data": {
            "text/plain": [
              "4"
            ]
          },
          "metadata": {},
          "execution_count": 31
        }
      ]
    },
    {
      "cell_type": "markdown",
      "source": [
        "# Create a function that takes the age in years and returns the age in days.\n",
        "\n",
        "Examples\n",
        "\n",
        "calc_age(65) ➞ 23725\n",
        "\n",
        "calc_age(0) ➞ 0\n",
        "\n",
        "calc_age(20) ➞ 7300\n",
        "Notes\n",
        "\n",
        "Use 365 days as the length of a year for this challenge.\n",
        "Ignore leap years and days between last birthday and now.\n",
        "Expect only positive integer inputs."
      ],
      "metadata": {
        "id": "WVPazC1BrQ-R"
      }
    },
    {
      "cell_type": "code",
      "source": [
        "def calc_age(age):\n",
        "\treturn age * 365\n",
        "calc_age(39)"
      ],
      "metadata": {
        "colab": {
          "base_uri": "https://localhost:8080/"
        },
        "id": "vnDAmmJXqqSn",
        "outputId": "3e4d9cc0-41f7-4fb9-9806-f0606df88b1e"
      },
      "execution_count": 32,
      "outputs": [
        {
          "output_type": "execute_result",
          "data": {
            "text/plain": [
              "14235"
            ]
          },
          "metadata": {},
          "execution_count": 32
        }
      ]
    },
    {
      "cell_type": "markdown",
      "source": [
        "# Convert Hours into Seconds\n",
        "Published by vibranium777 in Python\n",
        "language_fundamentalsmathnumbers\n",
        "Write a function that converts hours into seconds.\n",
        "\n",
        "Examples\n",
        "\n",
        "how_many_seconds(2) ➞ 7200\n",
        "\n",
        "how_many_seconds(10) ➞ 36000\n",
        "\n",
        "how_many_seconds(24) ➞ 86400"
      ],
      "metadata": {
        "id": "_ZYnctpYUwTo"
      }
    },
    {
      "cell_type": "code",
      "source": [
        "def how_many_seconds(hours):\n",
        "  return hours * 60\n",
        "how_many_seconds(3)"
      ],
      "metadata": {
        "colab": {
          "base_uri": "https://localhost:8080/"
        },
        "id": "vZd5U2hkrtRi",
        "outputId": "7a8cfbb3-9493-406f-eb9a-bc58df6fe815"
      },
      "execution_count": 1,
      "outputs": [
        {
          "output_type": "execute_result",
          "data": {
            "text/plain": [
              "180"
            ]
          },
          "metadata": {},
          "execution_count": 1
        }
      ]
    },
    {
      "cell_type": "markdown",
      "source": [
        "Luke, I Am Your ...\n",
        "Published by BijogFc24 in Python\n",
        "conditionsformattingobjectsstrings\n",
        "Luke Skywalker has family and friends. Help him remind them who is who. Given a string with a name, return the relation of that person to Luke.\n",
        "\n",
        "\n",
        "Examples\n",
        "\n",
        "relation_to_luke(\"Darth Vader\") ➞ \"Luke, I am your father.\"\n",
        "\n",
        "relation_to_luke(\"Leia\") ➞ \"Luke, I am your sister.\"\n",
        "\n",
        "relation_to_luke(\"Han\") ➞ \"Luke, I am your brother in law.\""
      ],
      "metadata": {
        "id": "316mn0swW-9C"
      }
    },
    {
      "cell_type": "code",
      "source": [
        "Person_Relation =  {  \"Darth Vader\" :\"father\",  \"Leia\":\"sister\",  \"Han\" : \"brother in law \", \"R2D2\"\t: \"droid\" }\n",
        "\n",
        "def relation_to_luke(name):\n",
        "  return f\"Luke, I am your {Person_Relation[name]}\"\n",
        "\n",
        "relation_to_luke(\"Leia\")"
      ],
      "metadata": {
        "colab": {
          "base_uri": "https://localhost:8080/",
          "height": 37
        },
        "id": "4PZHct8kVEJJ",
        "outputId": "a380dcfa-6ecb-4d67-e3d1-a43eda2385e7"
      },
      "execution_count": 19,
      "outputs": [
        {
          "output_type": "execute_result",
          "data": {
            "text/plain": [
              "'Luke, I am your sister'"
            ],
            "application/vnd.google.colaboratory.intrinsic+json": {
              "type": "string"
            }
          },
          "metadata": {},
          "execution_count": 19
        }
      ]
    },
    {
      "cell_type": "markdown",
      "source": [
        "# End Corona!\n",
        "Published by Matt in Python\n",
        "mathnumbers\n",
        "Create a function that takes the number of daily average recovered cases recovers, daily average new_cases, current active_cases, and returns the number of days it will take to reach zero cases.\n",
        "\n",
        "Examples\n",
        "\n",
        "end_corona(4000, 2000, 77000) ➞ 39\n",
        "\n",
        "end_corona(3000, 2000, 50699) ➞ 51\n",
        "\n",
        "end_corona(30000, 25000, 390205) ➞ 79\n",
        "Notes\n",
        "\n",
        "The number of people who recover per day recovers will always be greater than daily new_cases.\n",
        "Be conservative and round up the number of days needed."
      ],
      "metadata": {
        "id": "vCFuNFwIimdS"
      }
    },
    {
      "cell_type": "code",
      "source": [
        "def end_corona(recovers, new_cases, active_cases):\n",
        "  return active_cases//(recovers - new_cases) + 1\n",
        "end_corona(4000, 2000, 77000)"
      ],
      "metadata": {
        "colab": {
          "base_uri": "https://localhost:8080/"
        },
        "id": "ZcBLkkrQZWQ_",
        "outputId": "6eb3dcb8-1a91-4483-9c44-7b186f7ccf25"
      },
      "execution_count": 20,
      "outputs": [
        {
          "output_type": "execute_result",
          "data": {
            "text/plain": [
              "39"
            ]
          },
          "metadata": {},
          "execution_count": 20
        }
      ]
    },
    {
      "cell_type": "markdown",
      "source": [
        "# Circle or Square\n",
        "Published by Morgan Moore in Python\n",
        "geometryvalidation\n",
        "Given the radius of a circle and the area of a square, return True if the circumference of the circle is greater than the square's perimeter and False if the square's perimeter is greater than the circumference of the circle.\n",
        "\n",
        "Examples\n",
        "\n",
        "circle_or_square(16, 625) ➞ True\n",
        "\n",
        "circle_or_square(5, 100) ➞ False\n",
        "\n",
        "circle_or_square(8, 144) ➞ True\n",
        "Notes\n",
        "\n",
        "You can use Pi to 2 decimal places (3.14).\n",
        "Circumference of a circle equals 2 * Pi * radius.\n",
        "To find the perimeter of a square using its area, find the square root of area (to get side length) and multiply that by 4."
      ],
      "metadata": {
        "id": "X1D18zZPk67j"
      }
    },
    {
      "cell_type": "code",
      "source": [
        "def circle_or_square(rad, area):\n",
        "  circumf_circle = rad * 3.14 * 2\n",
        "  circumf_square = area ** 0.5\n",
        "  if circumf_circle > circumf_square:\n",
        "    print(\"circle_or_square\" + \"(\"+str(rad)+\",\", str(area)+ \")\" , \"➞\", True )\n",
        "  else:\n",
        "    print(\"circle_or_square\" + \"(\"+str(rad)+\",\", str(area) +\")\" ,\"➞\" ,False )\n",
        "  \n",
        "\n",
        "circle_or_square(16, 625)\n",
        "  \n"
      ],
      "metadata": {
        "colab": {
          "base_uri": "https://localhost:8080/"
        },
        "id": "qrZBavZJklu9",
        "outputId": "1308b490-e510-4f05-ed07-b84284d7b5e7"
      },
      "execution_count": 30,
      "outputs": [
        {
          "output_type": "stream",
          "name": "stdout",
          "text": [
            "circle_or_square(16, 625) ➞ True\n"
          ]
        }
      ]
    },
    {
      "cell_type": "code",
      "source": [
        ""
      ],
      "metadata": {
        "id": "7B04c5kioExA"
      },
      "execution_count": 24,
      "outputs": []
    },
    {
      "cell_type": "code",
      "source": [
        ""
      ],
      "metadata": {
        "id": "ZWLc9DI2oWAL"
      },
      "execution_count": null,
      "outputs": []
    }
  ]
}