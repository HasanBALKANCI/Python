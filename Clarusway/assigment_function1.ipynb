{
 "cells": [
  {
   "cell_type": "markdown",
   "id": "4b7dc8c5",
   "metadata": {},
   "source": [
    "\n",
    "    Given two integer values, return their sum. If the two values are the same, then return double their sum.\n",
    "\n",
    "\n",
    "For example:\n",
    "Test\tResult\n",
    "print(sum_double(1, 2)) = 3\n",
    "print(sum_double(5, 7)) = 12\n",
    "print(sum_double(5, 5)) = 20\n"
   ]
  },
  {
   "cell_type": "code",
   "execution_count": 1,
   "id": "ee69aef3",
   "metadata": {},
   "outputs": [],
   "source": [
    "def sum_double(x,y):\n",
    "  \n",
    "    if x != y:\n",
    "        return x + y\n",
    "    else:\n",
    "        return (x + y) * 2"
   ]
  },
  {
   "cell_type": "code",
   "execution_count": 3,
   "id": "b8b5fa13",
   "metadata": {},
   "outputs": [
    {
     "data": {
      "text/plain": [
       "8"
      ]
     },
     "execution_count": 3,
     "metadata": {},
     "output_type": "execute_result"
    }
   ],
   "source": [
    "sum_double(3,5)"
   ]
  },
  {
   "cell_type": "code",
   "execution_count": null,
   "id": "b9ec407f",
   "metadata": {},
   "outputs": [],
   "source": []
  }
 ],
 "metadata": {
  "kernelspec": {
   "display_name": "Python 3 (ipykernel)",
   "language": "python",
   "name": "python3"
  },
  "language_info": {
   "codemirror_mode": {
    "name": "ipython",
    "version": 3
   },
   "file_extension": ".py",
   "mimetype": "text/x-python",
   "name": "python",
   "nbconvert_exporter": "python",
   "pygments_lexer": "ipython3",
   "version": "3.9.7"
  }
 },
 "nbformat": 4,
 "nbformat_minor": 5
}
