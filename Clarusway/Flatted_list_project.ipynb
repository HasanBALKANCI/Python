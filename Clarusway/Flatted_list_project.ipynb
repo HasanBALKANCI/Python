{
  "nbformat": 4,
  "nbformat_minor": 0,
  "metadata": {
    "colab": {
      "name": "Untitled1.ipynb",
      "provenance": [],
      "authorship_tag": "ABX9TyPtZyemrtoeObjPUdefc1UD",
      "include_colab_link": true
    },
    "kernelspec": {
      "name": "python3",
      "display_name": "Python 3"
    },
    "language_info": {
      "name": "python"
    }
  },
  "cells": [
    {
      "cell_type": "markdown",
      "metadata": {
        "id": "view-in-github",
        "colab_type": "text"
      },
      "source": [
        "<a href=\"https://colab.research.google.com/github/HasanBALKANCI/Python/blob/main/Flatted_list_project.ipynb\" target=\"_parent\"><img src=\"https://colab.research.google.com/assets/colab-badge.svg\" alt=\"Open In Colab\"/></a>"
      ]
    },
    {
      "cell_type": "markdown",
      "source": [
        "1- Bir listeyi düzleştiren (flatten) fonksiyon yazın. Elemanları birden çok katmanlı listelerden ([[3],2] gibi) oluşabileceği gibi, non-scalar verilerden de oluşabilir. Örnek olarak:\n",
        "\n",
        "input: [[1,'a',['cat'],2],[[[3]],'dog'],4,5]\n",
        "\n",
        "output: [1,'a','cat',2,3,'dog',4,5]"
      ],
      "metadata": {
        "id": "YP1W93IZoPV9"
      }
    },
    {
      "cell_type": "code",
      "execution_count": 1,
      "metadata": {
        "colab": {
          "base_uri": "https://localhost:8080/"
        },
        "id": "GajOeYzJmsx1",
        "outputId": "5d93324d-4afe-4d48-b577-25b6cf56b650"
      },
      "outputs": [
        {
          "output_type": "execute_result",
          "data": {
            "text/plain": [
              "[1, 'a', 'cat', 2, 3, 'dog', 4, 5]"
            ]
          },
          "metadata": {},
          "execution_count": 1
        }
      ],
      "source": [
        "# first solving\n",
        "\n",
        "def flat(lst):\n",
        "    output = []\n",
        "    for i in lst:\n",
        "        if type(i) != list:\n",
        "            output.append(i)\n",
        "        else:\n",
        "            output += flat(i)\n",
        "    return output\n",
        "\n",
        "lst = [[1,'a',['cat'],2],[[[3]],'dog'],4,5]\n",
        "flat(lst)"
      ]
    },
    {
      "cell_type": "code",
      "source": [
        "# second solving\n",
        "\n",
        "mixlst = [[1, \"a\", [\"cat\"], 2], [[[3]], \"dog\"], 4, 5]\n",
        "\n",
        "remixlst= []\n",
        "\n",
        "def flatten_list(data):\n",
        "  for item in data:\n",
        "    if type(item) == list:\n",
        "      flatten_list(item)  # Burada fonksiyonun içerisinde kendisini kullanarak iterasyon yapmış olduk.\n",
        "    else:\n",
        "      remixlst.append(item)\n",
        "  return remixlst\n",
        "\n",
        "flatten_list(mixlst)"
      ],
      "metadata": {
        "colab": {
          "base_uri": "https://localhost:8080/"
        },
        "id": "lEvFA-aMnSGb",
        "outputId": "c704e190-2278-4de6-de0d-bf6958c52915"
      },
      "execution_count": 2,
      "outputs": [
        {
          "output_type": "execute_result",
          "data": {
            "text/plain": [
              "[1, 'a', 'cat', 2, 3, 'dog', 4, 5]"
            ]
          },
          "metadata": {},
          "execution_count": 2
        }
      ]
    },
    {
      "cell_type": "code",
      "source": [
        ""
      ],
      "metadata": {
        "id": "6GaERxMFoeyV"
      },
      "execution_count": null,
      "outputs": []
    }
  ]
}