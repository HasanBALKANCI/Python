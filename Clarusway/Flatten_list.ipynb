{
  "nbformat": 4,
  "nbformat_minor": 0,
  "metadata": {
    "colab": {
      "name": "Flatten_list.ipynb",
      "provenance": [],
      "authorship_tag": "ABX9TyOUvyg4vFI2TudJcF7Q7KRl",
      "include_colab_link": true
    },
    "kernelspec": {
      "name": "python3",
      "display_name": "Python 3"
    },
    "language_info": {
      "name": "python"
    }
  },
  "cells": [
    {
      "cell_type": "markdown",
      "metadata": {
        "id": "view-in-github",
        "colab_type": "text"
      },
      "source": [
        "<a href=\"https://colab.research.google.com/github/HasanBALKANCI/Python/blob/master/Flatten_list.ipynb\" target=\"_parent\"><img src=\"https://colab.research.google.com/assets/colab-badge.svg\" alt=\"Open In Colab\"/></a>"
      ]
    },
    {
      "cell_type": "markdown",
      "source": [
        "## 1- Bir listeyi düzleştiren (flatten) fonksiyon yazın. Elemanları birden çok katmanlı listelerden ([[3],2] gibi) oluşabileceği gibi, non-scalar verilerden de oluşabilir. Örnek olarak:\n",
        "\n",
        "input: [[1,'a',['cat'],2],[[[3]],'dog'],4,5]\n",
        "\n",
        "output: [1,'a','cat',2,3,'dog',4,5]"
      ],
      "metadata": {
        "id": "ac-kBaSX7dCV"
      }
    },
    {
      "cell_type": "code",
      "source": [
        "mixlst = [[1, \"a\", [\"cat\"], 2], [[[3]], \"dog\"], 4, 5]\n",
        "\n",
        "remixlst= []\n",
        "\n",
        "def flatten_list(data):\n",
        "  for item in data:\n",
        "    if type(item) == list:\n",
        "      flatten_list(item)  # Burada fonksiyonun içerisinde kendisini kullanarak iterasyon yapmış olduk.\n",
        "    else:\n",
        "      remixlst.append(item)\n",
        "  return remixlst\n",
        "\n",
        "flatten_list(mixlst)"
      ],
      "metadata": {
        "colab": {
          "base_uri": "https://localhost:8080/"
        },
        "id": "xa-t94xQCOin",
        "outputId": "3a8569ae-3f20-466c-868b-0c91e77fd0b2"
      },
      "execution_count": 13,
      "outputs": [
        {
          "output_type": "execute_result",
          "data": {
            "text/plain": [
              "[1, 'a', 'cat', 2, 3, 'dog', 4, 5]"
            ]
          },
          "metadata": {},
          "execution_count": 13
        }
      ]
    },
    {
      "cell_type": "code",
      "source": [
        "def flat(lst):\n",
        "    output = []\n",
        "    for i in lst:\n",
        "        if type(i) != list:\n",
        "            output.append(i)\n",
        "        else:\n",
        "            output += flat(i)\n",
        "    return output\n",
        "\n",
        "lst = [[1,'a',['cat'],2],[[[3]],'dog'],4,5]\n",
        "flat(lst)"
      ],
      "metadata": {
        "colab": {
          "base_uri": "https://localhost:8080/"
        },
        "id": "87X1AyQxHmxa",
        "outputId": "54566aa1-787c-4350-8d3c-8c8585c00e8b"
      },
      "execution_count": 14,
      "outputs": [
        {
          "output_type": "execute_result",
          "data": {
            "text/plain": [
              "[1, 'a', 'cat', 2, 3, 'dog', 4, 5]"
            ]
          },
          "metadata": {},
          "execution_count": 14
        }
      ]
    },
    {
      "cell_type": "code",
      "source": [
        ""
      ],
      "metadata": {
        "id": "qUkH4BxeHnfG"
      },
      "execution_count": null,
      "outputs": []
    }
  ]
}