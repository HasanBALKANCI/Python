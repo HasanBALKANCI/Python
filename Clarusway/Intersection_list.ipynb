{
  "nbformat": 4,
  "nbformat_minor": 0,
  "metadata": {
    "colab": {
      "name": "Intersection_list.ipynb",
      "provenance": [],
      "authorship_tag": "ABX9TyPYNVPZZrXThP90TJdlpfGd",
      "include_colab_link": true
    },
    "kernelspec": {
      "name": "python3",
      "display_name": "Python 3"
    },
    "language_info": {
      "name": "python"
    }
  },
  "cells": [
    {
      "cell_type": "markdown",
      "metadata": {
        "id": "view-in-github",
        "colab_type": "text"
      },
      "source": [
        "<a href=\"https://colab.research.google.com/github/HasanBALKANCI/Python/blob/master/Intersection_list.ipynb\" target=\"_parent\"><img src=\"https://colab.research.google.com/assets/colab-badge.svg\" alt=\"Open In Colab\"/></a>"
      ]
    },
    {
      "cell_type": "markdown",
      "source": [
        "# Compute the intersection of two lists\n"
      ],
      "metadata": {
        "id": "syZhsaV6IIO3"
      }
    },
    {
      "cell_type": "code",
      "source": [
        "def intersection(lst1, lst2):\n",
        "  inter_lst, lst2_copy = [], lst2[:]\n",
        "  for i in lst1:\n",
        "    if i in lst2_copy:\n",
        "      inter_lst.append(i)\n",
        "      lst2_copy.remove(i)\n",
        "  return inter_lst\n",
        "\n",
        "lst1 = [\"a\",\"al\", \"ver\", 1, 2, 61, \"Trabzon\"]\n",
        "lst2 = [ 61, \"Trabzon\"]\n",
        "intersection(lst1, lst2)"
      ],
      "metadata": {
        "colab": {
          "base_uri": "https://localhost:8080/"
        },
        "id": "SaFjjn_yIQlT",
        "outputId": "394fd17d-f0b9-4adf-c698-e78fbffcc868"
      },
      "execution_count": 3,
      "outputs": [
        {
          "output_type": "execute_result",
          "data": {
            "text/plain": [
              "[61, 'Trabzon']"
            ]
          },
          "metadata": {},
          "execution_count": 3
        }
      ]
    },
    {
      "cell_type": "code",
      "source": [
        "def intersection(lst1, lst2):\n",
        "  inter_lst = []\n",
        "  for i in lst1:\n",
        "    if i in lst2:\n",
        "      inter_lst.append(i)\n",
        "      lst2.remove(i)\n",
        "  return inter_lst\n",
        "\n",
        "lst1 = [\"a\",\"al\", \"ver\", 1, 2, 61, \"Trabzon\"]\n",
        "lst2 = [ 61, \"Trabzon\"]\n",
        "intersection(lst1, lst2)"
      ],
      "metadata": {
        "colab": {
          "base_uri": "https://localhost:8080/"
        },
        "id": "pcy_6Dm1JjNA",
        "outputId": "7a0be6d5-68de-4485-e545-9bdee38036b6"
      },
      "execution_count": 5,
      "outputs": [
        {
          "output_type": "execute_result",
          "data": {
            "text/plain": [
              "[61, 'Trabzon']"
            ]
          },
          "metadata": {},
          "execution_count": 5
        }
      ]
    },
    {
      "cell_type": "code",
      "source": [
        ""
      ],
      "metadata": {
        "id": "wLf-OTgBKGW5"
      },
      "execution_count": null,
      "outputs": []
    }
  ]
}