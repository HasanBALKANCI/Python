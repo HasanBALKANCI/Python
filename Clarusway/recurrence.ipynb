{
 "cells": [
  {
   "cell_type": "markdown",
   "metadata": {},
   "source": [
    "### 1. Write a function to split a string and convert it into an array of words.\n",
    "\n",
    "* Examples (Input -> Output):\n",
    "\n",
    "* \"Robin Singh\" ==> [\"Robin\", \"Singh\"]\n",
    "\n",
    "* \"I love arrays they are my favorite\" ==> [\"I\", \"love\", \"arrays\", \"they\", \"are\", \"my\", \"favorite\"]"
   ]
  },
  {
   "cell_type": "code",
   "execution_count": 18,
   "metadata": {},
   "outputs": [
    {
     "data": {
      "text/plain": [
       "['hi,', 'how', 'are', 'you?']"
      ]
     },
     "execution_count": 18,
     "metadata": {},
     "output_type": "execute_result"
    }
   ],
   "source": [
    "def string_to_array(s):\n",
    "        return s.split(\" \")\n",
    "string_to_array(\"hi, how are you?\")"
   ]
  },
  {
   "cell_type": "markdown",
   "metadata": {},
   "source": [
    "### 2. our task is to find the first element of an array that is not consecutive.\n",
    "\n",
    "1. By not consecutive we mean not exactly 1 larger than the previous element of the array.\n",
    "\n",
    "2. E.g. If we have an array [1,2,3,4,6,7,8] then 1 then 2 then 3 then 4 are all consecutive but 6 is not, so that's the first non-consecutive number.\n",
    "\n",
    "3. If the whole array is consecutive then return null2.\n",
    "\n",
    "4. The array will always have at least 2 elements1 and all elements will be numbers. The numbers will also all be unique and in ascending order. The numbers could be positive or negative and the first non-consecutive could be either too!\n",
    "\n",
    "5. If you like this Kata, maybe try this one next: https://www.codewars.com/kata/represent-array-of-numbers-as-ranges\n",
    "\n",
    "6. 1 Can you write a solution that will return null2 for both [] and [ x ] though? (This is an empty array and one with a single number and is not tested for, but you can write your own example test. )\n",
    "\n"
   ]
  },
  {
   "cell_type": "code",
   "execution_count": 28,
   "metadata": {},
   "outputs": [
    {
     "data": {
      "text/plain": [
       "9"
      ]
     },
     "execution_count": 28,
     "metadata": {},
     "output_type": "execute_result"
    }
   ],
   "source": [
    "def first_non_consecutive(arr):\n",
    "    for i in range(1,len(arr)):\n",
    "        if arr[i-1] + 1 != arr[i]:\n",
    "            return arr[i]\n",
    "arr = [1, 2, 3, 4, 5, 6, 7, 9, 10]\n",
    "first_non_consecutive(arr)"
   ]
  },
  {
   "cell_type": "markdown",
   "metadata": {},
   "source": [
    "### 3. Given a number n, return the number of positive odd numbers below n, EASY!\n",
    "\n",
    "* Examples (Input -> Output)\n",
    "\n",
    "* 7  -> 3 (because odd numbers below 7 are [1, 3, 5])\n",
    "* 15 -> 7 (because odd numbers below 15 are [1, 3, 5, 7, 9, 11, 13])"
   ]
  },
  {
   "cell_type": "code",
   "execution_count": 29,
   "metadata": {},
   "outputs": [
    {
     "data": {
      "text/plain": [
       "3"
      ]
     },
     "execution_count": 29,
     "metadata": {},
     "output_type": "execute_result"
    }
   ],
   "source": [
    "def odd_count(n):\n",
    "    counter = 0\n",
    "    for i in range(n):\n",
    "        if i % 2:\n",
    "            counter += 1\n",
    "    return counter\n",
    "odd_count(7)"
   ]
  },
  {
   "cell_type": "code",
   "execution_count": 35,
   "metadata": {},
   "outputs": [
    {
     "data": {
      "text/plain": [
       "5"
      ]
     },
     "execution_count": 35,
     "metadata": {},
     "output_type": "execute_result"
    }
   ],
   "source": [
    "def odd_count(n):\n",
    "    return n // 2\n",
    "     \n",
    "odd_count(11)"
   ]
  },
  {
   "cell_type": "markdown",
   "metadata": {},
   "source": [
    "### The goal of this exercise is to convert a string to a new string where each character in the new string is \"(\" if that character appears only once in the original string, or \")\" if that character appears more than once in the original string. Ignore capitalization when determining if a character is a duplicate.\n",
    "\n",
    "### Examples\n",
    "\n",
    "* \"din\"      =>  \"(((\"\n",
    "* \"recede\"   =>  \"()()()\"\n",
    "* \"Success\"  =>  \")())())\"\n",
    "* \"(( @\"     =>  \"))((\" \n",
    "* Notes\n",
    "\n",
    "#### Assertion messages may be unclear about what they display in some languages. If you read \"...It Should encode XXX\", the \"XXX\" is the expected result, not the input!"
   ]
  },
  {
   "cell_type": "code",
   "execution_count": 56,
   "metadata": {},
   "outputs": [
    {
     "name": "stdout",
     "output_type": "stream",
     "text": [
      "(((())"
     ]
    }
   ],
   "source": [
    "def duplicate_encode(word):\n",
    "    counter = 0\n",
    "    word_1 = word.lower()\n",
    "    for i in word_1:\n",
    "        if word_1.count(i) >= 2:\n",
    "           print(')', end = '')\n",
    "        else:\n",
    "            print('(', end = '')\n",
    "    return \n",
    "            \n",
    "duplicate_encode(\"selamm\")\n",
    "    "
   ]
  },
  {
   "cell_type": "code",
   "execution_count": 54,
   "metadata": {},
   "outputs": [
    {
     "data": {
      "text/plain": [
       "'(((())'"
      ]
     },
     "execution_count": 54,
     "metadata": {},
     "output_type": "execute_result"
    }
   ],
   "source": [
    "def duplicate_encode(word):\n",
    "    word_1 = word.lower()\n",
    "    return ( \"\".join(')' if word_1.count(i) >= 2 else '(' for i in word_1) )\n",
    "    \n",
    "duplicate_encode(\"selamm\")  \n",
    "     "
   ]
  }
 ],
 "metadata": {
  "interpreter": {
   "hash": "aee8b7b246df8f9039afb4144a1f6fd8d2ca17a180786b69acc140d282b71a49"
  },
  "kernelspec": {
   "display_name": "Python 3.10.0rc2 64-bit",
   "language": "python",
   "name": "python3"
  },
  "language_info": {
   "codemirror_mode": {
    "name": "ipython",
    "version": 3
   },
   "file_extension": ".py",
   "mimetype": "text/x-python",
   "name": "python",
   "nbconvert_exporter": "python",
   "pygments_lexer": "ipython3",
   "version": "3.10.0"
  },
  "orig_nbformat": 4
 },
 "nbformat": 4,
 "nbformat_minor": 2
}
